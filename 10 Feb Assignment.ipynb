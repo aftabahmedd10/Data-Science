{
 "cells": [
  {
   "cell_type": "code",
   "execution_count": 1,
   "id": "c89bbea8",
   "metadata": {},
   "outputs": [],
   "source": [
    "# 10 Feb Assignment"
   ]
  },
  {
   "cell_type": "markdown",
   "id": "e443b12e",
   "metadata": {},
   "source": [
    "###### Q1. Which function is used to open a file? What are the different modes of opening a file? Explain each mode of file opening."
   ]
  },
  {
   "cell_type": "markdown",
   "id": "1a793c19",
   "metadata": {},
   "source": [
    "The function used to open a file is called open(). The open() function allows you to interact with files by providing various modes for reading, writing, and appending data."
   ]
  },
  {
   "cell_type": "raw",
   "id": "52edbdd4",
   "metadata": {},
   "source": [
    "file_object = open(file_path, mode)"
   ]
  },
  {
   "cell_type": "markdown",
   "id": "83ee0156",
   "metadata": {},
   "source": [
    "Different modes of opening a file in Python are as follows:\n",
    "\n",
    "###### Read mode ('r'):\n",
    "This mode is used for reading data from a file. The file's content can be accessed, but writing or modifying the file is not allowed. If the file does not exist, an error will occur.\n",
    "Example: file_object = open('example.txt', 'r')\n",
    "\n",
    "###### Write mode ('w'):\n",
    "This mode is used to write data to a file. If the file does not exist, a new file is created. If the file exists, its previous content will be truncated (erased). Be cautious while using this mode, as it can lead to data loss.\n",
    "Example: file_object = open('example.txt', 'w')\n",
    "\n",
    "###### Append mode ('a'):\n",
    "This mode is used to append data to the end of the file. If the file does not exist, a new file is created. The existing content remains intact, and new data is added at the end of the file.\n",
    "Example: file_object = open('example.txt', 'a')\n",
    "\n",
    "###### Binary mode ('b'):\n",
    "This mode is used in conjunction with other modes to work with binary files, such as images, audio, etc. For example, 'rb' is used for reading a binary file, and 'wb' is used for writing a binary file.\n",
    "\n",
    "###### Read and Write mode ('r+'):\n",
    "This mode allows both reading and writing to the file. The file is not truncated, and writing starts from the beginning of the file. Be careful, as using this mode might cause unexpected results when you read and write simultaneously.\n",
    "\n",
    "###### Write and Read mode ('w+'):\n",
    "This mode allows both reading and writing, similar to 'r+', but if the file does not exist, a new file is created. If the file exists, its previous content is truncated.\n",
    "\n",
    "###### Append and Read mode ('a+'):\n",
    "This mode allows both reading and appending. It enables reading from the file and appending data at the end. If the file does not exist, a new file is created."
   ]
  },
  {
   "cell_type": "code",
   "execution_count": null,
   "id": "fffce7a7",
   "metadata": {},
   "outputs": [],
   "source": []
  },
  {
   "cell_type": "markdown",
   "id": "e807d9c0",
   "metadata": {},
   "source": [
    "###### Q2. Why close() function is used? Why is it important to close a file?"
   ]
  },
  {
   "cell_type": "markdown",
   "id": "ae46bd1d",
   "metadata": {},
   "source": [
    "The close() function is used to close a file that was opened using the open() function. It is essential to close a file after you have finished reading from or writing to it. Closing a file is important for several reasons:\n",
    "\n",
    "###### Freeing Up System Resources:\n",
    "When a file is opened, the operating system allocates certain resources to handle the file operations. If you don't close the file properly, these resources may not be released immediately, leading to inefficient use of system resources. If you open too many files without closing them, your program may eventually run out of available resources.\n",
    "\n",
    "###### Data Integrity:\n",
    "When you write data to a file, some data might be temporarily stored in memory buffers. The close() function ensures that any buffered data is flushed (written) to the file before it is closed. If you don't close the file and the program terminates unexpectedly, the buffered data might not get saved, leading to potential data loss or corruption.\n",
    "\n",
    "###### Avoiding File Locking: \n",
    "Some operating systems may lock a file while it is open by a program. This means that other programs or processes might be unable to access or modify the file until it is closed. By closing the file properly, you release the lock, allowing other processes to work with the file if needed.\n",
    "\n",
    "######Writing Data Properly:\n",
    "When you write to a file, the operating system keeps track of the file's size and metadata. If you don't close the file properly, the size and metadata might not be updated correctly, leading to unexpected behavior when you try to access the file later.\n",
    "\n",
    "To ensure that you always close files properly, it's a good practice to use the with statement in Python, as mentioned in the previous response. The with statement automatically takes care of closing the file for you when the block inside it is exited, whether it completes successfully or raises an exception."
   ]
  },
  {
   "cell_type": "raw",
   "id": "b9f321d3",
   "metadata": {},
   "source": [
    "with open('example.txt', 'r') as file_object:\n",
    "    # Some Operatations here\n",
    "# File is automatically closed. no need for explicit close()\n"
   ]
  },
  {
   "cell_type": "code",
   "execution_count": null,
   "id": "7b0b4dcc",
   "metadata": {},
   "outputs": [],
   "source": []
  },
  {
   "cell_type": "markdown",
   "id": "34a31d97",
   "metadata": {},
   "source": [
    "###### Q3. Write a python program to create a text file. Write ‘I want to become a Data Scientist’ in that file. Then close the file. Open this file and read the content of the file."
   ]
  },
  {
   "cell_type": "code",
   "execution_count": 2,
   "id": "ce0ac749",
   "metadata": {},
   "outputs": [
    {
     "name": "stdout",
     "output_type": "stream",
     "text": [
      "File created and written successfully.\n",
      "Content of the file:\n",
      "I want to become a Data Scientist\n"
     ]
    }
   ],
   "source": [
    "def create_and_write_file(file_path, content):\n",
    "    try:\n",
    "        with open(file_path, 'w') as file:\n",
    "            file.write(content)  \n",
    "        print(\"File created and written successfully.\")\n",
    "\n",
    "    except IOError as e:\n",
    "        print(\"Error occurred:\", e)\n",
    "\n",
    "\n",
    "def read_file(file_path):\n",
    "    try:\n",
    "        with open(file_path, 'r') as file:\n",
    "            content = file.read()  \n",
    "        return content.strip()  \n",
    "\n",
    "    except IOError as e:\n",
    "        print(\"Error occurred:\", e)\n",
    "        return None\n",
    "\n",
    "\n",
    "if __name__ == \"__main__\":\n",
    "    file_path = \"data_scientist.txt\"\n",
    "    content = \"I want to become a Data Scientist\"\n",
    "\n",
    "    create_and_write_file(file_path, content)\n",
    "    \n",
    "    content_read = read_file(file_path)\n",
    "    if content_read:\n",
    "        print(\"Content of the file:\")\n",
    "        print(content_read)\n"
   ]
  },
  {
   "cell_type": "code",
   "execution_count": null,
   "id": "eb758cd6",
   "metadata": {},
   "outputs": [],
   "source": []
  },
  {
   "cell_type": "markdown",
   "id": "580e1c98",
   "metadata": {},
   "source": [
    "###### Q4. Explain the following with python code: read(), readline() and readlines()."
   ]
  },
  {
   "cell_type": "markdown",
   "id": "c24bd773",
   "metadata": {},
   "source": [
    "read(), readline(), and readlines() are methods used to read data from a file. Each method provides a different way to access the contents of the file.\n",
    "\n",
    "###### read():\n",
    "The read() method is used to read the entire content of a file as a single string. It reads from the current file position until the end of the file."
   ]
  },
  {
   "cell_type": "code",
   "execution_count": 3,
   "id": "61e6ec86",
   "metadata": {},
   "outputs": [
    {
     "name": "stdout",
     "output_type": "stream",
     "text": [
      "Content of the file:\n",
      "I want to become a Data Scientist\n"
     ]
    }
   ],
   "source": [
    "def read_entire_file(file_path):\n",
    "    try:\n",
    "        with open(file_path, 'r') as file:\n",
    "            content = file.read()  \n",
    "        return content\n",
    "\n",
    "    except IOError as e:\n",
    "        print(\"Error occurred:\", e)\n",
    "        return None\n",
    "\n",
    "\n",
    "if __name__ == \"__main__\":\n",
    "    file_path = \"data_scientist.txt\"\n",
    "    content_read = read_entire_file(file_path)\n",
    "    if content_read:\n",
    "        print(\"Content of the file:\")\n",
    "        print(content_read)\n"
   ]
  },
  {
   "cell_type": "markdown",
   "id": "ca6533ed",
   "metadata": {},
   "source": [
    "###### readline():\n",
    "The readline() method is used to read a single line from the file. Each time you call readline(), it reads the next line from the current file position and moves the pointer to the next line."
   ]
  },
  {
   "cell_type": "code",
   "execution_count": 4,
   "id": "b86211e4",
   "metadata": {},
   "outputs": [
    {
     "name": "stdout",
     "output_type": "stream",
     "text": [
      "I want to become a Data Scientist\n"
     ]
    }
   ],
   "source": [
    "def read_lines_one_by_one(file_path):\n",
    "    try:\n",
    "        with open(file_path, 'r') as file:\n",
    "            line = file.readline()\n",
    "            while line:\n",
    "                print(line.strip())  \n",
    "                line = file.readline()\n",
    "\n",
    "    except IOError as e:\n",
    "        print(\"Error occurred:\", e)\n",
    "\n",
    "\n",
    "if __name__ == \"__main__\":\n",
    "    file_path = \"data_scientist.txt\"\n",
    "    read_lines_one_by_one(file_path)\n"
   ]
  },
  {
   "cell_type": "markdown",
   "id": "7b67805b",
   "metadata": {},
   "source": [
    "###### readlines():\n",
    "The readlines() method is used to read all the lines from the file and returns them as a list of strings. Each element of the list represents a line from the file, including the newline character at the end of each line."
   ]
  },
  {
   "cell_type": "code",
   "execution_count": 5,
   "id": "39528c2c",
   "metadata": {},
   "outputs": [
    {
     "name": "stdout",
     "output_type": "stream",
     "text": [
      "Lines from the file:\n",
      "I want to become a Data Scientist\n"
     ]
    }
   ],
   "source": [
    "def read_all_lines_into_list(file_path):\n",
    "    try:\n",
    "        with open(file_path, 'r') as file:\n",
    "            lines = file.readlines()  # Read all lines and store them in a list\n",
    "        return lines\n",
    "\n",
    "    except IOError as e:\n",
    "        print(\"Error occurred:\", e)\n",
    "        return None\n",
    "\n",
    "\n",
    "if __name__ == \"__main__\":\n",
    "    file_path = \"data_scientist.txt\"\n",
    "    lines_read = read_all_lines_into_list(file_path)\n",
    "    if lines_read:\n",
    "        print(\"Lines from the file:\")\n",
    "        for line in lines_read:\n",
    "            print(line.strip())  # Strip newline character from each line\n"
   ]
  },
  {
   "cell_type": "code",
   "execution_count": null,
   "id": "9e0501b4",
   "metadata": {},
   "outputs": [],
   "source": []
  },
  {
   "cell_type": "markdown",
   "id": "3f2e026b",
   "metadata": {},
   "source": [
    "###### Q5. Explain why with statement is used with open(). What is the advantage of using with statement and open() together?"
   ]
  },
  {
   "cell_type": "markdown",
   "id": "6f8bfaf7",
   "metadata": {},
   "source": [
    "The with statement in Python is used in conjunction with the open() function when working with files. It provides a convenient and safe way to open and automatically close files, ensuring proper resource management and exception handling.\n",
    "\n",
    "Advantages of using the with statement with open():\n",
    "\n",
    "###### Automatic Resource Management: \n",
    "When you use the with statement, the file is automatically closed once the indented block of code under the with statement is executed or when an exception occurs. This ensures that the file is closed properly, freeing up system resources, and preventing resource leaks.\n",
    "\n",
    "###### Exception Handling: \n",
    "The with statement handles exceptions more gracefully. If an error occurs while working with the file inside the with block, the file is still guaranteed to be closed automatically. This avoids leaving files open in the event of an exception, which could otherwise lead to unexpected behavior or data corruption.\n",
    "\n",
    "###### Cleaner and More Readable Code: \n",
    "The with statement makes the code more readable and concise. It clearly indicates the scope in which the file is being used and closed, improving code readability.\n",
    "\n",
    "###### Safe and Robust File Operations: \n",
    "By using the with statement, you can be confident that files are being handled safely, even in complex scenarios where multiple file operations or operations with different files are involved."
   ]
  },
  {
   "cell_type": "code",
   "execution_count": null,
   "id": "bcf2b23a",
   "metadata": {},
   "outputs": [],
   "source": []
  },
  {
   "cell_type": "markdown",
   "id": "1eec2326",
   "metadata": {},
   "source": [
    "###### Q6. Explain the write() and writelines() functions. Give a suitable example."
   ]
  },
  {
   "cell_type": "markdown",
   "id": "4cfb7c81",
   "metadata": {},
   "source": [
    "write() and writelines() functions are used to write data to a file.\n",
    "\n",
    "###### write():\n",
    "The write() function is used to write a single string of data to a file. It takes a string as input and writes it to the file at the current file position. If the file is opened in text mode, the string is written as-is. If the file is opened in binary mode, the string should be in bytes format.\n",
    "\n",
    "#### writelines():\n",
    "The writelines() function is used to write multiple lines of data to a file. It takes a list of strings as input, where each string represents a line of data, and writes them consecutively to the file."
   ]
  },
  {
   "cell_type": "code",
   "execution_count": 6,
   "id": "11291a11",
   "metadata": {},
   "outputs": [
    {
     "name": "stdout",
     "output_type": "stream",
     "text": [
      "Content written to the file successfully.\n"
     ]
    }
   ],
   "source": [
    "def write_to_file(file_path, content):\n",
    "    try:\n",
    "        with open(file_path, 'w') as file:\n",
    "            file.write(content)  # Write the content to the file\n",
    "        print(\"Content written to the file successfully.\")\n",
    "\n",
    "    except IOError as e:\n",
    "        print(\"Error occurred:\", e)\n",
    "\n",
    "\n",
    "if __name__ == \"__main__\":\n",
    "    file_path = \"data_scientist.txt\"\n",
    "    content_to_write = \"Started learning Data Science after taking a long gap of 6 months\"\n",
    "\n",
    "    write_to_file(file_path, content_to_write)\n"
   ]
  },
  {
   "cell_type": "code",
   "execution_count": 7,
   "id": "35ed4d7b",
   "metadata": {},
   "outputs": [
    {
     "name": "stdout",
     "output_type": "stream",
     "text": [
      "Lines written to the file successfully.\n"
     ]
    }
   ],
   "source": [
    "def write_lines_to_file(file_path, lines):\n",
    "    try:\n",
    "        with open(file_path, 'w') as file:\n",
    "            file.writelines(lines)  # Write all lines to the file\n",
    "        print(\"Lines written to the file successfully.\")\n",
    "\n",
    "    except IOError as e:\n",
    "        print(\"Error occurred:\", e)\n",
    "\n",
    "\n",
    "if __name__ == \"__main__\":\n",
    "    file_path = \"data_scientist.txt\"\n",
    "    lines_to_write = [\"Python\\n\", \"ML\\n\", \"DL\\n\", \"Language Models\\n\"]\n",
    "\n",
    "    write_lines_to_file(file_path, lines_to_write)\n"
   ]
  },
  {
   "cell_type": "code",
   "execution_count": null,
   "id": "abba7485",
   "metadata": {},
   "outputs": [],
   "source": []
  }
 ],
 "metadata": {
  "kernelspec": {
   "display_name": "Python 3 (ipykernel)",
   "language": "python",
   "name": "python3"
  },
  "language_info": {
   "codemirror_mode": {
    "name": "ipython",
    "version": 3
   },
   "file_extension": ".py",
   "mimetype": "text/x-python",
   "name": "python",
   "nbconvert_exporter": "python",
   "pygments_lexer": "ipython3",
   "version": "3.9.7"
  }
 },
 "nbformat": 4,
 "nbformat_minor": 5
}
