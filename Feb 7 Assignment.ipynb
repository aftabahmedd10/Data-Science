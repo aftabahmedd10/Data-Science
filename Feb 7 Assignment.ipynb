{
 "cells": [
  {
   "cell_type": "code",
   "execution_count": null,
   "id": "95d797d7",
   "metadata": {},
   "outputs": [],
   "source": []
  },
  {
   "cell_type": "markdown",
   "id": "9cb59c79",
   "metadata": {},
   "source": [
    "## Feb 7 Assignment"
   ]
  },
  {
   "cell_type": "code",
   "execution_count": null,
   "id": "3ca06537",
   "metadata": {},
   "outputs": [],
   "source": []
  },
  {
   "cell_type": "markdown",
   "id": "37fb17db",
   "metadata": {},
   "source": [
    "###### Q1. You are writing code for a company. The requirement of the company is that you create a python function that will check whether the password entered by the user is correct or not. The function should take the password as input and return the string “Valid Password” if the entered password follows the below-given password guidelines else it should return “Invalid Password”. \n",
    "\n",
    "Note: \n",
    "1. The Password should contain at least two uppercase letters and at least two lowercase letters.\n",
    "2. The Password should contain at least a number and three special characters.\n",
    "3. The length of the password should be 10 characters long."
   ]
  },
  {
   "cell_type": "code",
   "execution_count": 1,
   "id": "22fd75cc",
   "metadata": {},
   "outputs": [
    {
     "name": "stdout",
     "output_type": "stream",
     "text": [
      "AasD21@#\n",
      "Invalid Password\n",
      "\n",
      "Aa@Dd#123$\n",
      "valid Password\n"
     ]
    }
   ],
   "source": [
    "def validatePassword(password):\n",
    "    lower, upper, number, special = 0, 0, 0, 0\n",
    "    for ch in password:\n",
    "        if ch.islower():\n",
    "            lower += 1\n",
    "        elif ch.isupper():\n",
    "            upper += 1\n",
    "        elif ch.isdigit():\n",
    "            number += 1\n",
    "        elif not ch == ' ':\n",
    "            special += 1\n",
    "            \n",
    "    if lower >= 2 and upper >= 2 and number >= 1 and special >= 3 and len(password) == 10:\n",
    "        return 'valid Password'\n",
    "    return 'Invalid Password'\n",
    "\n",
    "password = input()\n",
    "print(validatePassword(password), end = \"\\n\\n\")\n",
    "\n",
    "password = input()\n",
    "print(validatePassword(password))"
   ]
  },
  {
   "cell_type": "code",
   "execution_count": null,
   "id": "6ec5a678",
   "metadata": {},
   "outputs": [],
   "source": []
  },
  {
   "cell_type": "markdown",
   "id": "fe90851f",
   "metadata": {},
   "source": [
    "###### Q2. Solve the below-given questions using at least one of the following:\n",
    "1. Lambda function\n",
    "2. Filter function\n",
    "3. Map function\n",
    "4. List Comprehension\n",
    "\n",
    "* Check if the string starts with a particular letter\n",
    "* Check if the string is numeric\n",
    "* Sort a list of tuples having fruit names and their quantity. [(\"mango\",99),(\"orange\",80), (\"grapes\", 1000)]\n",
    "* Find the squares of numbers from 1 to 10\n",
    "* Find the cube root of numbers from 1 to 10\n",
    "* Check if a given number is even\n",
    "* Filter odd numbers from the given list\n",
    "[1,2,3,4,5,6,7,8,9,10]\n",
    "* Sort a list of integers into positive and negative integers lists.\n",
    "[1,2,3,4,5,6,-1,-2,-3,-4,-5,0]"
   ]
  },
  {
   "cell_type": "code",
   "execution_count": 2,
   "id": "d4c6aa23",
   "metadata": {},
   "outputs": [
    {
     "name": "stdout",
     "output_type": "stream",
     "text": [
      "True\n",
      "False\n"
     ]
    }
   ],
   "source": [
    "## Check if the string starts with a particular letter\n",
    "string = 'abcdef'\n",
    "print(string[0] == 'a')\n",
    "\n",
    "string = 'sdwer'\n",
    "print(string[0] == 'a')"
   ]
  },
  {
   "cell_type": "code",
   "execution_count": 3,
   "id": "97b58cec",
   "metadata": {},
   "outputs": [
    {
     "name": "stdout",
     "output_type": "stream",
     "text": [
      "True\n",
      "False\n"
     ]
    }
   ],
   "source": [
    "## Check if the string is numeric\n",
    "check = lambda x : x.isdigit()\n",
    "\n",
    "string = '12442'\n",
    "print(check(string))\n",
    "\n",
    "string = 'asd'\n",
    "print(check(string))"
   ]
  },
  {
   "cell_type": "code",
   "execution_count": 4,
   "id": "f95c3431",
   "metadata": {},
   "outputs": [
    {
     "name": "stdout",
     "output_type": "stream",
     "text": [
      "[('grapes', 1000), ('mango', 99), ('orange', 80)]\n"
     ]
    }
   ],
   "source": [
    "## Sort a list of tuples having fruit names and their quantity. [(\"mango\",99),(\"orange\",80), (\"grapes\", 1000)]\n",
    "arr = [(\"mango\",99),(\"orange\",80), (\"grapes\", 1000)]\n",
    "\n",
    "sorter = lambda x: sorted(x)\n",
    "print(sorter(arr))"
   ]
  },
  {
   "cell_type": "code",
   "execution_count": 5,
   "id": "11084056",
   "metadata": {},
   "outputs": [
    {
     "data": {
      "text/plain": [
       "[1, 4, 9, 16, 25, 36, 49, 64, 81, 100]"
      ]
     },
     "execution_count": 5,
     "metadata": {},
     "output_type": "execute_result"
    }
   ],
   "source": [
    "## Find the squares of numbers from 1 to 10\n",
    "\n",
    "list(map(lambda x: x**2, range(1,11)))"
   ]
  },
  {
   "cell_type": "code",
   "execution_count": 6,
   "id": "15037214",
   "metadata": {},
   "outputs": [
    {
     "data": {
      "text/plain": [
       "[1, 8, 27, 64, 125, 216, 343, 512, 729, 1000]"
      ]
     },
     "execution_count": 6,
     "metadata": {},
     "output_type": "execute_result"
    }
   ],
   "source": [
    "## Find the cube root of numbers from 1 to 10 \n",
    "\n",
    "list(map(lambda x: x**3, range(1,11)))"
   ]
  },
  {
   "cell_type": "code",
   "execution_count": 7,
   "id": "14bf9bd8",
   "metadata": {},
   "outputs": [
    {
     "name": "stdout",
     "output_type": "stream",
     "text": [
      "True\n",
      "False\n"
     ]
    }
   ],
   "source": [
    "## Check if a given number is even\n",
    "checker = lambda x : x%2 == 0\n",
    "\n",
    "print(checker(2))\n",
    "print(checker(5))"
   ]
  },
  {
   "cell_type": "code",
   "execution_count": 8,
   "id": "648311a0",
   "metadata": {},
   "outputs": [
    {
     "name": "stdout",
     "output_type": "stream",
     "text": [
      "[1, 3, 5, 7, 9]\n"
     ]
    }
   ],
   "source": [
    "## Filter odd numbers from the given list [1,2,3,4,5,6,7,8,9,10]\n",
    "\n",
    "lst = [1,2,3,4,5,6,7,8,9,10]\n",
    "print(list(filter(lambda x : x%2 != 0, lst)))"
   ]
  },
  {
   "cell_type": "code",
   "execution_count": 9,
   "id": "01b9d38e",
   "metadata": {},
   "outputs": [
    {
     "name": "stdout",
     "output_type": "stream",
     "text": [
      "[1, 2, 3, 4, 5, 6, 0]\n",
      "[-1, -2, -3, -4, -5]\n"
     ]
    }
   ],
   "source": [
    "## Sort a list of integers into positive and negative integers lists. [1,2,3,4,5,6,-1,-2,-3,-4,-5,0]\n",
    "arr = [1,2,3,4,5,6,-1,-2,-3,-4,-5,0]\n",
    "\n",
    "positives = list(filter(lambda x: x >= 0, arr))\n",
    "print(positives)\n",
    "\n",
    "negatives = list(filter(lambda x: x < 0, arr))\n",
    "print(negatives)"
   ]
  },
  {
   "cell_type": "code",
   "execution_count": null,
   "id": "4d34b3d4",
   "metadata": {},
   "outputs": [],
   "source": []
  },
  {
   "cell_type": "code",
   "execution_count": null,
   "id": "69a698b8",
   "metadata": {},
   "outputs": [],
   "source": []
  },
  {
   "cell_type": "code",
   "execution_count": null,
   "id": "d26ccc8d",
   "metadata": {},
   "outputs": [],
   "source": []
  }
 ],
 "metadata": {
  "kernelspec": {
   "display_name": "Python 3 (ipykernel)",
   "language": "python",
   "name": "python3"
  },
  "language_info": {
   "codemirror_mode": {
    "name": "ipython",
    "version": 3
   },
   "file_extension": ".py",
   "mimetype": "text/x-python",
   "name": "python",
   "nbconvert_exporter": "python",
   "pygments_lexer": "ipython3",
   "version": "3.9.7"
  }
 },
 "nbformat": 4,
 "nbformat_minor": 5
}
