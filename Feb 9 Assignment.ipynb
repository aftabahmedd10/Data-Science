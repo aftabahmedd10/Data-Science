{
 "cells": [
  {
   "cell_type": "code",
   "execution_count": null,
   "id": "48f452dd",
   "metadata": {},
   "outputs": [],
   "source": []
  },
  {
   "cell_type": "markdown",
   "id": "9b2c81ec",
   "metadata": {},
   "source": [
    "## Feb 9 Assignment"
   ]
  },
  {
   "cell_type": "markdown",
   "id": "4602b778",
   "metadata": {},
   "source": [
    "###### Q1. Create a vehicle class with an init method having instance variables as name_of_vehicle, max_speed and average_of_vehicle."
   ]
  },
  {
   "cell_type": "code",
   "execution_count": 1,
   "id": "82af6e78",
   "metadata": {},
   "outputs": [
    {
     "name": "stdout",
     "output_type": "stream",
     "text": [
      "Range Rover 200 10\n"
     ]
    }
   ],
   "source": [
    "class Vehicle:\n",
    "    def __init__(self, name_of_vehicle, max_speed, average_of_vehicle):\n",
    "        self.name_of_vehicle = name_of_vehicle\n",
    "        self.max_speed = max_speed\n",
    "        self.average_of_vehicle = average_of_vehicle\n",
    "        \n",
    "    def display(self):\n",
    "        print(self.name_of_vehicle, self.max_speed, self.average_of_vehicle)\n",
    "        \n",
    "veh1 = Vehicle(\"Range Rover\", 200, 10)\n",
    "veh1.display()"
   ]
  },
  {
   "cell_type": "code",
   "execution_count": null,
   "id": "a9f862e3",
   "metadata": {},
   "outputs": [],
   "source": []
  },
  {
   "cell_type": "markdown",
   "id": "e9da7130",
   "metadata": {},
   "source": [
    "###### Q2. Create a child class car from the vehicle class created in Que 1, which will inherit the vehicle class. Create a method named seating_capacity which takes capacity as an argument and returns the name of the vehicle and its seating capacity."
   ]
  },
  {
   "cell_type": "code",
   "execution_count": 2,
   "id": "e375abc9",
   "metadata": {},
   "outputs": [
    {
     "name": "stdout",
     "output_type": "stream",
     "text": [
      "('Jaguar', 6)\n"
     ]
    }
   ],
   "source": [
    "class Car(Vehicle):\n",
    "    def __int__ (self, name_of_vehicle, max_speed, average_of_vehicle):\n",
    "        super(name_of_vehicle, max_speed, average_of_vehicle)\n",
    "        \n",
    "    def seating_capacity(self, capacity):\n",
    "        self.capacity = capacity\n",
    "        return self.name_of_vehicle, self.capacity\n",
    "    \n",
    "car1 = Car(\"Jaguar\", 210, 10) \n",
    "print(car1.seating_capacity(6))"
   ]
  },
  {
   "cell_type": "code",
   "execution_count": null,
   "id": "91821354",
   "metadata": {},
   "outputs": [],
   "source": []
  },
  {
   "cell_type": "markdown",
   "id": "f7bc8cad",
   "metadata": {},
   "source": [
    "###### Q3. What is multiple inheritance? Write a python code to demonstrate multiple inheritance."
   ]
  },
  {
   "cell_type": "markdown",
   "id": "ab038ed4",
   "metadata": {},
   "source": [
    "Multiple inheritance is a feature of object-oriented programming where a single class can inherit attributes and methods from multiple parent classes. This allows the child class to inherit the attributes and methods of multiple parent classes. In Python, a child class can inherit attributes and methods from multiple parent classes by specifying multiple parent class names in the parentheses after the child class name, separated by commas. "
   ]
  },
  {
   "cell_type": "code",
   "execution_count": 3,
   "id": "4f71928c",
   "metadata": {},
   "outputs": [
    {
     "name": "stdout",
     "output_type": "stream",
     "text": [
      "Information about Vehicle\n",
      "Information about Citizen\n",
      "Information about Customer\n"
     ]
    }
   ],
   "source": [
    "class Vehicle:\n",
    "    def vehicleInfo(self):\n",
    "        print(\"Information about Vehicle\")\n",
    "        \n",
    "class Citizen:\n",
    "    def citizenInfo(self):\n",
    "        print(\"Information about Citizen\")\n",
    "        \n",
    "class Customer(Vehicle, Citizen):\n",
    "    def customerInfo(self):\n",
    "        print(\"Information about Customer\")\n",
    "\n",
    "cust1 = Customer()\n",
    "\n",
    "cust1.vehicleInfo()\n",
    "cust1.citizenInfo()\n",
    "cust1.customerInfo()"
   ]
  },
  {
   "cell_type": "code",
   "execution_count": null,
   "id": "596215b3",
   "metadata": {},
   "outputs": [],
   "source": []
  },
  {
   "cell_type": "markdown",
   "id": "d2cd84c7",
   "metadata": {},
   "source": [
    "###### Q4. What are getter and setter in python? Create a class and create a getter and a setter method in this class."
   ]
  },
  {
   "cell_type": "markdown",
   "id": "8f5af4bf",
   "metadata": {},
   "source": [
    "Getters and setters are special methods in classes that provide access to an object's internal data. Getters are used to retrieve the value of an object's attributes, while setters are used to change the value of an object's attributes."
   ]
  },
  {
   "cell_type": "code",
   "execution_count": 4,
   "id": "970e2f9c",
   "metadata": {},
   "outputs": [
    {
     "name": "stdout",
     "output_type": "stream",
     "text": [
      "John\n",
      "25\n"
     ]
    }
   ],
   "source": [
    "class Student:\n",
    "    def __init__(self, name, age):\n",
    "        self.__name = name\n",
    "        self.__age = age\n",
    "        \n",
    "    def get_name(self):\n",
    "        return self.__name\n",
    "    \n",
    "    def set_name(self, name):\n",
    "        self.__name = name\n",
    "        \n",
    "    def get_age(self):\n",
    "        return self.__age\n",
    "    \n",
    "    def set_age(self, age):\n",
    "        self.__age = age\n",
    "        \n",
    "        \n",
    "s = Student(\"John\", 25)\n",
    "print(s.get_name()) \n",
    "print(s.get_age())"
   ]
  },
  {
   "cell_type": "code",
   "execution_count": null,
   "id": "69f6cf2d",
   "metadata": {},
   "outputs": [],
   "source": []
  },
  {
   "cell_type": "markdown",
   "id": "4da3fe78",
   "metadata": {},
   "source": [
    "###### Q5.What is method overriding in python? Write a python code to demonstrate method overriding."
   ]
  },
  {
   "cell_type": "markdown",
   "id": "6859b8c0",
   "metadata": {},
   "source": [
    "Method overriding is a feature in object-oriented programming that allows a subclass or derived class to provide a different implementation for a method that is already defined in its parent class. This allows the subclass to inherit the functionality of the parent class and at the same time, have its own unique implementation for certain methods."
   ]
  },
  {
   "cell_type": "code",
   "execution_count": 5,
   "id": "d5190d86",
   "metadata": {},
   "outputs": [
    {
     "name": "stdout",
     "output_type": "stream",
     "text": [
      "In Child Class\n"
     ]
    }
   ],
   "source": [
    "class Parent:\n",
    "    def display(self):\n",
    "        print(\"In Parent Class\")\n",
    "\n",
    "class Child(Parent):\n",
    "    def display(self):\n",
    "        print(\"In Child Class\")\n",
    "        \n",
    "child1 = Child()\n",
    "child1.display()"
   ]
  },
  {
   "cell_type": "code",
   "execution_count": null,
   "id": "968936fe",
   "metadata": {},
   "outputs": [],
   "source": []
  },
  {
   "cell_type": "code",
   "execution_count": null,
   "id": "f368762e",
   "metadata": {},
   "outputs": [],
   "source": []
  },
  {
   "cell_type": "code",
   "execution_count": null,
   "id": "c085b432",
   "metadata": {},
   "outputs": [],
   "source": []
  }
 ],
 "metadata": {
  "kernelspec": {
   "display_name": "Python 3 (ipykernel)",
   "language": "python",
   "name": "python3"
  },
  "language_info": {
   "codemirror_mode": {
    "name": "ipython",
    "version": 3
   },
   "file_extension": ".py",
   "mimetype": "text/x-python",
   "name": "python",
   "nbconvert_exporter": "python",
   "pygments_lexer": "ipython3",
   "version": "3.9.7"
  }
 },
 "nbformat": 4,
 "nbformat_minor": 5
}
