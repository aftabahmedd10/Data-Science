{
 "cells": [
  {
   "cell_type": "code",
   "execution_count": null,
   "id": "fba31991",
   "metadata": {},
   "outputs": [],
   "source": []
  },
  {
   "cell_type": "code",
   "execution_count": 1,
   "id": "649bfac4",
   "metadata": {},
   "outputs": [],
   "source": [
    "## 30 January Assignment Answers"
   ]
  },
  {
   "cell_type": "code",
   "execution_count": 2,
   "id": "14b17c36",
   "metadata": {},
   "outputs": [
    {
     "name": "stdout",
     "output_type": "stream",
     "text": [
      "Enter your percentage: 91\n",
      "Your Grade:  A\n"
     ]
    }
   ],
   "source": [
    "## Write a program to accept percentage from the user and display the grade\n",
    "\n",
    "percentage = int(input(\"Enter your percentage: \"))\n",
    "grade = ''\n",
    "if percentage > 90:\n",
    "    grade = 'A'\n",
    "elif percentage > 80:\n",
    "    grade = 'B'\n",
    "elif percentage >= 60:\n",
    "    grade = 'C'\n",
    "else:\n",
    "    grade = 'D'\n",
    "    \n",
    "print(\"Your Grade: \", grade)"
   ]
  },
  {
   "cell_type": "code",
   "execution_count": 3,
   "id": "c7f9aefa",
   "metadata": {},
   "outputs": [
    {
     "name": "stdout",
     "output_type": "stream",
     "text": [
      "Enter cost of the bike: 200000\n",
      "Tax to be paid: 30000.0\n"
     ]
    }
   ],
   "source": [
    "## Write a program to take cost price of a bike and display the road tax to be paid\n",
    "costPrice = int(input(\"Enter cost of the bike: \"))\n",
    "tax = 0\n",
    "if costPrice > 100000:\n",
    "    tax = costPrice * 0.15\n",
    "elif costPrice > 50000:\n",
    "    tax = costPrice * 0.10\n",
    "else:\n",
    "    tax = costPrice * 0.05\n",
    "    \n",
    "print(\"Tax to be paid: {}\".format(tax))"
   ]
  },
  {
   "cell_type": "code",
   "execution_count": 4,
   "id": "c6adc7db",
   "metadata": {},
   "outputs": [
    {
     "name": "stdout",
     "output_type": "stream",
     "text": [
      "Enter name of the city:            AGRA\n",
      "Taj Mahal\n"
     ]
    }
   ],
   "source": [
    "#Accept city from the user and display monuments of that city\n",
    "\n",
    "monuments = {'delhi': 'Red Fort', 'agra': 'Taj Mahal', 'jaipur': 'Jal Mahal'}\n",
    "city = input(\"Enter name of the city: \").strip().lower()\n",
    "print(monuments[city])"
   ]
  },
  {
   "cell_type": "code",
   "execution_count": 5,
   "id": "76bea78c",
   "metadata": {},
   "outputs": [
    {
     "name": "stdout",
     "output_type": "stream",
     "text": [
      "Enter a number: 99\n",
      "Ans:  3\n"
     ]
    }
   ],
   "source": [
    "## Check how many times a number can be divided by 3 before it is lessthan or equal to 10\n",
    "\n",
    "n = int(input(\"Enter a number: \"))\n",
    "count = 0\n",
    "while n >= 10:\n",
    "    n //= 3\n",
    "    count += 1\n",
    "    \n",
    "print(\"Ans: \", count)"
   ]
  },
  {
   "cell_type": "code",
   "execution_count": 6,
   "id": "5341f08b",
   "metadata": {},
   "outputs": [],
   "source": [
    "## When and why to use while loop in python give a detailed description with an example"
   ]
  },
  {
   "cell_type": "raw",
   "id": "10676780",
   "metadata": {},
   "source": [
    "while loop is used to execute a block of code repeatedly as long as the condition in the while loop remains true. \n",
    "\n",
    "Ex:\n",
    "sum,i = 0,0\n",
    "while i < 100:\n",
    "    sum += i\n",
    "    i += 1\n",
    "print(sum)\n",
    "\n",
    "It is important to note the condition in the while loop. If the condition does not become false, it will continue to iterate for infinite time. It is our responsibility to make sure the condition will become false at some point."
   ]
  },
  {
   "cell_type": "code",
   "execution_count": 7,
   "id": "ad501e0f",
   "metadata": {},
   "outputs": [
    {
     "name": "stdout",
     "output_type": "stream",
     "text": [
      "5\n",
      "* \n",
      "* * \n",
      "* * * \n",
      "* * * * \n",
      "* * * * * \n"
     ]
    }
   ],
   "source": [
    "## Use nested while loops to create 3 different patterns\n",
    "n = int(input())\n",
    "i = 0\n",
    "while i < n:\n",
    "    j = 0\n",
    "    while j <= i:\n",
    "        print('* ', end = '')\n",
    "        j += 1\n",
    "    i += 1\n",
    "    print()"
   ]
  },
  {
   "cell_type": "code",
   "execution_count": 8,
   "id": "20e6bc8a",
   "metadata": {},
   "outputs": [
    {
     "name": "stdout",
     "output_type": "stream",
     "text": [
      "5\n",
      "* * * * * \n",
      "* * * * \n",
      "* * * \n",
      "* * \n",
      "* \n"
     ]
    }
   ],
   "source": [
    "n = int(input())\n",
    "i = 0\n",
    "while i < n:\n",
    "    j = 0\n",
    "    while j < n-i:\n",
    "        print('* ', end = \"\")\n",
    "        j += 1\n",
    "    i += 1\n",
    "    print()"
   ]
  },
  {
   "cell_type": "code",
   "execution_count": 9,
   "id": "162bc0d6",
   "metadata": {},
   "outputs": [
    {
     "name": "stdout",
     "output_type": "stream",
     "text": [
      "5\n",
      "     * \n",
      "    * * \n",
      "   * * * \n",
      "  * * * * \n",
      " * * * * * \n"
     ]
    }
   ],
   "source": [
    "n = int(input())\n",
    "i = 0\n",
    "while i < n:\n",
    "    j,k = 0,0\n",
    "    while k < (n-i):\n",
    "        print(' ', end = '')\n",
    "        k += 1\n",
    "    while j <= i:\n",
    "        print('* ', end = '')\n",
    "        j += 1\n",
    "    i += 1\n",
    "    print()"
   ]
  },
  {
   "cell_type": "code",
   "execution_count": 10,
   "id": "8dcf7f45",
   "metadata": {},
   "outputs": [
    {
     "name": "stdout",
     "output_type": "stream",
     "text": [
      "10 9 8 7 6 5 4 3 2 1 "
     ]
    }
   ],
   "source": [
    "## Reverse a while loop to display numbers from 10 to 1\n",
    "n = 10\n",
    "while n > 0:\n",
    "    print(n, end = ' ')\n",
    "    n -= 1"
   ]
  },
  {
   "cell_type": "code",
   "execution_count": null,
   "id": "51e7b79d",
   "metadata": {},
   "outputs": [],
   "source": []
  },
  {
   "cell_type": "code",
   "execution_count": null,
   "id": "d3e7730a",
   "metadata": {},
   "outputs": [],
   "source": []
  },
  {
   "cell_type": "code",
   "execution_count": null,
   "id": "6460504a",
   "metadata": {},
   "outputs": [],
   "source": []
  }
 ],
 "metadata": {
  "kernelspec": {
   "display_name": "Python 3 (ipykernel)",
   "language": "python",
   "name": "python3"
  },
  "language_info": {
   "codemirror_mode": {
    "name": "ipython",
    "version": 3
   },
   "file_extension": ".py",
   "mimetype": "text/x-python",
   "name": "python",
   "nbconvert_exporter": "python",
   "pygments_lexer": "ipython3",
   "version": "3.9.7"
  }
 },
 "nbformat": 4,
 "nbformat_minor": 5
}
