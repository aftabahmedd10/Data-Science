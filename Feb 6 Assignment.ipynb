{
 "cells": [
  {
   "cell_type": "code",
   "execution_count": null,
   "id": "8815dcf9",
   "metadata": {},
   "outputs": [],
   "source": []
  },
  {
   "cell_type": "markdown",
   "id": "77fcf366",
   "metadata": {},
   "source": [
    "## Feb 6 Assignment"
   ]
  },
  {
   "cell_type": "markdown",
   "id": "c22d8e90",
   "metadata": {},
   "source": [
    "###### Q1. Create a function which will take a list as an argument and return the product of all the numbers after creating a flat list. Use the below-given list as an argument for your function.\n",
    "list1 = [1,2,3,4, [44,55,66, True], False, (34,56,78,89,34), {1,2,3,3,2,1}, {1:34, \"key2\": [55, 67, 78, 89], 4: (45,\n",
    "22, 61, 34)}, [56, 'data science'], 'Machine Learning']\n",
    "\n",
    "Note: you must extract numeric keys and values of the dictionary also."
   ]
  },
  {
   "cell_type": "code",
   "execution_count": 1,
   "id": "8776b1bf",
   "metadata": {},
   "outputs": [
    {
     "name": "stdout",
     "output_type": "stream",
     "text": [
      "[1, 2, 3, 4, 44, 55, 66, 34, 56, 78, 89, 34, 1, 2, 3, 1, 34, 55, 67, 78, 89, 4, 45, 22, 61, 34, 56]\n",
      "\n",
      "Product is : 4134711838987085478833841242112000\n"
     ]
    }
   ],
   "source": [
    "from functools import reduce\n",
    "\n",
    "list1 = [1,2,3,4, [44,55,66, True], False, (34,56,78,89,34), {1,2,3,3,2,1}, {1:34, \"key2\": [55, 67, 78, 89], 4: (45,\n",
    "22, 61, 34)}, [56, 'data science'], 'Machine Learning']\n",
    "flatList = []\n",
    "\n",
    "for item in list1:\n",
    "    if type(item) == int:\n",
    "        flatList.append(item)\n",
    "    if type(item) == list or type(item) == tuple or type(item) == set:\n",
    "        for x in item:\n",
    "            if type(x) == int:\n",
    "                flatList.append(x)\n",
    "    if type(item) == dict:\n",
    "        for i, j in item.items():\n",
    "            if(type(i) == int):\n",
    "                flatList.append(i)\n",
    "                \n",
    "            if(type(j) == int):\n",
    "                flatList.append(j)\n",
    "                \n",
    "            if type(j) == list or type(j) == tuple or type(j) == set:\n",
    "                for x in j:\n",
    "                    if type(x) == int:\n",
    "                        flatList.append(x)\n",
    "print(flatList, end=\"\\n\\n\")\n",
    "\n",
    "print(\"Product is :\", reduce(lambda x,y: x*y, flatList))"
   ]
  },
  {
   "cell_type": "code",
   "execution_count": null,
   "id": "b28498d5",
   "metadata": {},
   "outputs": [],
   "source": []
  },
  {
   "cell_type": "markdown",
   "id": "77056f9c",
   "metadata": {},
   "source": [
    "###### Q2. Write a python program for encrypting a message sent to you by your friend. The logic of encryption should be such that, for a the output should be z. For b, the output should be y. For c, the output should be x respectively. Also, the whitespace should be replaced with a dollar sign. Keep the punctuation marks unchanged.\n",
    "\n",
    "Input Sentence: I want to become a Data Scientist.\n",
    "Encrypt the above input sentence using the program you just created.\n",
    "\n",
    "Note: Convert the given input sentence into lowercase before encrypting. The final output should be\n",
    "lowercase. "
   ]
  },
  {
   "cell_type": "code",
   "execution_count": 2,
   "id": "888375f3",
   "metadata": {},
   "outputs": [
    {
     "name": "stdout",
     "output_type": "stream",
     "text": [
      "I want to become a Data Scientist\n",
      "Encrypted Message:  r$dzmg$gl$yvxlnv$z$wzgz$hxrvmgrhg\n",
      "\n",
      "Decrypted Message:  i want to become a data scientist\n"
     ]
    }
   ],
   "source": [
    "def encryption(msg):\n",
    "    msg = msg.lower()\n",
    "    a = 97\n",
    "    z = 122\n",
    "    encrypted = ''\n",
    "    for x in msg:\n",
    "        if(x == \" \"):\n",
    "            encrypted += '$'\n",
    "            continue\n",
    "        encrypted += ( chr(z - ord(x) + a))\n",
    "    return encrypted\n",
    "\n",
    "def decryption(msg):\n",
    "    msg = msg.lower()\n",
    "    a = 97\n",
    "    z = 122\n",
    "    decrypted = ''\n",
    "    for x in msg:\n",
    "        if(x == '$'):\n",
    "            decrypted += ' '\n",
    "            continue\n",
    "        decrypted += ( chr(z - ord(x) + a))\n",
    "    return decrypted\n",
    "        \n",
    "strn = encryption(input())\n",
    "print(\"Encrypted Message: \", strn, end=\"\\n\\n\")\n",
    "print(\"Decrypted Message: \", decryption(strn))"
   ]
  },
  {
   "cell_type": "code",
   "execution_count": null,
   "id": "4d976ba3",
   "metadata": {},
   "outputs": [],
   "source": []
  },
  {
   "cell_type": "code",
   "execution_count": null,
   "id": "9e88aa37",
   "metadata": {},
   "outputs": [],
   "source": []
  },
  {
   "cell_type": "code",
   "execution_count": null,
   "id": "96602c17",
   "metadata": {},
   "outputs": [],
   "source": []
  }
 ],
 "metadata": {
  "kernelspec": {
   "display_name": "Python 3 (ipykernel)",
   "language": "python",
   "name": "python3"
  },
  "language_info": {
   "codemirror_mode": {
    "name": "ipython",
    "version": 3
   },
   "file_extension": ".py",
   "mimetype": "text/x-python",
   "name": "python",
   "nbconvert_exporter": "python",
   "pygments_lexer": "ipython3",
   "version": "3.9.7"
  }
 },
 "nbformat": 4,
 "nbformat_minor": 5
}
