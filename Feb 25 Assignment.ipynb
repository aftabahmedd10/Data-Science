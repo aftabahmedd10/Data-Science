{
 "cells": [
  {
   "cell_type": "code",
   "execution_count": null,
   "id": "aad6a26e",
   "metadata": {},
   "outputs": [],
   "source": []
  },
  {
   "cell_type": "markdown",
   "id": "478f39ae",
   "metadata": {},
   "source": [
    "#### Feb 25th Assignment"
   ]
  },
  {
   "cell_type": "markdown",
   "id": "617b5ad5",
   "metadata": {},
   "source": [
    "#### Consider following code to answer further questions:"
   ]
  },
  {
   "cell_type": "code",
   "execution_count": 23,
   "id": "2fb681e5",
   "metadata": {},
   "outputs": [
    {
     "data": {
      "text/html": [
       "<div>\n",
       "<style scoped>\n",
       "    .dataframe tbody tr th:only-of-type {\n",
       "        vertical-align: middle;\n",
       "    }\n",
       "\n",
       "    .dataframe tbody tr th {\n",
       "        vertical-align: top;\n",
       "    }\n",
       "\n",
       "    .dataframe thead th {\n",
       "        text-align: right;\n",
       "    }\n",
       "</style>\n",
       "<table border=\"1\" class=\"dataframe\">\n",
       "  <thead>\n",
       "    <tr style=\"text-align: right;\">\n",
       "      <th></th>\n",
       "      <th>course_name</th>\n",
       "      <th>duration</th>\n",
       "    </tr>\n",
       "  </thead>\n",
       "  <tbody>\n",
       "    <tr>\n",
       "      <th>0</th>\n",
       "      <td>Data Science</td>\n",
       "      <td>2</td>\n",
       "    </tr>\n",
       "    <tr>\n",
       "      <th>1</th>\n",
       "      <td>Machine Learning</td>\n",
       "      <td>3</td>\n",
       "    </tr>\n",
       "    <tr>\n",
       "      <th>2</th>\n",
       "      <td>Big Data</td>\n",
       "      <td>6</td>\n",
       "    </tr>\n",
       "    <tr>\n",
       "      <th>3</th>\n",
       "      <td>Data Engineer</td>\n",
       "      <td>4</td>\n",
       "    </tr>\n",
       "  </tbody>\n",
       "</table>\n",
       "</div>"
      ],
      "text/plain": [
       "        course_name  duration\n",
       "0      Data Science         2\n",
       "1  Machine Learning         3\n",
       "2          Big Data         6\n",
       "3     Data Engineer         4"
      ]
     },
     "execution_count": 23,
     "metadata": {},
     "output_type": "execute_result"
    }
   ],
   "source": [
    "import pandas as pd\n",
    "course_name = ['Data Science', 'Machine Learning', 'Big Data', 'Data Engineer']\n",
    "duration = [2,3,6,4]\n",
    "df = pd.DataFrame(data = {'course_name' : course_name, 'duration' : duration})\n",
    "df"
   ]
  },
  {
   "cell_type": "markdown",
   "id": "efb0f446",
   "metadata": {},
   "source": [
    "#### Q1. Write a code to print the data present in the second row of the dataframe, df."
   ]
  },
  {
   "cell_type": "code",
   "execution_count": 5,
   "id": "8dbdb531",
   "metadata": {},
   "outputs": [
    {
     "data": {
      "text/plain": [
       "course_name    Machine Learning\n",
       "duration                      3\n",
       "Name: 1, dtype: object"
      ]
     },
     "execution_count": 5,
     "metadata": {},
     "output_type": "execute_result"
    }
   ],
   "source": [
    "df.iloc[1]"
   ]
  },
  {
   "cell_type": "code",
   "execution_count": null,
   "id": "975c28b8",
   "metadata": {},
   "outputs": [],
   "source": []
  },
  {
   "cell_type": "markdown",
   "id": "02ca33ec",
   "metadata": {},
   "source": [
    "#### Q2. What is the difference between the functions loc and iloc in pandas.DataFrame?"
   ]
  },
  {
   "cell_type": "markdown",
   "id": "91401b22",
   "metadata": {},
   "source": [
    "In pandas, loc and iloc are used for selecting data from a DataFrame, but they differ in their methods of indexing:\n",
    "\n",
    "loc (Label-based indexing):\n",
    "\n",
    "It is primarily label-based, meaning that you use the actual row and column labels to make selections.\n",
    "The syntax is df.loc[row_label, column_label] or df.loc[row_label] for selecting rows.\n",
    "It includes the last element of the range when using slices.\n",
    "You can pass boolean arrays to filter rows based on a condition."
   ]
  },
  {
   "cell_type": "code",
   "execution_count": 8,
   "id": "652620b9",
   "metadata": {},
   "outputs": [
    {
     "data": {
      "text/html": [
       "<div>\n",
       "<style scoped>\n",
       "    .dataframe tbody tr th:only-of-type {\n",
       "        vertical-align: middle;\n",
       "    }\n",
       "\n",
       "    .dataframe tbody tr th {\n",
       "        vertical-align: top;\n",
       "    }\n",
       "\n",
       "    .dataframe thead th {\n",
       "        text-align: right;\n",
       "    }\n",
       "</style>\n",
       "<table border=\"1\" class=\"dataframe\">\n",
       "  <thead>\n",
       "    <tr style=\"text-align: right;\">\n",
       "      <th></th>\n",
       "      <th>A</th>\n",
       "      <th>B</th>\n",
       "    </tr>\n",
       "  </thead>\n",
       "  <tbody>\n",
       "    <tr>\n",
       "      <th>X</th>\n",
       "      <td>1</td>\n",
       "      <td>4</td>\n",
       "    </tr>\n",
       "    <tr>\n",
       "      <th>Y</th>\n",
       "      <td>2</td>\n",
       "      <td>5</td>\n",
       "    </tr>\n",
       "    <tr>\n",
       "      <th>Z</th>\n",
       "      <td>3</td>\n",
       "      <td>6</td>\n",
       "    </tr>\n",
       "  </tbody>\n",
       "</table>\n",
       "</div>"
      ],
      "text/plain": [
       "   A  B\n",
       "X  1  4\n",
       "Y  2  5\n",
       "Z  3  6"
      ]
     },
     "execution_count": 8,
     "metadata": {},
     "output_type": "execute_result"
    }
   ],
   "source": [
    "import pandas as pd\n",
    "\n",
    "data = {'A': [1, 2, 3], 'B': [4, 5, 6]}\n",
    "df = pd.DataFrame(data, index=['X', 'Y', 'Z'])\n",
    "df"
   ]
  },
  {
   "cell_type": "code",
   "execution_count": 9,
   "id": "b65a7543",
   "metadata": {},
   "outputs": [
    {
     "name": "stdout",
     "output_type": "stream",
     "text": [
      "2\n"
     ]
    }
   ],
   "source": [
    "print(df.loc['Y', 'A'])  # Select a specific element"
   ]
  },
  {
   "cell_type": "code",
   "execution_count": 10,
   "id": "4543ef6f",
   "metadata": {},
   "outputs": [
    {
     "name": "stdout",
     "output_type": "stream",
     "text": [
      "A    2\n",
      "B    5\n",
      "Name: Y, dtype: int64\n"
     ]
    }
   ],
   "source": [
    "print(df.loc['Y']) # Select a row"
   ]
  },
  {
   "cell_type": "code",
   "execution_count": 11,
   "id": "b09ac592",
   "metadata": {},
   "outputs": [
    {
     "name": "stdout",
     "output_type": "stream",
     "text": [
      "   A  B\n",
      "Y  2  5\n",
      "Z  3  6\n"
     ]
    }
   ],
   "source": [
    "print(df.loc['Y': 'Z'])  # Select a range of rows"
   ]
  },
  {
   "cell_type": "markdown",
   "id": "af1b91ac",
   "metadata": {},
   "source": [
    "iloc (Integer-location based indexing):\n",
    "\n",
    "It is primarily integer-based, meaning that you use integer positions to make selections.\n",
    "The syntax is df.iloc[row_index, column_index] or df.iloc[row_index] for selecting rows.\n",
    "It excludes the last element of the range when using slices.\n",
    "You cannot use labels; only integer positions are accepted."
   ]
  },
  {
   "cell_type": "code",
   "execution_count": 12,
   "id": "56866150",
   "metadata": {},
   "outputs": [
    {
     "data": {
      "text/html": [
       "<div>\n",
       "<style scoped>\n",
       "    .dataframe tbody tr th:only-of-type {\n",
       "        vertical-align: middle;\n",
       "    }\n",
       "\n",
       "    .dataframe tbody tr th {\n",
       "        vertical-align: top;\n",
       "    }\n",
       "\n",
       "    .dataframe thead th {\n",
       "        text-align: right;\n",
       "    }\n",
       "</style>\n",
       "<table border=\"1\" class=\"dataframe\">\n",
       "  <thead>\n",
       "    <tr style=\"text-align: right;\">\n",
       "      <th></th>\n",
       "      <th>A</th>\n",
       "      <th>B</th>\n",
       "    </tr>\n",
       "  </thead>\n",
       "  <tbody>\n",
       "    <tr>\n",
       "      <th>0</th>\n",
       "      <td>1</td>\n",
       "      <td>4</td>\n",
       "    </tr>\n",
       "    <tr>\n",
       "      <th>1</th>\n",
       "      <td>2</td>\n",
       "      <td>5</td>\n",
       "    </tr>\n",
       "    <tr>\n",
       "      <th>2</th>\n",
       "      <td>3</td>\n",
       "      <td>6</td>\n",
       "    </tr>\n",
       "  </tbody>\n",
       "</table>\n",
       "</div>"
      ],
      "text/plain": [
       "   A  B\n",
       "0  1  4\n",
       "1  2  5\n",
       "2  3  6"
      ]
     },
     "execution_count": 12,
     "metadata": {},
     "output_type": "execute_result"
    }
   ],
   "source": [
    "import pandas as pd\n",
    "\n",
    "data = {'A': [1, 2, 3], 'B': [4, 5, 6]}\n",
    "df = pd.DataFrame(data)\n",
    "df"
   ]
  },
  {
   "cell_type": "code",
   "execution_count": 18,
   "id": "72ff5b94",
   "metadata": {},
   "outputs": [
    {
     "data": {
      "text/plain": [
       "2"
      ]
     },
     "execution_count": 18,
     "metadata": {},
     "output_type": "execute_result"
    }
   ],
   "source": [
    "df.iloc[1, 0]     # Select a specific element"
   ]
  },
  {
   "cell_type": "code",
   "execution_count": 17,
   "id": "8af5e5a2",
   "metadata": {},
   "outputs": [
    {
     "data": {
      "text/plain": [
       "A    2\n",
       "B    5\n",
       "Name: 1, dtype: int64"
      ]
     },
     "execution_count": 17,
     "metadata": {},
     "output_type": "execute_result"
    }
   ],
   "source": [
    "df.iloc[1]        # Select a row"
   ]
  },
  {
   "cell_type": "code",
   "execution_count": 16,
   "id": "60162aea",
   "metadata": {},
   "outputs": [
    {
     "data": {
      "text/html": [
       "<div>\n",
       "<style scoped>\n",
       "    .dataframe tbody tr th:only-of-type {\n",
       "        vertical-align: middle;\n",
       "    }\n",
       "\n",
       "    .dataframe tbody tr th {\n",
       "        vertical-align: top;\n",
       "    }\n",
       "\n",
       "    .dataframe thead th {\n",
       "        text-align: right;\n",
       "    }\n",
       "</style>\n",
       "<table border=\"1\" class=\"dataframe\">\n",
       "  <thead>\n",
       "    <tr style=\"text-align: right;\">\n",
       "      <th></th>\n",
       "      <th>A</th>\n",
       "      <th>B</th>\n",
       "    </tr>\n",
       "  </thead>\n",
       "  <tbody>\n",
       "    <tr>\n",
       "      <th>1</th>\n",
       "      <td>2</td>\n",
       "      <td>5</td>\n",
       "    </tr>\n",
       "    <tr>\n",
       "      <th>2</th>\n",
       "      <td>3</td>\n",
       "      <td>6</td>\n",
       "    </tr>\n",
       "  </tbody>\n",
       "</table>\n",
       "</div>"
      ],
      "text/plain": [
       "   A  B\n",
       "1  2  5\n",
       "2  3  6"
      ]
     },
     "execution_count": 16,
     "metadata": {},
     "output_type": "execute_result"
    }
   ],
   "source": [
    "df.iloc[1:3]   # Select a range of rows"
   ]
  },
  {
   "cell_type": "code",
   "execution_count": null,
   "id": "4817b32d",
   "metadata": {},
   "outputs": [],
   "source": []
  },
  {
   "cell_type": "markdown",
   "id": "28a3bd13",
   "metadata": {},
   "source": [
    "#### Q3. Reindex the given dataframe using a variable, reindex = [3,0,1,2] and store it in the variable, new_df then find the output for both new_df.loc[2] and new_df.iloc[2]. \n",
    "\n",
    "#### Did you observe any difference in both the outputs? If so then explain it."
   ]
  },
  {
   "cell_type": "code",
   "execution_count": 27,
   "id": "1d599ddd",
   "metadata": {},
   "outputs": [
    {
     "data": {
      "text/html": [
       "<div>\n",
       "<style scoped>\n",
       "    .dataframe tbody tr th:only-of-type {\n",
       "        vertical-align: middle;\n",
       "    }\n",
       "\n",
       "    .dataframe tbody tr th {\n",
       "        vertical-align: top;\n",
       "    }\n",
       "\n",
       "    .dataframe thead th {\n",
       "        text-align: right;\n",
       "    }\n",
       "</style>\n",
       "<table border=\"1\" class=\"dataframe\">\n",
       "  <thead>\n",
       "    <tr style=\"text-align: right;\">\n",
       "      <th></th>\n",
       "      <th>A</th>\n",
       "      <th>B</th>\n",
       "    </tr>\n",
       "  </thead>\n",
       "  <tbody>\n",
       "    <tr>\n",
       "      <th>0</th>\n",
       "      <td>1</td>\n",
       "      <td>4</td>\n",
       "    </tr>\n",
       "    <tr>\n",
       "      <th>1</th>\n",
       "      <td>2</td>\n",
       "      <td>5</td>\n",
       "    </tr>\n",
       "    <tr>\n",
       "      <th>2</th>\n",
       "      <td>3</td>\n",
       "      <td>6</td>\n",
       "    </tr>\n",
       "    <tr>\n",
       "      <th>3</th>\n",
       "      <td>4</td>\n",
       "      <td>7</td>\n",
       "    </tr>\n",
       "  </tbody>\n",
       "</table>\n",
       "</div>"
      ],
      "text/plain": [
       "   A  B\n",
       "0  1  4\n",
       "1  2  5\n",
       "2  3  6\n",
       "3  4  7"
      ]
     },
     "execution_count": 27,
     "metadata": {},
     "output_type": "execute_result"
    }
   ],
   "source": [
    "data = {'A': [1, 2, 3, 4], 'B': [4, 5, 6, 7]}\n",
    "df = pd.DataFrame(data)\n",
    "df"
   ]
  },
  {
   "cell_type": "code",
   "execution_count": 29,
   "id": "6758b3be",
   "metadata": {},
   "outputs": [
    {
     "data": {
      "text/html": [
       "<div>\n",
       "<style scoped>\n",
       "    .dataframe tbody tr th:only-of-type {\n",
       "        vertical-align: middle;\n",
       "    }\n",
       "\n",
       "    .dataframe tbody tr th {\n",
       "        vertical-align: top;\n",
       "    }\n",
       "\n",
       "    .dataframe thead th {\n",
       "        text-align: right;\n",
       "    }\n",
       "</style>\n",
       "<table border=\"1\" class=\"dataframe\">\n",
       "  <thead>\n",
       "    <tr style=\"text-align: right;\">\n",
       "      <th></th>\n",
       "      <th>A</th>\n",
       "      <th>B</th>\n",
       "    </tr>\n",
       "  </thead>\n",
       "  <tbody>\n",
       "    <tr>\n",
       "      <th>3</th>\n",
       "      <td>4</td>\n",
       "      <td>7</td>\n",
       "    </tr>\n",
       "    <tr>\n",
       "      <th>0</th>\n",
       "      <td>1</td>\n",
       "      <td>4</td>\n",
       "    </tr>\n",
       "    <tr>\n",
       "      <th>1</th>\n",
       "      <td>2</td>\n",
       "      <td>5</td>\n",
       "    </tr>\n",
       "    <tr>\n",
       "      <th>2</th>\n",
       "      <td>3</td>\n",
       "      <td>6</td>\n",
       "    </tr>\n",
       "  </tbody>\n",
       "</table>\n",
       "</div>"
      ],
      "text/plain": [
       "   A  B\n",
       "3  4  7\n",
       "0  1  4\n",
       "1  2  5\n",
       "2  3  6"
      ]
     },
     "execution_count": 29,
     "metadata": {},
     "output_type": "execute_result"
    }
   ],
   "source": [
    "new_df = df.reindex([3,0,1,2])\n",
    "new_df"
   ]
  },
  {
   "cell_type": "code",
   "execution_count": 30,
   "id": "58c077c4",
   "metadata": {},
   "outputs": [
    {
     "data": {
      "text/plain": [
       "A    3\n",
       "B    6\n",
       "Name: 2, dtype: int64"
      ]
     },
     "execution_count": 30,
     "metadata": {},
     "output_type": "execute_result"
    }
   ],
   "source": [
    "new_df.loc[2]"
   ]
  },
  {
   "cell_type": "code",
   "execution_count": 31,
   "id": "f2ed7eaa",
   "metadata": {},
   "outputs": [
    {
     "data": {
      "text/plain": [
       "A    2\n",
       "B    5\n",
       "Name: 1, dtype: int64"
      ]
     },
     "execution_count": 31,
     "metadata": {},
     "output_type": "execute_result"
    }
   ],
   "source": [
    "new_df.iloc[2]"
   ]
  },
  {
   "cell_type": "markdown",
   "id": "f70dc8b1",
   "metadata": {},
   "source": [
    "new_df.loc[2] (label-based indexing):\n",
    "\n",
    "Selects the row with label 2 from the reindexed DataFrame.\n",
    "Output: A=3 and B=6.\n",
    "\n",
    "\n",
    "new_df.iloc[2] (integer-location based indexing):\n",
    "\n",
    "Selects the row at integer position 2 from the reindexed DataFrame.\n",
    "Output: A=2 and B=5.\n",
    "\n",
    "\n",
    "In summary, the key differences are:\n",
    "\n",
    "loc uses the label 2 and retrieves the corresponding row.\n",
    "iloc uses the integer position 2 and retrieves the row at that position.\n",
    "The values differ because the labels and integer positions may not align after reindexing. The label 2 corresponds to the third row in the original DataFrame, but after reindexing, it corresponds to the second row in new_df."
   ]
  },
  {
   "cell_type": "code",
   "execution_count": null,
   "id": "87b510e5",
   "metadata": {},
   "outputs": [],
   "source": []
  },
  {
   "cell_type": "code",
   "execution_count": 32,
   "id": "5624ada9",
   "metadata": {},
   "outputs": [
    {
     "data": {
      "text/html": [
       "<div>\n",
       "<style scoped>\n",
       "    .dataframe tbody tr th:only-of-type {\n",
       "        vertical-align: middle;\n",
       "    }\n",
       "\n",
       "    .dataframe tbody tr th {\n",
       "        vertical-align: top;\n",
       "    }\n",
       "\n",
       "    .dataframe thead th {\n",
       "        text-align: right;\n",
       "    }\n",
       "</style>\n",
       "<table border=\"1\" class=\"dataframe\">\n",
       "  <thead>\n",
       "    <tr style=\"text-align: right;\">\n",
       "      <th></th>\n",
       "      <th>column_1</th>\n",
       "      <th>column_2</th>\n",
       "      <th>column_3</th>\n",
       "      <th>column_4</th>\n",
       "      <th>column_5</th>\n",
       "      <th>column_6</th>\n",
       "    </tr>\n",
       "  </thead>\n",
       "  <tbody>\n",
       "    <tr>\n",
       "      <th>1</th>\n",
       "      <td>0.825507</td>\n",
       "      <td>0.776441</td>\n",
       "      <td>0.579995</td>\n",
       "      <td>0.561906</td>\n",
       "      <td>0.688496</td>\n",
       "      <td>0.970248</td>\n",
       "    </tr>\n",
       "    <tr>\n",
       "      <th>2</th>\n",
       "      <td>0.845377</td>\n",
       "      <td>0.746581</td>\n",
       "      <td>0.141431</td>\n",
       "      <td>0.353073</td>\n",
       "      <td>0.961080</td>\n",
       "      <td>0.212643</td>\n",
       "    </tr>\n",
       "    <tr>\n",
       "      <th>3</th>\n",
       "      <td>0.566127</td>\n",
       "      <td>0.308215</td>\n",
       "      <td>0.986363</td>\n",
       "      <td>0.678202</td>\n",
       "      <td>0.001760</td>\n",
       "      <td>0.963140</td>\n",
       "    </tr>\n",
       "    <tr>\n",
       "      <th>4</th>\n",
       "      <td>0.686681</td>\n",
       "      <td>0.356161</td>\n",
       "      <td>0.976938</td>\n",
       "      <td>0.075882</td>\n",
       "      <td>0.823516</td>\n",
       "      <td>0.313837</td>\n",
       "    </tr>\n",
       "    <tr>\n",
       "      <th>5</th>\n",
       "      <td>0.634561</td>\n",
       "      <td>0.129578</td>\n",
       "      <td>0.616741</td>\n",
       "      <td>0.966525</td>\n",
       "      <td>0.391185</td>\n",
       "      <td>0.709068</td>\n",
       "    </tr>\n",
       "    <tr>\n",
       "      <th>6</th>\n",
       "      <td>0.312280</td>\n",
       "      <td>0.488076</td>\n",
       "      <td>0.818484</td>\n",
       "      <td>0.415248</td>\n",
       "      <td>0.921791</td>\n",
       "      <td>0.449601</td>\n",
       "    </tr>\n",
       "  </tbody>\n",
       "</table>\n",
       "</div>"
      ],
      "text/plain": [
       "   column_1  column_2  column_3  column_4  column_5  column_6\n",
       "1  0.825507  0.776441  0.579995  0.561906  0.688496  0.970248\n",
       "2  0.845377  0.746581  0.141431  0.353073  0.961080  0.212643\n",
       "3  0.566127  0.308215  0.986363  0.678202  0.001760  0.963140\n",
       "4  0.686681  0.356161  0.976938  0.075882  0.823516  0.313837\n",
       "5  0.634561  0.129578  0.616741  0.966525  0.391185  0.709068\n",
       "6  0.312280  0.488076  0.818484  0.415248  0.921791  0.449601"
      ]
     },
     "execution_count": 32,
     "metadata": {},
     "output_type": "execute_result"
    }
   ],
   "source": [
    "#Consider the below code to answer further questions:\n",
    "import pandas as pd\n",
    "import numpy as np\n",
    "columns = ['column_1', 'column_2', 'column_3', 'column_4', 'column_5', 'column_6']\n",
    "indices = [1,2,3,4,5,6]\n",
    "#Creating a dataframe:\n",
    "df1 = pd.DataFrame(np.random.rand(6,6), columns = columns, index = indices)\n",
    "df1"
   ]
  },
  {
   "cell_type": "markdown",
   "id": "203ba6fc",
   "metadata": {},
   "source": [
    "#### Q4. Write a code to find the following statistical measurements for the above dataframe df1:\n",
    "##### (i) mean of each and every column present in the dataframe.\n",
    "##### (ii) standard deviation of column, ‘column_2’"
   ]
  },
  {
   "cell_type": "code",
   "execution_count": 36,
   "id": "ccd30171",
   "metadata": {},
   "outputs": [
    {
     "data": {
      "text/plain": [
       "column_1    0.645089\n",
       "column_2    0.467509\n",
       "column_3    0.686659\n",
       "column_4    0.508473\n",
       "column_5    0.631305\n",
       "column_6    0.603089\n",
       "dtype: float64"
      ]
     },
     "execution_count": 36,
     "metadata": {},
     "output_type": "execute_result"
    }
   ],
   "source": [
    "df1.mean()"
   ]
  },
  {
   "cell_type": "code",
   "execution_count": 46,
   "id": "d69bb073",
   "metadata": {},
   "outputs": [
    {
     "data": {
      "text/plain": [
       "column_1    0.645089\n",
       "column_2    0.467509\n",
       "column_3    0.686659\n",
       "column_4    0.508473\n",
       "column_5    0.631305\n",
       "column_6    0.603089\n",
       "dtype: float64"
      ]
     },
     "execution_count": 46,
     "metadata": {},
     "output_type": "execute_result"
    }
   ],
   "source": [
    "df1.apply(lambda x: np.mean(x))"
   ]
  },
  {
   "cell_type": "code",
   "execution_count": 49,
   "id": "485cb79e",
   "metadata": {},
   "outputs": [
    {
     "data": {
      "text/plain": [
       "column_1    0.645089\n",
       "column_2    0.467509\n",
       "column_3    0.686659\n",
       "column_4    0.508473\n",
       "column_5    0.631305\n",
       "column_6    0.603089\n",
       "dtype: float64"
      ]
     },
     "execution_count": 49,
     "metadata": {},
     "output_type": "execute_result"
    }
   ],
   "source": [
    "df1.apply(np.mean)"
   ]
  },
  {
   "cell_type": "code",
   "execution_count": 37,
   "id": "dbfdd239",
   "metadata": {},
   "outputs": [
    {
     "data": {
      "text/plain": [
       "0.2552306583031468"
      ]
     },
     "execution_count": 37,
     "metadata": {},
     "output_type": "execute_result"
    }
   ],
   "source": [
    "df1['column_2'].std()"
   ]
  },
  {
   "cell_type": "code",
   "execution_count": 55,
   "id": "57093d6c",
   "metadata": {},
   "outputs": [
    {
     "data": {
      "text/plain": [
       "column_1         NaN\n",
       "column_2    0.232993\n",
       "column_3         NaN\n",
       "column_4         NaN\n",
       "column_5         NaN\n",
       "column_6         NaN\n",
       "dtype: float64"
      ]
     },
     "execution_count": 55,
     "metadata": {},
     "output_type": "execute_result"
    }
   ],
   "source": [
    "df1.apply(lambda x : np.std(x) if x.name == 'column_2' else np.nan)"
   ]
  },
  {
   "cell_type": "code",
   "execution_count": null,
   "id": "b6665ca1",
   "metadata": {},
   "outputs": [],
   "source": []
  },
  {
   "cell_type": "markdown",
   "id": "06c0e425",
   "metadata": {},
   "source": [
    "#### Q5. Replace the data present in the second row of column, ‘column_2’ by a string variable then find the mean of column, column_2.\n",
    "#### If you are getting errors in executing it then explain why.\n",
    "[Hint: To replace the data use df1.loc[] and equate this to string data of your choice.]"
   ]
  },
  {
   "cell_type": "code",
   "execution_count": 56,
   "id": "a96ce2b9",
   "metadata": {},
   "outputs": [
    {
     "data": {
      "text/html": [
       "<div>\n",
       "<style scoped>\n",
       "    .dataframe tbody tr th:only-of-type {\n",
       "        vertical-align: middle;\n",
       "    }\n",
       "\n",
       "    .dataframe tbody tr th {\n",
       "        vertical-align: top;\n",
       "    }\n",
       "\n",
       "    .dataframe thead th {\n",
       "        text-align: right;\n",
       "    }\n",
       "</style>\n",
       "<table border=\"1\" class=\"dataframe\">\n",
       "  <thead>\n",
       "    <tr style=\"text-align: right;\">\n",
       "      <th></th>\n",
       "      <th>column_1</th>\n",
       "      <th>column_2</th>\n",
       "      <th>column_3</th>\n",
       "      <th>column_4</th>\n",
       "      <th>column_5</th>\n",
       "      <th>column_6</th>\n",
       "    </tr>\n",
       "  </thead>\n",
       "  <tbody>\n",
       "    <tr>\n",
       "      <th>1</th>\n",
       "      <td>0.825507</td>\n",
       "      <td>0.776441</td>\n",
       "      <td>0.579995</td>\n",
       "      <td>0.561906</td>\n",
       "      <td>0.688496</td>\n",
       "      <td>0.970248</td>\n",
       "    </tr>\n",
       "    <tr>\n",
       "      <th>2</th>\n",
       "      <td>0.845377</td>\n",
       "      <td>0.746581</td>\n",
       "      <td>0.141431</td>\n",
       "      <td>0.353073</td>\n",
       "      <td>0.961080</td>\n",
       "      <td>0.212643</td>\n",
       "    </tr>\n",
       "    <tr>\n",
       "      <th>3</th>\n",
       "      <td>0.566127</td>\n",
       "      <td>0.308215</td>\n",
       "      <td>0.986363</td>\n",
       "      <td>0.678202</td>\n",
       "      <td>0.001760</td>\n",
       "      <td>0.963140</td>\n",
       "    </tr>\n",
       "    <tr>\n",
       "      <th>4</th>\n",
       "      <td>0.686681</td>\n",
       "      <td>0.356161</td>\n",
       "      <td>0.976938</td>\n",
       "      <td>0.075882</td>\n",
       "      <td>0.823516</td>\n",
       "      <td>0.313837</td>\n",
       "    </tr>\n",
       "    <tr>\n",
       "      <th>5</th>\n",
       "      <td>0.634561</td>\n",
       "      <td>0.129578</td>\n",
       "      <td>0.616741</td>\n",
       "      <td>0.966525</td>\n",
       "      <td>0.391185</td>\n",
       "      <td>0.709068</td>\n",
       "    </tr>\n",
       "    <tr>\n",
       "      <th>6</th>\n",
       "      <td>0.312280</td>\n",
       "      <td>0.488076</td>\n",
       "      <td>0.818484</td>\n",
       "      <td>0.415248</td>\n",
       "      <td>0.921791</td>\n",
       "      <td>0.449601</td>\n",
       "    </tr>\n",
       "  </tbody>\n",
       "</table>\n",
       "</div>"
      ],
      "text/plain": [
       "   column_1  column_2  column_3  column_4  column_5  column_6\n",
       "1  0.825507  0.776441  0.579995  0.561906  0.688496  0.970248\n",
       "2  0.845377  0.746581  0.141431  0.353073  0.961080  0.212643\n",
       "3  0.566127  0.308215  0.986363  0.678202  0.001760  0.963140\n",
       "4  0.686681  0.356161  0.976938  0.075882  0.823516  0.313837\n",
       "5  0.634561  0.129578  0.616741  0.966525  0.391185  0.709068\n",
       "6  0.312280  0.488076  0.818484  0.415248  0.921791  0.449601"
      ]
     },
     "execution_count": 56,
     "metadata": {},
     "output_type": "execute_result"
    }
   ],
   "source": [
    "df1"
   ]
  },
  {
   "cell_type": "code",
   "execution_count": 57,
   "id": "f2646cd0",
   "metadata": {},
   "outputs": [
    {
     "data": {
      "text/html": [
       "<div>\n",
       "<style scoped>\n",
       "    .dataframe tbody tr th:only-of-type {\n",
       "        vertical-align: middle;\n",
       "    }\n",
       "\n",
       "    .dataframe tbody tr th {\n",
       "        vertical-align: top;\n",
       "    }\n",
       "\n",
       "    .dataframe thead th {\n",
       "        text-align: right;\n",
       "    }\n",
       "</style>\n",
       "<table border=\"1\" class=\"dataframe\">\n",
       "  <thead>\n",
       "    <tr style=\"text-align: right;\">\n",
       "      <th></th>\n",
       "      <th>column_1</th>\n",
       "      <th>column_2</th>\n",
       "      <th>column_3</th>\n",
       "      <th>column_4</th>\n",
       "      <th>column_5</th>\n",
       "      <th>column_6</th>\n",
       "    </tr>\n",
       "  </thead>\n",
       "  <tbody>\n",
       "    <tr>\n",
       "      <th>1</th>\n",
       "      <td>0.825507</td>\n",
       "      <td>0.776441</td>\n",
       "      <td>0.579995</td>\n",
       "      <td>0.561906</td>\n",
       "      <td>0.688496</td>\n",
       "      <td>0.970248</td>\n",
       "    </tr>\n",
       "    <tr>\n",
       "      <th>2</th>\n",
       "      <td>0.845377</td>\n",
       "      <td>abcd</td>\n",
       "      <td>0.141431</td>\n",
       "      <td>0.353073</td>\n",
       "      <td>0.961080</td>\n",
       "      <td>0.212643</td>\n",
       "    </tr>\n",
       "    <tr>\n",
       "      <th>3</th>\n",
       "      <td>0.566127</td>\n",
       "      <td>0.308215</td>\n",
       "      <td>0.986363</td>\n",
       "      <td>0.678202</td>\n",
       "      <td>0.001760</td>\n",
       "      <td>0.963140</td>\n",
       "    </tr>\n",
       "    <tr>\n",
       "      <th>4</th>\n",
       "      <td>0.686681</td>\n",
       "      <td>0.356161</td>\n",
       "      <td>0.976938</td>\n",
       "      <td>0.075882</td>\n",
       "      <td>0.823516</td>\n",
       "      <td>0.313837</td>\n",
       "    </tr>\n",
       "    <tr>\n",
       "      <th>5</th>\n",
       "      <td>0.634561</td>\n",
       "      <td>0.129578</td>\n",
       "      <td>0.616741</td>\n",
       "      <td>0.966525</td>\n",
       "      <td>0.391185</td>\n",
       "      <td>0.709068</td>\n",
       "    </tr>\n",
       "    <tr>\n",
       "      <th>6</th>\n",
       "      <td>0.312280</td>\n",
       "      <td>0.488076</td>\n",
       "      <td>0.818484</td>\n",
       "      <td>0.415248</td>\n",
       "      <td>0.921791</td>\n",
       "      <td>0.449601</td>\n",
       "    </tr>\n",
       "  </tbody>\n",
       "</table>\n",
       "</div>"
      ],
      "text/plain": [
       "   column_1  column_2  column_3  column_4  column_5  column_6\n",
       "1  0.825507  0.776441  0.579995  0.561906  0.688496  0.970248\n",
       "2  0.845377      abcd  0.141431  0.353073  0.961080  0.212643\n",
       "3  0.566127  0.308215  0.986363  0.678202  0.001760  0.963140\n",
       "4  0.686681  0.356161  0.976938  0.075882  0.823516  0.313837\n",
       "5  0.634561  0.129578  0.616741  0.966525  0.391185  0.709068\n",
       "6  0.312280  0.488076  0.818484  0.415248  0.921791  0.449601"
      ]
     },
     "execution_count": 57,
     "metadata": {},
     "output_type": "execute_result"
    }
   ],
   "source": [
    "df1.loc[2, 'column_2'] = \"abcd\"\n",
    "df1"
   ]
  },
  {
   "cell_type": "code",
   "execution_count": 63,
   "id": "4ab156c7",
   "metadata": {},
   "outputs": [
    {
     "name": "stdout",
     "output_type": "stream",
     "text": [
      "Error: unsupported operand type(s) for +: 'float' and 'str'\n",
      "Beacuse mean function expects all data to be in numerical\n"
     ]
    }
   ],
   "source": [
    "try:\n",
    "    df1['column_2'].mean()\n",
    "except:\n",
    "    print(\"Error: unsupported operand type(s) for +: 'float' and 'str'\")\n",
    "    print(\"Beacuse mean function expects all data to be in numerical\")"
   ]
  },
  {
   "cell_type": "code",
   "execution_count": null,
   "id": "8bb9f16e",
   "metadata": {},
   "outputs": [],
   "source": []
  },
  {
   "cell_type": "markdown",
   "id": "ce7e9ce6",
   "metadata": {},
   "source": [
    "#### Q6. What do you understand about the windows function in pandas and list the types of windows functions? "
   ]
  },
  {
   "cell_type": "markdown",
   "id": "2a6bd1eb",
   "metadata": {},
   "source": [
    "In pandas, window functions are used for performing operations on a specified window of data in a DataFrame or Series. These functions are particularly useful for tasks such as rolling calculations, moving averages, and other operations that involve a sliding or expanding window of data points.\n",
    "\n",
    "The main types of window functions in pandas include:\n",
    "\n",
    "##### Rolling Windows:\n",
    "rolling function: Used for creating a rolling view of a DataFrame or Series. It enables the application of various rolling window operations like mean, sum, min, max, etc. The window size is specified, and the function is applied to each window as it moves through the data.\n",
    "\n",
    "Example:\n",
    "df['rolling_mean'] = df['column'].rolling(window=3).mean()\n",
    "\n",
    "##### Expanding Windows:\n",
    "\n",
    "expanding function: Used for creating an expanding view of a DataFrame or Series. It applies a function cumulatively to all data points up to the current point.\n",
    "\n",
    "Example:\n",
    "df['expanding_sum'] = df['column'].expanding().sum()\n",
    "\n",
    "##### Exponential Moving Windows:\n",
    "\n",
    "ewm (exponential weighted moving) function: Used for exponential moving averages. It assigns exponentially decreasing weights to older observations, giving more importance to recent data points.\n",
    "\n",
    "Example:\n",
    "df['ewma'] = df['column'].ewm(span=3).mean()\n",
    "\n",
    "##### Custom Window Functions:\n",
    "\n",
    "You can define custom window functions using the apply method and providing a custom function.\n",
    "\n",
    "Example:\n",
    "\n",
    "def custom_window_function(window):\n",
    "\n",
    "    # Custom logic for the window\n",
    "    return window.sum() / len(window)\n",
    "\n",
    "df['custom_window_result'] = df['column'].rolling(window=3).apply(custom_window_function)"
   ]
  },
  {
   "cell_type": "code",
   "execution_count": 65,
   "id": "a7a86a3b",
   "metadata": {},
   "outputs": [
    {
     "data": {
      "image/png": "[encoded data removed]",
      "text/plain": [
       "<Figure size 720x432 with 1 Axes>"
      ]
     },
     "metadata": {
      "needs_background": "light"
     },
     "output_type": "display_data"
    }
   ],
   "source": [
    "import pandas as pd\n",
    "import numpy as np\n",
    "import matplotlib.pyplot as plt\n",
    "\n",
    "# Creating a DataFrame with a 'value' column\n",
    "data = {'value': np.random.randn(20)}\n",
    "df = pd.DataFrame(data)\n",
    "\n",
    "# Rolling Window: Calculate the rolling mean and rolling sum\n",
    "df['rolling_mean'] = df['value'].rolling(window=3).mean()\n",
    "df['rolling_sum'] = df['value'].rolling(window=3).sum()\n",
    "\n",
    "# Expanding Window: Calculate the expanding mean and expanding sum\n",
    "df['expanding_mean'] = df['value'].expanding().mean()\n",
    "df['expanding_sum'] = df['value'].expanding().sum()\n",
    "\n",
    "# Exponential Moving Window: Calculate the exponential moving average\n",
    "df['ewma'] = df['value'].ewm(span=3).mean()\n",
    "\n",
    "# Custom Window Function: Calculate the custom moving average\n",
    "def custom_window_function(window):\n",
    "    return window.sum() / len(window)\n",
    "\n",
    "df['custom_window_result'] = df['value'].rolling(window=3).apply(custom_window_function)\n",
    "\n",
    "# Plotting the results\n",
    "plt.figure(figsize=(10, 6))\n",
    "plt.plot(df['value'], label='Original Data', marker='o')\n",
    "plt.plot(df['rolling_mean'], label='Rolling Mean (window=3)', linestyle='--')\n",
    "plt.plot(df['rolling_sum'], label='Rolling Sum (window=3)', linestyle='--')\n",
    "plt.plot(df['expanding_mean'], label='Expanding Mean', linestyle='--')\n",
    "plt.plot(df['expanding_sum'], label='Expanding Sum', linestyle='--')\n",
    "plt.plot(df['ewma'], label='Exponential Moving Average (span=3)', linestyle='--')\n",
    "plt.plot(df['custom_window_result'], label='Custom Window Result', linestyle='--')\n",
    "\n",
    "plt.title('Window Functions Example')\n",
    "plt.xlabel('Index')\n",
    "plt.ylabel('Value')\n",
    "plt.legend()\n",
    "plt.show()"
   ]
  },
  {
   "cell_type": "code",
   "execution_count": 66,
   "id": "8e7720f6",
   "metadata": {},
   "outputs": [
    {
     "data": {
      "text/html": [
       "<div>\n",
       "<style scoped>\n",
       "    .dataframe tbody tr th:only-of-type {\n",
       "        vertical-align: middle;\n",
       "    }\n",
       "\n",
       "    .dataframe tbody tr th {\n",
       "        vertical-align: top;\n",
       "    }\n",
       "\n",
       "    .dataframe thead th {\n",
       "        text-align: right;\n",
       "    }\n",
       "</style>\n",
       "<table border=\"1\" class=\"dataframe\">\n",
       "  <thead>\n",
       "    <tr style=\"text-align: right;\">\n",
       "      <th></th>\n",
       "      <th>value</th>\n",
       "      <th>rolling_mean</th>\n",
       "      <th>rolling_sum</th>\n",
       "      <th>expanding_mean</th>\n",
       "      <th>expanding_sum</th>\n",
       "      <th>ewma</th>\n",
       "      <th>custom_window_result</th>\n",
       "    </tr>\n",
       "  </thead>\n",
       "  <tbody>\n",
       "    <tr>\n",
       "      <th>0</th>\n",
       "      <td>-1.388998</td>\n",
       "      <td>NaN</td>\n",
       "      <td>NaN</td>\n",
       "      <td>-1.388998</td>\n",
       "      <td>-1.388998</td>\n",
       "      <td>-1.388998</td>\n",
       "      <td>NaN</td>\n",
       "    </tr>\n",
       "    <tr>\n",
       "      <th>1</th>\n",
       "      <td>-0.108456</td>\n",
       "      <td>NaN</td>\n",
       "      <td>NaN</td>\n",
       "      <td>-0.748727</td>\n",
       "      <td>-1.497454</td>\n",
       "      <td>-0.535303</td>\n",
       "      <td>NaN</td>\n",
       "    </tr>\n",
       "    <tr>\n",
       "      <th>2</th>\n",
       "      <td>-0.026592</td>\n",
       "      <td>-0.508015</td>\n",
       "      <td>-1.524046</td>\n",
       "      <td>-0.508015</td>\n",
       "      <td>-1.524046</td>\n",
       "      <td>-0.244611</td>\n",
       "      <td>-0.508015</td>\n",
       "    </tr>\n",
       "    <tr>\n",
       "      <th>3</th>\n",
       "      <td>-2.001557</td>\n",
       "      <td>-0.712202</td>\n",
       "      <td>-2.136605</td>\n",
       "      <td>-0.881401</td>\n",
       "      <td>-3.525603</td>\n",
       "      <td>-1.181649</td>\n",
       "      <td>-0.712202</td>\n",
       "    </tr>\n",
       "    <tr>\n",
       "      <th>4</th>\n",
       "      <td>-1.198780</td>\n",
       "      <td>-1.075643</td>\n",
       "      <td>-3.226929</td>\n",
       "      <td>-0.944877</td>\n",
       "      <td>-4.724383</td>\n",
       "      <td>-1.190491</td>\n",
       "      <td>-1.075643</td>\n",
       "    </tr>\n",
       "    <tr>\n",
       "      <th>5</th>\n",
       "      <td>-0.199831</td>\n",
       "      <td>-1.133390</td>\n",
       "      <td>-3.400169</td>\n",
       "      <td>-0.820702</td>\n",
       "      <td>-4.924215</td>\n",
       "      <td>-0.687299</td>\n",
       "      <td>-1.133390</td>\n",
       "    </tr>\n",
       "    <tr>\n",
       "      <th>6</th>\n",
       "      <td>0.603248</td>\n",
       "      <td>-0.265121</td>\n",
       "      <td>-0.795363</td>\n",
       "      <td>-0.617281</td>\n",
       "      <td>-4.320966</td>\n",
       "      <td>-0.036944</td>\n",
       "      <td>-0.265121</td>\n",
       "    </tr>\n",
       "    <tr>\n",
       "      <th>7</th>\n",
       "      <td>-1.314016</td>\n",
       "      <td>-0.303533</td>\n",
       "      <td>-0.910599</td>\n",
       "      <td>-0.704373</td>\n",
       "      <td>-5.634983</td>\n",
       "      <td>-0.677984</td>\n",
       "      <td>-0.303533</td>\n",
       "    </tr>\n",
       "    <tr>\n",
       "      <th>8</th>\n",
       "      <td>0.172154</td>\n",
       "      <td>-0.179538</td>\n",
       "      <td>-0.538613</td>\n",
       "      <td>-0.606981</td>\n",
       "      <td>-5.462828</td>\n",
       "      <td>-0.252083</td>\n",
       "      <td>-0.179538</td>\n",
       "    </tr>\n",
       "    <tr>\n",
       "      <th>9</th>\n",
       "      <td>-1.195217</td>\n",
       "      <td>-0.779026</td>\n",
       "      <td>-2.337078</td>\n",
       "      <td>-0.665804</td>\n",
       "      <td>-6.658045</td>\n",
       "      <td>-0.724111</td>\n",
       "      <td>-0.779026</td>\n",
       "    </tr>\n",
       "    <tr>\n",
       "      <th>10</th>\n",
       "      <td>0.099305</td>\n",
       "      <td>-0.307919</td>\n",
       "      <td>-0.923757</td>\n",
       "      <td>-0.596249</td>\n",
       "      <td>-6.558739</td>\n",
       "      <td>-0.312202</td>\n",
       "      <td>-0.307919</td>\n",
       "    </tr>\n",
       "    <tr>\n",
       "      <th>11</th>\n",
       "      <td>-0.717788</td>\n",
       "      <td>-0.604566</td>\n",
       "      <td>-1.813699</td>\n",
       "      <td>-0.606377</td>\n",
       "      <td>-7.276527</td>\n",
       "      <td>-0.515044</td>\n",
       "      <td>-0.604566</td>\n",
       "    </tr>\n",
       "    <tr>\n",
       "      <th>12</th>\n",
       "      <td>0.990272</td>\n",
       "      <td>0.123930</td>\n",
       "      <td>0.371789</td>\n",
       "      <td>-0.483558</td>\n",
       "      <td>-6.286256</td>\n",
       "      <td>0.237706</td>\n",
       "      <td>0.123930</td>\n",
       "    </tr>\n",
       "    <tr>\n",
       "      <th>13</th>\n",
       "      <td>0.093080</td>\n",
       "      <td>0.121854</td>\n",
       "      <td>0.365563</td>\n",
       "      <td>-0.442370</td>\n",
       "      <td>-6.193176</td>\n",
       "      <td>0.165388</td>\n",
       "      <td>0.121854</td>\n",
       "    </tr>\n",
       "    <tr>\n",
       "      <th>14</th>\n",
       "      <td>0.100029</td>\n",
       "      <td>0.394460</td>\n",
       "      <td>1.183380</td>\n",
       "      <td>-0.406210</td>\n",
       "      <td>-6.093147</td>\n",
       "      <td>0.132708</td>\n",
       "      <td>0.394460</td>\n",
       "    </tr>\n",
       "    <tr>\n",
       "      <th>15</th>\n",
       "      <td>-0.334456</td>\n",
       "      <td>-0.047116</td>\n",
       "      <td>-0.141347</td>\n",
       "      <td>-0.401725</td>\n",
       "      <td>-6.427603</td>\n",
       "      <td>-0.100878</td>\n",
       "      <td>-0.047116</td>\n",
       "    </tr>\n",
       "    <tr>\n",
       "      <th>16</th>\n",
       "      <td>0.154905</td>\n",
       "      <td>-0.026507</td>\n",
       "      <td>-0.079522</td>\n",
       "      <td>-0.368982</td>\n",
       "      <td>-6.272698</td>\n",
       "      <td>0.027015</td>\n",
       "      <td>-0.026507</td>\n",
       "    </tr>\n",
       "    <tr>\n",
       "      <th>17</th>\n",
       "      <td>0.379275</td>\n",
       "      <td>0.066575</td>\n",
       "      <td>0.199724</td>\n",
       "      <td>-0.327412</td>\n",
       "      <td>-5.893423</td>\n",
       "      <td>0.203146</td>\n",
       "      <td>0.066575</td>\n",
       "    </tr>\n",
       "    <tr>\n",
       "      <th>18</th>\n",
       "      <td>0.293219</td>\n",
       "      <td>0.275800</td>\n",
       "      <td>0.827399</td>\n",
       "      <td>-0.294748</td>\n",
       "      <td>-5.600204</td>\n",
       "      <td>0.248182</td>\n",
       "      <td>0.275800</td>\n",
       "    </tr>\n",
       "    <tr>\n",
       "      <th>19</th>\n",
       "      <td>-0.502758</td>\n",
       "      <td>0.056579</td>\n",
       "      <td>0.169736</td>\n",
       "      <td>-0.305148</td>\n",
       "      <td>-6.102962</td>\n",
       "      <td>-0.127288</td>\n",
       "      <td>0.056579</td>\n",
       "    </tr>\n",
       "  </tbody>\n",
       "</table>\n",
       "</div>"
      ],
      "text/plain": [
       "       value  rolling_mean  rolling_sum  expanding_mean  expanding_sum  \\\n",
       "0  -1.388998           NaN          NaN       -1.388998      -1.388998   \n",
       "1  -0.108456           NaN          NaN       -0.748727      -1.497454   \n",
       "2  -0.026592     -0.508015    -1.524046       -0.508015      -1.524046   \n",
       "3  -2.001557     -0.712202    -2.136605       -0.881401      -3.525603   \n",
       "4  -1.198780     -1.075643    -3.226929       -0.944877      -4.724383   \n",
       "5  -0.199831     -1.133390    -3.400169       -0.820702      -4.924215   \n",
       "6   0.603248     -0.265121    -0.795363       -0.617281      -4.320966   \n",
       "7  -1.314016     -0.303533    -0.910599       -0.704373      -5.634983   \n",
       "8   0.172154     -0.179538    -0.538613       -0.606981      -5.462828   \n",
       "9  -1.195217     -0.779026    -2.337078       -0.665804      -6.658045   \n",
       "10  0.099305     -0.307919    -0.923757       -0.596249      -6.558739   \n",
       "11 -0.717788     -0.604566    -1.813699       -0.606377      -7.276527   \n",
       "12  0.990272      0.123930     0.371789       -0.483558      -6.286256   \n",
       "13  0.093080      0.121854     0.365563       -0.442370      -6.193176   \n",
       "14  0.100029      0.394460     1.183380       -0.406210      -6.093147   \n",
       "15 -0.334456     -0.047116    -0.141347       -0.401725      -6.427603   \n",
       "16  0.154905     -0.026507    -0.079522       -0.368982      -6.272698   \n",
       "17  0.379275      0.066575     0.199724       -0.327412      -5.893423   \n",
       "18  0.293219      0.275800     0.827399       -0.294748      -5.600204   \n",
       "19 -0.502758      0.056579     0.169736       -0.305148      -6.102962   \n",
       "\n",
       "        ewma  custom_window_result  \n",
       "0  -1.388998                   NaN  \n",
       "1  -0.535303                   NaN  \n",
       "2  -0.244611             -0.508015  \n",
       "3  -1.181649             -0.712202  \n",
       "4  -1.190491             -1.075643  \n",
       "5  -0.687299             -1.133390  \n",
       "6  -0.036944             -0.265121  \n",
       "7  -0.677984             -0.303533  \n",
       "8  -0.252083             -0.179538  \n",
       "9  -0.724111             -0.779026  \n",
       "10 -0.312202             -0.307919  \n",
       "11 -0.515044             -0.604566  \n",
       "12  0.237706              0.123930  \n",
       "13  0.165388              0.121854  \n",
       "14  0.132708              0.394460  \n",
       "15 -0.100878             -0.047116  \n",
       "16  0.027015             -0.026507  \n",
       "17  0.203146              0.066575  \n",
       "18  0.248182              0.275800  \n",
       "19 -0.127288              0.056579  "
      ]
     },
     "execution_count": 66,
     "metadata": {},
     "output_type": "execute_result"
    }
   ],
   "source": [
    "df"
   ]
  },
  {
   "cell_type": "code",
   "execution_count": null,
   "id": "a8d63394",
   "metadata": {},
   "outputs": [],
   "source": []
  },
  {
   "cell_type": "markdown",
   "id": "7a90635f",
   "metadata": {},
   "source": [
    "#### Q7. Write a code to print only the current month and year at the time of answering this question.\n",
    "[Hint: Use pandas.datetime function]"
   ]
  },
  {
   "cell_type": "code",
   "execution_count": 80,
   "id": "02da247f",
   "metadata": {},
   "outputs": [
    {
     "data": {
      "text/html": [
       "<div>\n",
       "<style scoped>\n",
       "    .dataframe tbody tr th:only-of-type {\n",
       "        vertical-align: middle;\n",
       "    }\n",
       "\n",
       "    .dataframe tbody tr th {\n",
       "        vertical-align: top;\n",
       "    }\n",
       "\n",
       "    .dataframe thead th {\n",
       "        text-align: right;\n",
       "    }\n",
       "</style>\n",
       "<table border=\"1\" class=\"dataframe\">\n",
       "  <thead>\n",
       "    <tr style=\"text-align: right;\">\n",
       "      <th></th>\n",
       "      <th>date_column</th>\n",
       "      <th>month</th>\n",
       "      <th>year</th>\n",
       "    </tr>\n",
       "  </thead>\n",
       "  <tbody>\n",
       "    <tr>\n",
       "      <th>0</th>\n",
       "      <td>2024-03-02 11:34:02.915707</td>\n",
       "      <td>3</td>\n",
       "      <td>2024</td>\n",
       "    </tr>\n",
       "  </tbody>\n",
       "</table>\n",
       "</div>"
      ],
      "text/plain": [
       "                 date_column  month  year\n",
       "0 2024-03-02 11:34:02.915707      3  2024"
      ]
     },
     "execution_count": 80,
     "metadata": {},
     "output_type": "execute_result"
    }
   ],
   "source": [
    "import pandas as pd\n",
    "from datetime import datetime\n",
    "\n",
    "# Get the current date and time\n",
    "current_date_time = datetime.now()\n",
    "\n",
    "# Convert to pandas datetime\n",
    "data = {'date_column': pd.to_datetime([current_date_time])}\n",
    "\n",
    "df = pd.DataFrame(data)\n",
    "df['month'] = df['date_column'].dt.month\n",
    "df['year'] = df['date_column'].dt.year\n",
    "df"
   ]
  },
  {
   "cell_type": "code",
   "execution_count": null,
   "id": "28d4d66a",
   "metadata": {},
   "outputs": [],
   "source": []
  },
  {
   "cell_type": "markdown",
   "id": "a59c8c3d",
   "metadata": {},
   "source": [
    "#### Q9. Write a Python program that reads a CSV file containing categorical data and converts a specified column to a categorical data type. The program should prompt the user to enter the file path, column name, and category order, and then display the sorted data."
   ]
  },
  {
   "cell_type": "code",
   "execution_count": 84,
   "id": "15d74c85",
   "metadata": {},
   "outputs": [
    {
     "data": {
      "text/html": [
       "<div>\n",
       "<style scoped>\n",
       "    .dataframe tbody tr th:only-of-type {\n",
       "        vertical-align: middle;\n",
       "    }\n",
       "\n",
       "    .dataframe tbody tr th {\n",
       "        vertical-align: top;\n",
       "    }\n",
       "\n",
       "    .dataframe thead th {\n",
       "        text-align: right;\n",
       "    }\n",
       "</style>\n",
       "<table border=\"1\" class=\"dataframe\">\n",
       "  <thead>\n",
       "    <tr style=\"text-align: right;\">\n",
       "      <th></th>\n",
       "      <th>Name</th>\n",
       "      <th>Category</th>\n",
       "      <th>Value</th>\n",
       "    </tr>\n",
       "  </thead>\n",
       "  <tbody>\n",
       "    <tr>\n",
       "      <th>0</th>\n",
       "      <td>ALice</td>\n",
       "      <td>Low</td>\n",
       "      <td>20</td>\n",
       "    </tr>\n",
       "    <tr>\n",
       "      <th>1</th>\n",
       "      <td>Bob</td>\n",
       "      <td>High</td>\n",
       "      <td>30</td>\n",
       "    </tr>\n",
       "    <tr>\n",
       "      <th>2</th>\n",
       "      <td>Claire</td>\n",
       "      <td>Medium</td>\n",
       "      <td>25</td>\n",
       "    </tr>\n",
       "    <tr>\n",
       "      <th>3</th>\n",
       "      <td>David</td>\n",
       "      <td>Low</td>\n",
       "      <td>15</td>\n",
       "    </tr>\n",
       "    <tr>\n",
       "      <th>4</th>\n",
       "      <td>Emma</td>\n",
       "      <td>High</td>\n",
       "      <td>35</td>\n",
       "    </tr>\n",
       "  </tbody>\n",
       "</table>\n",
       "</div>"
      ],
      "text/plain": [
       "     Name Category  Value\n",
       "0   ALice      Low     20\n",
       "1     Bob     High     30\n",
       "2  Claire   Medium     25\n",
       "3   David      Low     15\n",
       "4    Emma     High     35"
      ]
     },
     "execution_count": 84,
     "metadata": {},
     "output_type": "execute_result"
    }
   ],
   "source": [
    "import pandas as pd\n",
    "data = { \n",
    "    'Name' : ['ALice', 'Bob', 'Claire', 'David', 'Emma'],\n",
    "    'Category' : ['Low', 'High', 'Medium', 'Low', 'High'],\n",
    "    'Value' : [20, 30, 25, 15, 35]\n",
    "}\n",
    "\n",
    "df = pd.DataFrame(data);\n",
    "df.to_csv('example.csv')\n",
    "df"
   ]
  },
  {
   "cell_type": "code",
   "execution_count": 91,
   "id": "5cf821ad",
   "metadata": {},
   "outputs": [
    {
     "name": "stdout",
     "output_type": "stream",
     "text": [
      "Enter the CSV file path: example.csv\n",
      "Enter the column name to convert: Category\n",
      "Enter the category order (comma-separated): Low,Medium,High\n",
      "\n",
      "Sorted Data:\n",
      "   Unnamed: 0    Name Category  Value\n",
      "0           0   ALice      Low     20\n",
      "3           3   David      Low     15\n",
      "2           2  Claire   Medium     25\n",
      "1           1     Bob     High     30\n",
      "4           4    Emma     High     35\n"
     ]
    }
   ],
   "source": [
    "import pandas as pd\n",
    "\n",
    "# Function to convert specified column to categorical and display sorted data\n",
    "def convert_and_display_categorical(file_path, column_name, category_order):\n",
    "    # Read the CSV file into a DataFrame\n",
    "    df = pd.read_csv(file_path)\n",
    "\n",
    "    # Convert the specified column to categorical with specified category order\n",
    "    df[column_name] = pd.Categorical(df[column_name], categories=category_order, ordered=True)\n",
    "   \n",
    "    # Display the sorted data\n",
    "    sorted_data = df.sort_values(by=column_name)\n",
    "    print(\"\\nSorted Data:\")\n",
    "    print(sorted_data)\n",
    "\n",
    "# Get user input for file path, column name, and category order\n",
    "file_path_input = input(\"Enter the CSV file path: \")\n",
    "column_name_input = input(\"Enter the column name to convert: \")\n",
    "category_order_input = input(\"Enter the category order (comma-separated): \").split(',')\n",
    "\n",
    "# Call the function to convert and display categorical data\n",
    "convert_and_display_categorical(file_path_input, column_name_input, category_order_input)"
   ]
  },
  {
   "cell_type": "code",
   "execution_count": null,
   "id": "f97e650a",
   "metadata": {},
   "outputs": [],
   "source": []
  },
  {
   "cell_type": "markdown",
   "id": "ddc24762",
   "metadata": {},
   "source": [
    "#### Q10. Write a Python program that reads a CSV file containing sales data for different products and visualizes the data using a stacked bar chart to show the sales of each product category over time. The program should prompt the user to enter the file path and display the chart."
   ]
  },
  {
   "cell_type": "code",
   "execution_count": 98,
   "id": "68049f38",
   "metadata": {},
   "outputs": [
    {
     "data": {
      "text/html": [
       "<div>\n",
       "<style scoped>\n",
       "    .dataframe tbody tr th:only-of-type {\n",
       "        vertical-align: middle;\n",
       "    }\n",
       "\n",
       "    .dataframe tbody tr th {\n",
       "        vertical-align: top;\n",
       "    }\n",
       "\n",
       "    .dataframe thead th {\n",
       "        text-align: right;\n",
       "    }\n",
       "</style>\n",
       "<table border=\"1\" class=\"dataframe\">\n",
       "  <thead>\n",
       "    <tr style=\"text-align: right;\">\n",
       "      <th></th>\n",
       "      <th>Date</th>\n",
       "      <th>Category</th>\n",
       "      <th>Sales</th>\n",
       "    </tr>\n",
       "  </thead>\n",
       "  <tbody>\n",
       "    <tr>\n",
       "      <th>0</th>\n",
       "      <td>2022-01-01</td>\n",
       "      <td>A</td>\n",
       "      <td>50</td>\n",
       "    </tr>\n",
       "    <tr>\n",
       "      <th>1</th>\n",
       "      <td>2022-01-01</td>\n",
       "      <td>B</td>\n",
       "      <td>30</td>\n",
       "    </tr>\n",
       "    <tr>\n",
       "      <th>2</th>\n",
       "      <td>2022-01-02</td>\n",
       "      <td>A</td>\n",
       "      <td>40</td>\n",
       "    </tr>\n",
       "    <tr>\n",
       "      <th>3</th>\n",
       "      <td>2022-01-02</td>\n",
       "      <td>B</td>\n",
       "      <td>25</td>\n",
       "    </tr>\n",
       "    <tr>\n",
       "      <th>4</th>\n",
       "      <td>2022-01-03</td>\n",
       "      <td>A</td>\n",
       "      <td>60</td>\n",
       "    </tr>\n",
       "    <tr>\n",
       "      <th>5</th>\n",
       "      <td>2022-01-03</td>\n",
       "      <td>B</td>\n",
       "      <td>35</td>\n",
       "    </tr>\n",
       "  </tbody>\n",
       "</table>\n",
       "</div>"
      ],
      "text/plain": [
       "         Date Category  Sales\n",
       "0  2022-01-01        A     50\n",
       "1  2022-01-01        B     30\n",
       "2  2022-01-02        A     40\n",
       "3  2022-01-02        B     25\n",
       "4  2022-01-03        A     60\n",
       "5  2022-01-03        B     35"
      ]
     },
     "execution_count": 98,
     "metadata": {},
     "output_type": "execute_result"
    }
   ],
   "source": [
    "import pandas as pd\n",
    "\n",
    "data = {\n",
    "    'Date': ['2022-01-01', '2022-01-01', '2022-01-02', '2022-01-02', '2022-01-03', '2022-01-03'],\n",
    "    'Category': ['A', 'B', 'A', 'B', 'A', 'B'],\n",
    "    'Sales': [50, 30, 40, 25, 60, 35]\n",
    "}\n",
    "\n",
    "df = pd.DataFrame(data)\n",
    "df.to_csv('sales.csv')\n",
    "df"
   ]
  },
  {
   "cell_type": "code",
   "execution_count": 99,
   "id": "a6d83992",
   "metadata": {},
   "outputs": [
    {
     "data": {
      "text/html": [
       "<div>\n",
       "<style scoped>\n",
       "    .dataframe tbody tr th:only-of-type {\n",
       "        vertical-align: middle;\n",
       "    }\n",
       "\n",
       "    .dataframe tbody tr th {\n",
       "        vertical-align: top;\n",
       "    }\n",
       "\n",
       "    .dataframe thead th {\n",
       "        text-align: right;\n",
       "    }\n",
       "</style>\n",
       "<table border=\"1\" class=\"dataframe\">\n",
       "  <thead>\n",
       "    <tr style=\"text-align: right;\">\n",
       "      <th>Category</th>\n",
       "      <th>A</th>\n",
       "      <th>B</th>\n",
       "    </tr>\n",
       "    <tr>\n",
       "      <th>Date</th>\n",
       "      <th></th>\n",
       "      <th></th>\n",
       "    </tr>\n",
       "  </thead>\n",
       "  <tbody>\n",
       "    <tr>\n",
       "      <th>2022-01-01</th>\n",
       "      <td>50</td>\n",
       "      <td>30</td>\n",
       "    </tr>\n",
       "    <tr>\n",
       "      <th>2022-01-02</th>\n",
       "      <td>40</td>\n",
       "      <td>25</td>\n",
       "    </tr>\n",
       "    <tr>\n",
       "      <th>2022-01-03</th>\n",
       "      <td>60</td>\n",
       "      <td>35</td>\n",
       "    </tr>\n",
       "  </tbody>\n",
       "</table>\n",
       "</div>"
      ],
      "text/plain": [
       "Category     A   B\n",
       "Date              \n",
       "2022-01-01  50  30\n",
       "2022-01-02  40  25\n",
       "2022-01-03  60  35"
      ]
     },
     "execution_count": 99,
     "metadata": {},
     "output_type": "execute_result"
    }
   ],
   "source": [
    "pivoted_data = df.pivot(index='Date', columns='Category', values='Sales')\n",
    "pivoted_data"
   ]
  },
  {
   "cell_type": "code",
   "execution_count": 103,
   "id": "16cfe825",
   "metadata": {},
   "outputs": [
    {
     "name": "stdout",
     "output_type": "stream",
     "text": [
      "Enter the CSV file path: sales.csv\n"
     ]
    },
    {
     "data": {
      "image/png": "[encoded data removed]",
      "text/plain": [
       "<Figure size 1296x432 with 1 Axes>"
      ]
     },
     "metadata": {
      "needs_background": "light"
     },
     "output_type": "display_data"
    }
   ],
   "source": [
    "import pandas as pd\n",
    "\n",
    "# Function to visualize sales data using a stacked bar chart with pandas plotting\n",
    "def visualize_sales(file_path):\n",
    "    # Read the CSV file into a DataFrame\n",
    "    df = pd.read_csv(file_path)\n",
    "\n",
    "    # Convert the 'Date' column to datetime\n",
    "    df['Date'] = pd.to_datetime(df['Date'])\n",
    "\n",
    "    # Pivot the DataFrame to get 'Category' as columns, 'Date' as index, and 'Sales' as values\n",
    "    pivoted_data = df.pivot(index='Date', columns='Category', values='Sales')\n",
    "\n",
    "    # Plotting a stacked bar chart using pandas plotting\n",
    "    ax = pivoted_data.plot(kind='bar', stacked=True, figsize=(10, 6))\n",
    "\n",
    "    # Set labels and title\n",
    "    ax.set_xlabel('Date')\n",
    "    ax.set_ylabel('Sales')\n",
    "    ax.set_title('Stacked Bar Chart of Sales by Category Over Time')\n",
    "\n",
    "    # Display the legend\n",
    "    ax.legend(title='Category', loc='upper left')\n",
    "\n",
    "# Get user input for the CSV file path\n",
    "file_path_input = input(\"Enter the CSV file path: \")\n",
    "\n",
    "# Call the function to visualize sales data\n",
    "visualize_sales(file_path_input)"
   ]
  },
  {
   "cell_type": "code",
   "execution_count": null,
   "id": "eba39f5f",
   "metadata": {},
   "outputs": [],
   "source": []
  },
  {
   "cell_type": "code",
   "execution_count": null,
   "id": "0c2fa386",
   "metadata": {},
   "outputs": [],
   "source": []
  },
  {
   "cell_type": "code",
   "execution_count": 110,
   "id": "6797a1cd",
   "metadata": {},
   "outputs": [
    {
     "data": {
      "text/html": [
       "<div>\n",
       "<style scoped>\n",
       "    .dataframe tbody tr th:only-of-type {\n",
       "        vertical-align: middle;\n",
       "    }\n",
       "\n",
       "    .dataframe tbody tr th {\n",
       "        vertical-align: top;\n",
       "    }\n",
       "\n",
       "    .dataframe thead th {\n",
       "        text-align: right;\n",
       "    }\n",
       "</style>\n",
       "<table border=\"1\" class=\"dataframe\">\n",
       "  <thead>\n",
       "    <tr style=\"text-align: right;\">\n",
       "      <th></th>\n",
       "      <th>Student ID</th>\n",
       "      <th>Test Score</th>\n",
       "    </tr>\n",
       "  </thead>\n",
       "  <tbody>\n",
       "    <tr>\n",
       "      <th>0</th>\n",
       "      <td>1</td>\n",
       "      <td>85</td>\n",
       "    </tr>\n",
       "    <tr>\n",
       "      <th>1</th>\n",
       "      <td>2</td>\n",
       "      <td>90</td>\n",
       "    </tr>\n",
       "    <tr>\n",
       "      <th>2</th>\n",
       "      <td>3</td>\n",
       "      <td>80</td>\n",
       "    </tr>\n",
       "    <tr>\n",
       "      <th>3</th>\n",
       "      <td>4</td>\n",
       "      <td>75</td>\n",
       "    </tr>\n",
       "    <tr>\n",
       "      <th>4</th>\n",
       "      <td>5</td>\n",
       "      <td>85</td>\n",
       "    </tr>\n",
       "    <tr>\n",
       "      <th>5</th>\n",
       "      <td>6</td>\n",
       "      <td>82</td>\n",
       "    </tr>\n",
       "    <tr>\n",
       "      <th>6</th>\n",
       "      <td>7</td>\n",
       "      <td>78</td>\n",
       "    </tr>\n",
       "    <tr>\n",
       "      <th>7</th>\n",
       "      <td>8</td>\n",
       "      <td>85</td>\n",
       "    </tr>\n",
       "    <tr>\n",
       "      <th>8</th>\n",
       "      <td>9</td>\n",
       "      <td>90</td>\n",
       "    </tr>\n",
       "    <tr>\n",
       "      <th>9</th>\n",
       "      <td>10</td>\n",
       "      <td>85</td>\n",
       "    </tr>\n",
       "  </tbody>\n",
       "</table>\n",
       "</div>"
      ],
      "text/plain": [
       "   Student ID  Test Score\n",
       "0           1          85\n",
       "1           2          90\n",
       "2           3          80\n",
       "3           4          75\n",
       "4           5          85\n",
       "5           6          82\n",
       "6           7          78\n",
       "7           8          85\n",
       "8           9          90\n",
       "9          10          85"
      ]
     },
     "execution_count": 110,
     "metadata": {},
     "output_type": "execute_result"
    }
   ],
   "source": [
    "import pandas as pd\n",
    "\n",
    "data = {\n",
    "    'Student ID': [1, 2, 3, 4, 5, 6, 7, 8, 9, 10],\n",
    "    'Test Score': [85, 90, 80, 75, 85, 82, 78, 85, 90, 85]\n",
    "}\n",
    "\n",
    "df = pd.DataFrame(data)\n",
    "df.to_csv('students.csv')\n",
    "df"
   ]
  },
  {
   "cell_type": "code",
   "execution_count": 112,
   "id": "d3039923",
   "metadata": {},
   "outputs": [
    {
     "data": {
      "text/plain": [
       "0    85\n",
       "dtype: int64"
      ]
     },
     "execution_count": 112,
     "metadata": {},
     "output_type": "execute_result"
    }
   ],
   "source": [
    "mode_score = df['Test Score'].mode()\n",
    "mode_score"
   ]
  },
  {
   "cell_type": "code",
   "execution_count": 111,
   "id": "fca31948",
   "metadata": {},
   "outputs": [
    {
     "name": "stdout",
     "output_type": "stream",
     "text": [
      "Enter the CSV file path containing student data: students.csv\n",
      "\n",
      "Results:\n"
     ]
    },
    {
     "data": {
      "text/html": [
       "<div>\n",
       "<style scoped>\n",
       "    .dataframe tbody tr th:only-of-type {\n",
       "        vertical-align: middle;\n",
       "    }\n",
       "\n",
       "    .dataframe tbody tr th {\n",
       "        vertical-align: top;\n",
       "    }\n",
       "\n",
       "    .dataframe thead th {\n",
       "        text-align: right;\n",
       "    }\n",
       "</style>\n",
       "<table border=\"1\" class=\"dataframe\">\n",
       "  <thead>\n",
       "    <tr style=\"text-align: right;\">\n",
       "      <th></th>\n",
       "      <th>Metric</th>\n",
       "      <th>Score</th>\n",
       "    </tr>\n",
       "  </thead>\n",
       "  <tbody>\n",
       "    <tr>\n",
       "      <th>0</th>\n",
       "      <td>Mean</td>\n",
       "      <td>83.5</td>\n",
       "    </tr>\n",
       "    <tr>\n",
       "      <th>1</th>\n",
       "      <td>Median</td>\n",
       "      <td>85.0</td>\n",
       "    </tr>\n",
       "    <tr>\n",
       "      <th>2</th>\n",
       "      <td>Mode</td>\n",
       "      <td>85.0</td>\n",
       "    </tr>\n",
       "  </tbody>\n",
       "</table>\n",
       "</div>"
      ],
      "text/plain": [
       "   Metric  Score\n",
       "0    Mean   83.5\n",
       "1  Median   85.0\n",
       "2    Mode   85.0"
      ]
     },
     "execution_count": 111,
     "metadata": {},
     "output_type": "execute_result"
    }
   ],
   "source": [
    "import pandas as pd\n",
    "\n",
    "# Prompt the user to enter the file path\n",
    "file_path = input(\"Enter the CSV file path containing student data: \")\n",
    "\n",
    "# Read the CSV file into a Pandas DataFrame\n",
    "try:\n",
    "    df = pd.read_csv(file_path)\n",
    "except FileNotFoundError:\n",
    "    print(\"File not found. Please provide a valid file path.\")\n",
    "    exit()\n",
    "\n",
    "# Calculate the mean, median, and mode of the test scores\n",
    "mean_score = df['Test Score'].mean()\n",
    "median_score = df['Test Score'].median()\n",
    "mode_score = df['Test Score'].mode()\n",
    "\n",
    "# Create a DataFrame to display the results\n",
    "results_df = pd.DataFrame({\n",
    "    'Metric': ['Mean', 'Median', 'Mode'],\n",
    "    'Score': [mean_score, median_score, mode_score.iloc[0] if not mode_score.empty else None]\n",
    "})\n",
    "\n",
    "# Display the results table\n",
    "print(\"\\nResults:\")\n",
    "results_df"
   ]
  },
  {
   "cell_type": "code",
   "execution_count": null,
   "id": "4d9fe203",
   "metadata": {},
   "outputs": [],
   "source": []
  }
 ],
 "metadata": {
  "kernelspec": {
   "display_name": "Python 3 (ipykernel)",
   "language": "python",
   "name": "python3"
  },
  "language_info": {
   "codemirror_mode": {
    "name": "ipython",
    "version": 3
   },
   "file_extension": ".py",
   "mimetype": "text/x-python",
   "name": "python",
   "nbconvert_exporter": "python",
   "pygments_lexer": "ipython3",
   "version": "3.9.7"
  }
 },
 "nbformat": 4,
 "nbformat_minor": 5
}
