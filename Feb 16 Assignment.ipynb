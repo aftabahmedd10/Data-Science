{
 "cells": [
  {
   "cell_type": "code",
   "execution_count": 2,
   "id": "d6c5596e",
   "metadata": {},
   "outputs": [],
   "source": [
    "#### 16 Feb Assignment "
   ]
  },
  {
   "cell_type": "markdown",
   "id": "f8be9665",
   "metadata": {},
   "source": [
    "###### Q1. What is a database? Differentiate between SQL and NoSQL databases."
   ]
  },
  {
   "cell_type": "markdown",
   "id": "90fe6a8f",
   "metadata": {},
   "source": [
    "A database is a structured collection of data that is organized and stored in a way that allows efficient retrieval, management, and manipulation of the data. Databases are used to store and manage large volumes of data for various purposes, such as applications, websites, analytics, and more.\n",
    "\n",
    "##### SQL (Structured Query Language) Databases:\n",
    "\n",
    "SQL databases are relational databases that use structured query language (SQL) to manage and manipulate data. They are based on a schema that defines the structure of the data, including tables, columns, and relationships. \n",
    "\n",
    "Some characteristics of SQL databases include:\n",
    "\n",
    "###### Tabular Structure: \n",
    "Data is stored in tables with rows and columns. Each column has a data type, and each row represents a record.\n",
    "\n",
    "###### Data Integrity: \n",
    "SQL databases enforce data integrity rules using constraints like primary keys, foreign keys, and unique constraints.\n",
    "\n",
    "###### ACID Transactions: \n",
    "ACID (Atomicity, Consistency, Isolation, Durability) properties ensure data consistency and reliability.\n",
    "\n",
    "###### Standardized Query Language: \n",
    "SQL is used to query and manipulate data. Common SQL database systems include MySQL, PostgreSQL, Oracle, and Microsoft SQL Server.\n",
    "\n",
    "###### Schemas: \n",
    "Data is organized using predefined schemas, making it suitable for structured and well-defined data.\n",
    "\n",
    "##### NoSQL (Not Only SQL) Databases:\n",
    "\n",
    "NoSQL databases are non-relational databases designed for flexibility, scalability, and high-performance data storage and retrieval. They do not use a fixed schema and are particularly suited for unstructured or semi-structured data. \n",
    "\n",
    "Some characteristics of NoSQL databases include:\n",
    "\n",
    "###### Document-Based: \n",
    "Data is stored as documents, which can be in formats like JSON or XML. Each document can have varying structures.\n",
    "\n",
    "###### Scalability: \n",
    "NoSQL databases are designed to scale horizontally across multiple servers or nodes.\n",
    "\n",
    "###### Flexible Schema: \n",
    "NoSQL databases can handle dynamic and changing data structures without requiring a predefined schema.\n",
    "\n",
    "###### Types: \n",
    "There are different types of NoSQL databases, including document stores (e.g., MongoDB), key-value stores (e.g., Redis), column-family stores (e.g., Apache Cassandra), and graph databases (e.g., Neo4j).\n",
    "\n",
    "###### CAP Theorem: \n",
    "NoSQL databases often follow the CAP theorem, which states that a distributed system can achieve at most two out of three: Consistency, Availability, and Partition Tolerance.\n",
    "\n",
    "##### Key Differences:\n",
    "\n",
    "###### Data Model:\n",
    "\n",
    "SQL: Uses a structured, tabular data model with fixed schemas.\n",
    "NoSQL: Uses a flexible, document-based or key-value data model with dynamic schemas.\n",
    "\n",
    "###### Query Language:\n",
    "\n",
    "SQL: Utilizes the SQL language for querying and manipulating data.\n",
    "NoSQL: Each type of NoSQL database may have its query language, but they generally lack a standardized language like SQL.\n",
    "\n",
    "###### Scalability:\n",
    "\n",
    "SQL: Vertical scaling (scaling up resources) is common, but horizontal scaling can be challenging.\n",
    "NoSQL: Designed for easy horizontal scaling across distributed systems.\n",
    "\n",
    "###### Data Relationships:\n",
    "\n",
    "SQL: Relational databases handle complex relationships through foreign keys.\n",
    "NoSQL: Relationships can be represented but are typically more denormalized or managed programmatically.\n",
    "\n",
    "###### Use Cases:\n",
    "\n",
    "SQL: Suitable for structured and well-defined data with complex relationships.\n",
    "NoSQL: Suited for unstructured or semi-structured data, high write loads, and applications requiring rapid scaling.\n",
    "\n",
    "The choice between SQL and NoSQL databases depends on factors like the nature of the data, scalability needs, performance requirements, and the development team's familiarity with the technology."
   ]
  },
  {
   "cell_type": "code",
   "execution_count": null,
   "id": "9b79a0cf",
   "metadata": {},
   "outputs": [],
   "source": []
  },
  {
   "cell_type": "markdown",
   "id": "a4c2d2e5",
   "metadata": {},
   "source": [
    "###### Q2. What is DDL? Explain why CREATE, DROP, ALTER, and TRUNCATE are used with an example."
   ]
  },
  {
   "cell_type": "markdown",
   "id": "ee0ce038",
   "metadata": {},
   "source": [
    "DDL (Data Definition Language) is a subset of SQL (Structured Query Language) used to define, manage, and modify the structure of database objects. DDL statements are responsible for creating, altering, and deleting database objects such as tables, indexes, views, and schemas. Unlike DML (Data Manipulation Language), which deals with data manipulation, DDL focuses on the organization and layout of data within the database.\n",
    "\n",
    "Here are explanations and examples of commonly used DDL statements:\n",
    "\n",
    "1. CREATE: The CREATE statement is used to create new database objects, such as tables, indexes, and views."
   ]
  },
  {
   "cell_type": "raw",
   "id": "7686d25e",
   "metadata": {},
   "source": [
    "CREATE TABLE Employees (\n",
    "    ID INT PRIMARY KEY,\n",
    "    Name VARCHAR(50),\n",
    "    Salary DECIMAL(10, 2)\n",
    ");"
   ]
  },
  {
   "cell_type": "markdown",
   "id": "58093358",
   "metadata": {},
   "source": [
    "2. DROP: The DROP statement is used to delete existing database objects, such as tables, indexes, and views."
   ]
  },
  {
   "cell_type": "raw",
   "id": "1a9a433c",
   "metadata": {},
   "source": [
    "DROP TABLE Customers;"
   ]
  },
  {
   "cell_type": "markdown",
   "id": "c2490e83",
   "metadata": {},
   "source": [
    "3. ALTER: The ALTER statement is used to modify the structure of an existing database object, such as adding, modifying, or deleting columns."
   ]
  },
  {
   "cell_type": "raw",
   "id": "e6df5a07",
   "metadata": {},
   "source": [
    "ALTER TABLE Employees ADD Email VARCHAR(100);"
   ]
  },
  {
   "cell_type": "markdown",
   "id": "d2b1a79f",
   "metadata": {},
   "source": [
    "4. TRUNCATE: The TRUNCATE statement is used to remove all rows from a table while retaining the table's structure. It is a faster alternative to the DELETE statement for removing all data."
   ]
  },
  {
   "cell_type": "raw",
   "id": "31379b76",
   "metadata": {},
   "source": [
    "TRUNCATE TABLE Orders;"
   ]
  },
  {
   "cell_type": "code",
   "execution_count": null,
   "id": "19aac9e8",
   "metadata": {},
   "outputs": [],
   "source": []
  },
  {
   "cell_type": "markdown",
   "id": "f44493c0",
   "metadata": {},
   "source": [
    "###### Q3. What is DML? Explain INSERT, UPDATE, and DELETE with an example."
   ]
  },
  {
   "cell_type": "markdown",
   "id": "e1d8b86f",
   "metadata": {},
   "source": [
    "DML (Data Manipulation Language) is a subset of SQL (Structured Query Language) used to manipulate data stored in a database. DML statements allow you to insert, update, and delete data within tables. Unlike DDL (Data Definition Language), which focuses on defining and managing the structure of database objects, DML focuses on interacting with the actual data stored in the database.\n",
    "\n",
    "Here are explanations and examples of commonly used DML statements:\n",
    "\n",
    "1. INSERT: The INSERT statement is used to add new records (rows) into a table."
   ]
  },
  {
   "cell_type": "raw",
   "id": "cf4bf4a3",
   "metadata": {},
   "source": [
    "INSERT INTO Customers (CustomerID, FirstName, LastName, Email)\n",
    "VALUES (1, 'John', 'Doe', 'john@example.com');"
   ]
  },
  {
   "cell_type": "markdown",
   "id": "36aa7060",
   "metadata": {},
   "source": [
    "2. UPDATE: The UPDATE statement is used to modify existing records in a table."
   ]
  },
  {
   "cell_type": "raw",
   "id": "b496d1cb",
   "metadata": {},
   "source": [
    "UPDATE Customers\n",
    "SET Email = 'cust1@example.com'\n",
    "WHERE CustomerID = 1;"
   ]
  },
  {
   "cell_type": "markdown",
   "id": "d498c036",
   "metadata": {},
   "source": [
    "3. DELETE: The DELETE statement is used to remove records from a table"
   ]
  },
  {
   "cell_type": "markdown",
   "id": "0dbb47c5",
   "metadata": {},
   "source": [
    "DELETE FROM Customers\n",
    "WHERE CustomerID = 1;"
   ]
  },
  {
   "cell_type": "code",
   "execution_count": null,
   "id": "3e61e993",
   "metadata": {},
   "outputs": [],
   "source": []
  },
  {
   "cell_type": "markdown",
   "id": "34652d6f",
   "metadata": {},
   "source": [
    "###### Q4. What is DQL? Explain SELECT with an example."
   ]
  },
  {
   "cell_type": "markdown",
   "id": "d403027d",
   "metadata": {},
   "source": [
    "DQL (Data Query Language) is a subset of SQL (Structured Query Language) used to retrieve data from a database. DQL is focused on querying the database to retrieve specific information based on specified criteria. The primary DQL statement is the SELECT statement, which is used to retrieve data from one or more tables in a database.\n",
    "\n",
    "1. SELECT: The SELECT statement is used to retrieve data from one or more tables in a database. It allows you to specify the columns you want to retrieve, the table(s) you want to query, and optional filtering criteria using the WHERE clause."
   ]
  },
  {
   "cell_type": "raw",
   "id": "6dd42e3b",
   "metadata": {},
   "source": [
    "SELECT FirstName, LastName\n",
    "FROM Customers\n",
    "WHERE Balance > 100;"
   ]
  },
  {
   "cell_type": "code",
   "execution_count": null,
   "id": "6a5e88e3",
   "metadata": {},
   "outputs": [],
   "source": []
  },
  {
   "cell_type": "markdown",
   "id": "829f5d82",
   "metadata": {},
   "source": [
    "###### Q5. Explain Primary Key and Foreign Key."
   ]
  },
  {
   "cell_type": "markdown",
   "id": "3ae4cd19",
   "metadata": {},
   "source": [
    "Primary Key and Foreign Key are two fundamental concepts in relational databases that define relationships between tables and ensure data integrity. They are used to establish connections between different tables and maintain consistency in the data.\n",
    "\n",
    "#### Primary Key:\n",
    "A Primary Key is a unique identifier for each record (row) in a table. It ensures that each row can be uniquely identified and accessed within the table. The primary key enforces the integrity and uniqueness of the data in the table. In most databases, primary keys are implemented using indexes, which improve query performance.\n",
    "\n",
    "##### Key characteristics of a primary key:\n",
    "\n",
    "1. Uniqueness: Each value in the primary key column must be unique across all rows in the table.\n",
    "\n",
    "2. Not Null: A primary key column cannot contain null values, as null values cannot uniquely identify a record.\n",
    "\n",
    "3. Persistence: The primary key remains constant for the lifetime of the record.\n",
    "\n",
    "Example: Consider a table named Students with a primary key StudentID. Each student's ID is unique and serves as the primary key for identifying individual students.\n",
    "\n",
    "#### Foreign Key:\n",
    "A Foreign Key is a column or set of columns in one table that refers to the primary key of another table. It establishes a link between the data in two tables, representing a relationship between them. Foreign keys ensure referential integrity, meaning that the data in the related tables remains consistent.\n",
    "\n",
    "##### Key characteristics of a foreign key:\n",
    "\n",
    "1. References Primary Key: The foreign key column in one table refers to the primary key column in another table.\n",
    "\n",
    "2. Maintains Relationships: Foreign keys maintain relationships between data in different tables.\n",
    "\n",
    "3. Data Integrity: Foreign keys enforce referential integrity, preventing the insertion of invalid or inconsistent data.\n",
    "\n",
    "Example: Consider two tables, Orders and Customers, where the CustomerID in the Orders table is a foreign key that references the primary key CustomerID in the Customers table. This establishes a relationship between orders and customers.\n",
    "\n",
    "In summary, primary keys uniquely identify records within a table, while foreign keys establish relationships between tables by linking to the primary key of another table. Together, primary and foreign keys play a crucial role in maintaining data integrity, ensuring accurate relationships, and enabling effective querying and manipulation of data in relational databases."
   ]
  },
  {
   "cell_type": "code",
   "execution_count": null,
   "id": "3964a455",
   "metadata": {},
   "outputs": [],
   "source": []
  },
  {
   "cell_type": "markdown",
   "id": "e8377b3e",
   "metadata": {},
   "source": [
    "###### Q6. Write a python code to connect MySQL to python. Explain the cursor() and execute() method."
   ]
  },
  {
   "cell_type": "raw",
   "id": "538e9172",
   "metadata": {},
   "source": [
    "import mysql.connector\n",
    "con = mysql.connector.connect(\n",
    "    host= \"yourhost\",\n",
    "    user=\"youruser\",\n",
    "    password=\"yourpassword\",\n",
    "    database=\"yourdatabase\")\n",
    "\n",
    "cursor = con.cursor()\n",
    "cursor.execute(\"CREATE TABLE if not exists TABLENAME (column1 int, column2 varchar(255))\")\n",
    "\n",
    "cursor.execute(\"insert into persons values(1, 'abcdef')\")\n",
    "cursor.execute('insert into persons values(2, \"adfas\")')\n",
    "cursor.execute(\"insert into persons values(3, 'asdadsg')\")\n",
    "\n",
    "con.commit()\n",
    "\n",
    "cursor.close()\n",
    "con.close()"
   ]
  },
  {
   "cell_type": "code",
   "execution_count": null,
   "id": "f41c0252",
   "metadata": {},
   "outputs": [],
   "source": []
  },
  {
   "cell_type": "markdown",
   "id": "55fe36c1",
   "metadata": {},
   "source": [
    "###### Q7. Give the order of execution of SQL clauses in an SQL query."
   ]
  },
  {
   "cell_type": "markdown",
   "id": "a589c5f5",
   "metadata": {},
   "source": [
    "In a standard SQL query, the clauses are generally executed in the following order:\n",
    "\n",
    "###### FROM: \n",
    "This clause specifies the tables from which you are selecting data.\n",
    "\n",
    "###### JOIN: \n",
    "If you are using any join operations to combine multiple tables, they are typically executed after the FROM clause.\n",
    "\n",
    "###### WHERE: \n",
    "The WHERE clause is used to filter rows based on a specified condition.\n",
    "\n",
    "###### GROUP BY: \n",
    "If you are performing grouping, the GROUP BY clause is used to group rows based on a specified column or columns.\n",
    "\n",
    "###### HAVING: \n",
    "The HAVING clause is used to filter groups based on a specified condition after the GROUP BY clause.\n",
    "\n",
    "###### SELECT: \n",
    "The SELECT clause is used to specify the columns you want to retrieve.\n",
    "\n",
    "###### DISTINCT: \n",
    "If you use the DISTINCT keyword, it is applied to the columns specified in the SELECT clause.\n",
    "\n",
    "###### ORDER BY: \n",
    "The ORDER BY clause is used to sort the result set based on one or more columns.\n",
    "\n",
    "###### LIMIT / OFFSET: \n",
    "These clauses limit the number of rows returned and are usually applied last.\n"
   ]
  },
  {
   "cell_type": "code",
   "execution_count": null,
   "id": "5218821f",
   "metadata": {},
   "outputs": [],
   "source": []
  },
  {
   "cell_type": "code",
   "execution_count": null,
   "id": "3b21e230",
   "metadata": {},
   "outputs": [],
   "source": []
  },
  {
   "cell_type": "code",
   "execution_count": null,
   "id": "6a208872",
   "metadata": {},
   "outputs": [],
   "source": []
  }
 ],
 "metadata": {
  "kernelspec": {
   "display_name": "Python 3 (ipykernel)",
   "language": "python",
   "name": "python3"
  },
  "language_info": {
   "codemirror_mode": {
    "name": "ipython",
    "version": 3
   },
   "file_extension": ".py",
   "mimetype": "text/x-python",
   "name": "python",
   "nbconvert_exporter": "python",
   "pygments_lexer": "ipython3",
   "version": "3.9.7"
  }
 },
 "nbformat": 4,
 "nbformat_minor": 5
}
