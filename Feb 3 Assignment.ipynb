{
 "cells": [
  {
   "cell_type": "code",
   "execution_count": null,
   "id": "2e1e2e72",
   "metadata": {},
   "outputs": [],
   "source": []
  },
  {
   "cell_type": "markdown",
   "id": "86bb8912",
   "metadata": {},
   "source": [
    "###                                                                   3 Feb Assignment"
   ]
  },
  {
   "cell_type": "markdown",
   "id": "ce66bf86",
   "metadata": {},
   "source": [
    "###### Q1. Which keyword is used to create a function? Create a function to return a list of odd numbers in the range of 1 to 25."
   ]
  },
  {
   "cell_type": "code",
   "execution_count": 1,
   "id": "51388f44",
   "metadata": {},
   "outputs": [
    {
     "name": "stdout",
     "output_type": "stream",
     "text": [
      "[1, 3, 5, 7, 9, 11, 13, 15, 17, 19, 21, 23, 25]\n"
     ]
    }
   ],
   "source": [
    "# def keyword is used to create a function\n",
    "\n",
    "def odd():\n",
    "    ans = []\n",
    "    for i in range(1, 26, 2):\n",
    "        ans.append(i)\n",
    "    return ans\n",
    "\n",
    "print(odd())"
   ]
  },
  {
   "cell_type": "code",
   "execution_count": null,
   "id": "9421fb8b",
   "metadata": {},
   "outputs": [],
   "source": []
  },
  {
   "cell_type": "markdown",
   "id": "0fb5c960",
   "metadata": {},
   "source": [
    "###### Q2. Why *args and **kwargs is used in some functions? Create a function each for *args and **kwargs to demonstrate their use."
   ]
  },
  {
   "cell_type": "markdown",
   "id": "beb2a8ed",
   "metadata": {},
   "source": [
    "*args and **kwargs are used in Python to allow a function to accept a variable number of arguments.\n",
    "\n",
    "*args is used to pass a variable number of non-keyword arguments to a function. The arguments are passed as a tuple to the function\n",
    "\n",
    "**kwargs is used to pass a variable number of keyword arguments to a function."
   ]
  },
  {
   "cell_type": "code",
   "execution_count": 2,
   "id": "83856153",
   "metadata": {},
   "outputs": [
    {
     "name": "stdout",
     "output_type": "stream",
     "text": [
      "1 2 3 4 5 6 7 8 9 "
     ]
    }
   ],
   "source": [
    "def arguments(*args):\n",
    "    for item in args:\n",
    "        print(item, end = \" \")\n",
    "        \n",
    "arguments(1,2,3,4,5,6,7,8,9)"
   ]
  },
  {
   "cell_type": "code",
   "execution_count": 3,
   "id": "7f264abc",
   "metadata": {},
   "outputs": [
    {
     "name": "stdout",
     "output_type": "stream",
     "text": [
      "name: Data Science\n",
      "platform: PWSkills\n",
      "duration: 8 Months\n"
     ]
    }
   ],
   "source": [
    "def key_arguments(**kwargs):\n",
    "    for key, value in kwargs.items():\n",
    "        print(f\"{key}: {value}\")\n",
    "        \n",
    "key_arguments(name='Data Science', platform='PWSkills', duration='8 Months')"
   ]
  },
  {
   "cell_type": "code",
   "execution_count": null,
   "id": "e70d1afb",
   "metadata": {},
   "outputs": [],
   "source": []
  },
  {
   "cell_type": "markdown",
   "id": "e3c69b96",
   "metadata": {},
   "source": [
    "###### Q3. What is an iterator in python? Name the method used to initialise the iterator object and the method used for iteration. Use these methods to print the first five elements of the given list [2, 4, 6, 8, 10, 12, 14, 16,18, 20]."
   ]
  },
  {
   "cell_type": "markdown",
   "id": "35279b0a",
   "metadata": {},
   "source": [
    "An iterator is an object that implements the iterator protocol, which is a set of methods that allow an object to be iterated over.\n",
    "\n",
    "The iter() method is used to initialize the iterator object. The next() method is used for iteration. When the next() method is called on an iterator, it returns the next value in the sequence until the end of the sequence is reached, at which point it raises a StopIteration exception."
   ]
  },
  {
   "cell_type": "code",
   "execution_count": 4,
   "id": "14d12810",
   "metadata": {},
   "outputs": [
    {
     "name": "stdout",
     "output_type": "stream",
     "text": [
      "2\n",
      "4\n",
      "6\n",
      "8\n",
      "10\n"
     ]
    }
   ],
   "source": [
    "lst = [2,4,6,8,10,12,14,16,18,20]\n",
    "lst_iterator = iter(lst)\n",
    "for i in range(5):\n",
    "    print(next(lst_iterator))"
   ]
  },
  {
   "cell_type": "code",
   "execution_count": null,
   "id": "f219a615",
   "metadata": {},
   "outputs": [],
   "source": []
  },
  {
   "cell_type": "markdown",
   "id": "c5767665",
   "metadata": {},
   "source": [
    "###### Q4. What is a generator function in python? Why yield keyword is used? Give an example of a generator function."
   ]
  },
  {
   "cell_type": "markdown",
   "id": "e457b590",
   "metadata": {},
   "source": [
    "A generator function is a special kind of function that returns a generator iterator, which can be used to iterate over a sequence of values. A generator function is defined like a normal function, but instead of returning a value using the return keyword, it yields a value using the yield keyword.\n",
    "\n",
    "The yield keyword is used because it allows the generator function to produce a value and then pause its execution, allowing the caller to use the value before the generator function resumes its execution. This is in contrast to a normal function, which runs to completion and returns a single value."
   ]
  },
  {
   "cell_type": "code",
   "execution_count": 5,
   "id": "36f72b52",
   "metadata": {},
   "outputs": [
    {
     "name": "stdout",
     "output_type": "stream",
     "text": [
      "<generator object generate_even at 0x00000230902F9C80>\n",
      "0 2 4 6 8 10 12 14 16 18 "
     ]
    }
   ],
   "source": [
    "def generate_even(n):\n",
    "    a = 0\n",
    "    for i in range(n):\n",
    "        yield a\n",
    "        a += 2\n",
    "        \n",
    "even_num = generate_even(10)\n",
    "print(even_num)\n",
    "\n",
    "for num in even_num:\n",
    "    print(num, end= \" \")"
   ]
  },
  {
   "cell_type": "code",
   "execution_count": null,
   "id": "71523877",
   "metadata": {},
   "outputs": [],
   "source": []
  },
  {
   "cell_type": "markdown",
   "id": "bbf483e4",
   "metadata": {},
   "source": [
    "###### Q5. Create a generator function for prime numbers less than 1000. Use the next() method to print the first 20 prime numbers."
   ]
  },
  {
   "cell_type": "code",
   "execution_count": 9,
   "id": "22424433",
   "metadata": {},
   "outputs": [
    {
     "name": "stdout",
     "output_type": "stream",
     "text": [
      "2 3 5 7 11 13 17 19 23 29 31 37 41 43 47 53 59 61 67 71 "
     ]
    }
   ],
   "source": [
    "def generate_prime(num):\n",
    "    for i in range(2, num):\n",
    "        j = 2\n",
    "        while j*j <= i:\n",
    "            if i%j == 0:\n",
    "                break\n",
    "            j += 2\n",
    "        else:\n",
    "            yield i\n",
    "            \n",
    "prime = generate_prime(1000)\n",
    "\n",
    "for i in range(20):\n",
    "    print(next(prime), end = \" \")"
   ]
  },
  {
   "cell_type": "code",
   "execution_count": null,
   "id": "372b55bd",
   "metadata": {},
   "outputs": [],
   "source": []
  }
 ],
 "metadata": {
  "kernelspec": {
   "display_name": "Python 3 (ipykernel)",
   "language": "python",
   "name": "python3"
  },
  "language_info": {
   "codemirror_mode": {
    "name": "ipython",
    "version": 3
   },
   "file_extension": ".py",
   "mimetype": "text/x-python",
   "name": "python",
   "nbconvert_exporter": "python",
   "pygments_lexer": "ipython3",
   "version": "3.9.7"
  }
 },
 "nbformat": 4,
 "nbformat_minor": 5
}
