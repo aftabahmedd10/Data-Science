{
 "cells": [
  {
   "cell_type": "markdown",
   "id": "9f8adcea",
   "metadata": {},
   "source": [
    "### Feb 14 Assignment"
   ]
  },
  {
   "cell_type": "code",
   "execution_count": null,
   "id": "40be1afc",
   "metadata": {},
   "outputs": [],
   "source": []
  },
  {
   "cell_type": "markdown",
   "id": "f5f50d27",
   "metadata": {},
   "source": [
    "###### Q1. What is multithreading in python? Why is it used? Name the module used to handle threads in python"
   ]
  },
  {
   "cell_type": "markdown",
   "id": "8c30dbde",
   "metadata": {},
   "source": [
    "Multithreading in Python refers to the ability of a program to execute multiple threads (small units of a process) concurrently within a single process. Each thread runs independently and shares the same resources, such as memory space, but has its own execution path. Python's Global Interpreter Lock (GIL) allows only one thread to execute Python bytecode at a time, making true parallelism harder to achieve with threads in Python for CPU-bound tasks. However, multithreading is still useful for I/O-bound tasks, as threads can perform other tasks while waiting for I/O operations to complete.\n",
    "\n",
    "Multithreading is used to achieve concurrency in Python, enabling efficient utilization of resources and improved responsiveness in applications that have many I/O-bound operations, such as network communication, file I/O, or database access.\n",
    "\n",
    "The threading module is used to handle threads in Python. It provides classes and functions to create and manage threads. The threading module allows you to create and start threads, synchronize thread execution, and communicate between threads using various synchronization mechanisms like locks, semaphores, and events."
   ]
  },
  {
   "cell_type": "code",
   "execution_count": null,
   "id": "378c6c00",
   "metadata": {},
   "outputs": [],
   "source": []
  },
  {
   "cell_type": "markdown",
   "id": "2a8cfd0e",
   "metadata": {},
   "source": [
    "###### Q2. Why threading module used? Write the use of the following functions\n",
    "1. activeCount()\n",
    "2. currentThread()\n",
    "3. enumerate()"
   ]
  },
  {
   "cell_type": "markdown",
   "id": "f47936d6",
   "metadata": {},
   "source": [
    "The threading module in Python is used to handle threads and provides a high-level interface for creating and managing threads. It allows you to achieve concurrency and manage multiple tasks simultaneously, making it useful for handling I/O-bound operations and achieving parallelism for certain tasks.\n",
    "\n",
    "\n",
    "###### activeCount():\n",
    "\n",
    "The activeCount() function returns the number of currently active Thread objects in the program.\n",
    "It can be helpful for monitoring the number of active threads in your application and can be used for debugging or performance monitoring purposes.\n",
    "\n",
    "###### currentThread():\n",
    "\n",
    "The currentThread() function returns the current Thread object representing the thread that is executing the function.\n",
    "It can be used to get information about the current thread, such as its name, ID, or other attributes.\n",
    "\n",
    "###### enumerate():\n",
    "\n",
    "The enumerate() function returns a list of all currently active Thread objects.\n",
    "It is useful for obtaining a list of all running threads, allowing you to inspect their attributes, join them, or perform other operations."
   ]
  },
  {
   "cell_type": "code",
   "execution_count": null,
   "id": "9fa763ff",
   "metadata": {},
   "outputs": [],
   "source": []
  },
  {
   "cell_type": "markdown",
   "id": "a724d87b",
   "metadata": {},
   "source": [
    "###### Q3.Explain the following functions\n",
    "1. run()\n",
    "2. start()\n",
    "3. join()\n",
    "4. isAlive()"
   ]
  },
  {
   "cell_type": "markdown",
   "id": "8aa43b3e",
   "metadata": {},
   "source": [
    "The functions run(), start(), join(), and isAlive() are related to the execution and management of threads in Python using the threading module. Let's explain each of these functions:\n",
    "\n",
    "###### run():\n",
    "\n",
    "The run() method is a standard method in the threading.Thread class. It defines the entry point for the thread's activity when you start a thread using the start() method.\n",
    "When you create a custom thread class by subclassing threading.Thread, you can override the run() method to define the behavior of the thread.\n",
    "\n",
    "###### start():\n",
    "\n",
    "The start() method is used to start the execution of a thread. When you call start(), it schedules the thread to run, and the thread's run() method is invoked.\n",
    "It's important to note that you should never call the run() method directly; always use start() to launch the thread.\n",
    "\n",
    "###### join():\n",
    "\n",
    "The join() method is used to wait for a thread to complete its execution. When you call join() on a thread, the program waits for that thread to finish before proceeding to the next instruction.\n",
    "It is often used to ensure that the main thread waits for all other threads to finish before terminating the program.\n",
    "\n",
    "###### isAlive():\n",
    "\n",
    "The isAlive() method is used to check if a thread is still running or has completed its execution.\n",
    "It returns True if the thread is currently active (running), and False if the thread has completed or has not been started yet."
   ]
  },
  {
   "cell_type": "code",
   "execution_count": null,
   "id": "720db6eb",
   "metadata": {},
   "outputs": [],
   "source": []
  },
  {
   "cell_type": "markdown",
   "id": "bc4049d7",
   "metadata": {},
   "source": [
    "###### Q4. Write a python program to create two threads. Thread one must print the list of squares and thread two must print the list of cubes"
   ]
  },
  {
   "cell_type": "code",
   "execution_count": 4,
   "id": "30268382",
   "metadata": {},
   "outputs": [
    {
     "name": "stdout",
     "output_type": "stream",
     "text": [
      "Square of 1: 1\n",
      "Square of 2: 4\n",
      "Square of 3: 9\n",
      "Square of 4: 16\n",
      "Square of 5: 25\n",
      "Cube of 1: 1\n",
      "Cube of 2: 8\n",
      "Cube of 3: 27\n",
      "Cube of 4: 64\n",
      "Cube of 5: 125\n",
      "Both threads have finished.\n"
     ]
    }
   ],
   "source": [
    "import threading\n",
    "\n",
    "def print_squares(numbers):\n",
    "    for num in numbers:\n",
    "        square = num ** 2\n",
    "        print(f\"Square of {num}: {square}\")\n",
    "\n",
    "def print_cubes(numbers):\n",
    "    for num in numbers:\n",
    "        cube = num ** 3\n",
    "        print(f\"Cube of {num}: {cube}\")\n",
    "\n",
    "\n",
    "numbers = [1, 2, 3, 4, 5]\n",
    "\n",
    "thread_squares = threading.Thread(target=print_squares, args=(numbers,))\n",
    "thread_cubes = threading.Thread(target=print_cubes, args=(numbers,))\n",
    "\n",
    "thread_squares.start()\n",
    "thread_cubes.start()\n",
    "\n",
    "thread_squares.join()\n",
    "thread_cubes.join()\n",
    "\n",
    "print(\"Both threads have finished.\")"
   ]
  },
  {
   "cell_type": "code",
   "execution_count": null,
   "id": "d7cd3df4",
   "metadata": {},
   "outputs": [],
   "source": []
  },
  {
   "cell_type": "markdown",
   "id": "ea9383b7",
   "metadata": {},
   "source": [
    "###### Q5. State advantages and disadvantages of multithreading"
   ]
  },
  {
   "cell_type": "markdown",
   "id": "fbaad4ff",
   "metadata": {},
   "source": [
    "Multithreading in Python, like any other programming language, comes with its advantages and disadvantages. Let's explore them:\n",
    "\n",
    "###### Advantages of Multithreading:\n",
    "\n",
    "Concurrency and Responsiveness: Multithreading allows the execution of multiple tasks concurrently, making it ideal for I/O-bound operations. This concurrency improves the responsiveness of applications, especially in cases where tasks involve waiting for I/O operations like reading from files, network communication, or database access.\n",
    "\n",
    "Resource Sharing: Threads within the same process share the same memory space, making it easier to share data and resources between threads without the need for complex inter-process communication mechanisms.\n",
    "\n",
    "Parallelism for I/O-bound Tasks: While Python's Global Interpreter Lock (GIL) limits true parallelism for CPU-bound tasks, multithreading is still beneficial for I/O-bound tasks where the GIL is not a concern. Multiple threads can run concurrently and make better use of available CPU cores.\n",
    "\n",
    "Modularity: Multithreading allows you to break down complex tasks into smaller, more manageable threads, promoting code modularity and improving code organization.\n",
    "\n",
    "Better Resource Utilization: By utilizing multiple threads, you can make better use of CPU time and system resources, leading to potentially improved performance and efficiency.\n",
    "\n",
    "###### Disadvantages of Multithreading:\n",
    "\n",
    "Complexity of Synchronization: Threads in a multithreaded environment share resources, which can lead to synchronization issues like race conditions and deadlocks. Proper synchronization mechanisms, like locks and semaphores, are required to manage shared resources safely, making multithreaded code more complex and prone to bugs.\n",
    "\n",
    "Debugging and Testing: Multithreaded programs can be more challenging to debug and test due to non-deterministic behavior caused by thread scheduling and race conditions. Debugging race conditions and other concurrency-related issues can be time-consuming.\n",
    "\n",
    "GIL Limitations: In Python, the Global Interpreter Lock (GIL) restricts true parallelism for CPU-bound tasks. For CPU-bound operations, using multiple threads may not lead to significant performance improvements compared to using multiple processes.\n",
    "\n",
    "Increased Memory Overhead: Each thread has its own stack and thread-specific resources, leading to increased memory overhead compared to single-threaded programs.\n",
    "\n",
    "Performance Impact on CPU-bound Tasks: In some cases, multithreading can lead to performance degradation for CPU-bound tasks due to the overhead of thread management and the GIL contention.\n",
    "\n",
    "Platform Dependency: Multithreading behavior may vary across different operating systems and Python implementations, making code less portable.\n",
    "\n",
    "When deciding whether to use multithreading, consider the specific requirements and characteristics of your application. For I/O-bound tasks, multithreading can provide significant advantages, but for CPU-bound tasks, you may need to explore other approaches like multiprocessing or asynchronous programming to achieve true parallelism. Additionally, be cautious when implementing multithreaded code and ensure proper synchronization to avoid potential issues related to shared resources."
   ]
  },
  {
   "cell_type": "code",
   "execution_count": null,
   "id": "a061d2b0",
   "metadata": {},
   "outputs": [],
   "source": []
  },
  {
   "cell_type": "markdown",
   "id": "2ad31f9b",
   "metadata": {},
   "source": [
    "###### Q6. Explain deadlocks and race conditions."
   ]
  },
  {
   "cell_type": "markdown",
   "id": "abdf20a2",
   "metadata": {},
   "source": [
    "Deadlocks and Race Conditions are two common concurrency-related issues that can occur in multithreaded programs.\n",
    "\n",
    "###### 1. Deadlocks:\n",
    "\n",
    "A deadlock is a situation in which two or more threads are unable to proceed with their execution because each is waiting for a resource that is held by another thread. Essentially, it is a circular dependency among threads for resources, leading to a standstill. Deadlocks can occur when the following conditions are met:\n",
    "\n",
    "Mutual Exclusion: Each thread holds at least one resource exclusively, and other threads cannot access it while it is held.\n",
    "Hold and Wait: A thread holds one resource while waiting to acquire another resource.\n",
    "No Preemption: Resources cannot be forcibly taken away from a thread; only the owning thread can release them voluntarily.\n",
    "Circular Wait: A cycle of dependencies exists, where each thread is waiting for a resource held by another thread in the cycle.\n",
    "\n",
    "###### 2. Race Conditions:\n",
    "\n",
    "A race condition occurs when multiple threads access shared resources or variables in a way that leads to unpredictable results or unexpected behavior. The outcome of the program becomes dependent on the relative timing of thread execution. Race conditions can arise when:\n",
    "\n",
    "Multiple threads access a shared resource without proper synchronization.\n",
    "At least one thread performs a write operation on the shared resource.\n",
    "Race conditions can lead to inconsistent or incorrect results, as threads can interfere with each other's operations on the shared resource."
   ]
  },
  {
   "cell_type": "code",
   "execution_count": null,
   "id": "8cf592b4",
   "metadata": {},
   "outputs": [],
   "source": []
  },
  {
   "cell_type": "code",
   "execution_count": null,
   "id": "484fd95f",
   "metadata": {},
   "outputs": [],
   "source": []
  }
 ],
 "metadata": {
  "kernelspec": {
   "display_name": "Python 3 (ipykernel)",
   "language": "python",
   "name": "python3"
  },
  "language_info": {
   "codemirror_mode": {
    "name": "ipython",
    "version": 3
   },
   "file_extension": ".py",
   "mimetype": "text/x-python",
   "name": "python",
   "nbconvert_exporter": "python",
   "pygments_lexer": "ipython3",
   "version": "3.9.7"
  }
 },
 "nbformat": 4,
 "nbformat_minor": 5
}
