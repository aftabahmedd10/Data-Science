{
 "cells": [
  {
   "cell_type": "code",
   "execution_count": null,
   "id": "1e9f0448",
   "metadata": {},
   "outputs": [],
   "source": []
  },
  {
   "cell_type": "markdown",
   "id": "fdcf17bb",
   "metadata": {},
   "source": [
    "### Q1. List any five functions of the pandas library with execution."
   ]
  },
  {
   "cell_type": "markdown",
   "id": "6d34990b",
   "metadata": {},
   "source": [
    "read_csv(): Reading data from a CSV file and creating a DataFrame.\n",
    "\n",
    "head(): Displaying the first N rows of a DataFrame.\n",
    "\n",
    "last(): Displaying the last N rows of a DataFrame.\n",
    "\n",
    "describe(): Generating descriptive statistics of numerical columns in a DataFrame.\n",
    "\n",
    "groupby(): Grouping data based on specified columns.\n",
    "\n",
    "drop(): Dropping specified columns from a DataFrame.\n",
    "\n",
    "info(): Displaying a concise summary of a DataFrame, including data types and missing values.\n",
    "\n",
    "shape: Retrieving the dimensions (number of rows and columns) of a DataFrame.\n",
    "\n",
    "unique(): Returning unique values in a column of a DataFrame.\n",
    "\n",
    "fillna(): Filling missing values in a DataFrame with specified values.\n",
    "\n",
    "sort_values(): Sorting a DataFrame by one or more columns."
   ]
  },
  {
   "cell_type": "code",
   "execution_count": null,
   "id": "06d6ef57",
   "metadata": {},
   "outputs": [],
   "source": []
  },
  {
   "cell_type": "markdown",
   "id": "b40ca3fa",
   "metadata": {},
   "source": [
    "### Q2. Given a Pandas DataFrame df with columns 'A', 'B', and 'C', write a Python function to re-index the DataFrame with a new index that starts from 1 and increments by 2 for each row."
   ]
  },
  {
   "cell_type": "code",
   "execution_count": null,
   "id": "5618b3f2",
   "metadata": {},
   "outputs": [],
   "source": []
  },
  {
   "cell_type": "code",
   "execution_count": 1,
   "id": "276512ce",
   "metadata": {},
   "outputs": [
    {
     "name": "stdout",
     "output_type": "stream",
     "text": [
      "Original DataFrame:\n",
      "    A   B   C\n",
      "0  10  40  70\n",
      "1  20  50  80\n",
      "2  30  60  90\n",
      "\n",
      "Reindexed DataFrame:\n",
      "    A   B   C\n",
      "1  20  50  80\n",
      "3  30  60  90\n",
      "5  30  60  90\n"
     ]
    }
   ],
   "source": [
    "import pandas as pd\n",
    "\n",
    "# Sample DataFrame\n",
    "data = {'A': [10, 20, 30],\n",
    "        'B': [40, 50, 60],\n",
    "        'C': [70, 80, 90]}\n",
    "\n",
    "df = pd.DataFrame(data)\n",
    "\n",
    "# Function to re-index using reindex with 'ffill'\n",
    "def reindex_dataframe(df):\n",
    "    new_index = range(1, 2 * len(df) + 1, 2)\n",
    "    df_reindexed = df.reindex(new_index, method='ffill')\n",
    "    return df_reindexed\n",
    "\n",
    "# Reindex the DataFrame\n",
    "df_reindexed = reindex_dataframe(df)\n",
    "\n",
    "# Display the original and reindexed DataFrames\n",
    "print(\"Original DataFrame:\")\n",
    "print(df)\n",
    "\n",
    "print(\"\\nReindexed DataFrame:\")\n",
    "print(df_reindexed)"
   ]
  },
  {
   "cell_type": "code",
   "execution_count": null,
   "id": "d864aeb7",
   "metadata": {},
   "outputs": [],
   "source": []
  },
  {
   "cell_type": "markdown",
   "id": "f262cb8c",
   "metadata": {},
   "source": [
    "### Q3. You have a Pandas DataFrame df with a column named 'Values'. Write a Python function that iterates over the DataFrame and calculates the sum of the first three values in the 'Values' column. The function should print the sum to the console. For example, if the 'Values' column of df contains the values [10, 20, 30, 40, 50], your function should calculate and print the sum of the first three values, which is 60."
   ]
  },
  {
   "cell_type": "code",
   "execution_count": 2,
   "id": "f9766a2f",
   "metadata": {},
   "outputs": [
    {
     "name": "stdout",
     "output_type": "stream",
     "text": [
      "Sum of the first three values in 'Values' column: 60\n"
     ]
    }
   ],
   "source": [
    "import pandas as pd\n",
    "\n",
    "# Sample DataFrame\n",
    "data = {'Values': [10, 20, 30, 40, 50]}\n",
    "df = pd.DataFrame(data)\n",
    "\n",
    "# Function to calculate the sum of the first three values in the 'Values' column\n",
    "def calculate_sum_of_first_three(df):\n",
    "    # Check if the 'Values' column exists in the DataFrame\n",
    "    if 'Values' in df.columns:\n",
    "        # Extract the 'Values' column and calculate the sum of the first three values\n",
    "        values_column = df['Values']\n",
    "        sum_of_first_three = values_column.head(3).sum()\n",
    "\n",
    "        # Print the result\n",
    "        print(f\"Sum of the first three values in 'Values' column: {sum_of_first_three}\")\n",
    "    else:\n",
    "        print(\"DataFrame does not contain a 'Values' column.\")\n",
    "\n",
    "# Call the function with the sample DataFrame\n",
    "calculate_sum_of_first_three(df)"
   ]
  },
  {
   "cell_type": "code",
   "execution_count": null,
   "id": "b2e53db2",
   "metadata": {},
   "outputs": [],
   "source": []
  },
  {
   "cell_type": "markdown",
   "id": "06255b63",
   "metadata": {},
   "source": [
    "### Q4. Given a Pandas DataFrame df with a column 'Text', write a Python function to create a new column 'Word_Count' that contains the number of words in each row of the 'Text' column."
   ]
  },
  {
   "cell_type": "code",
   "execution_count": 3,
   "id": "81e9f5c0",
   "metadata": {},
   "outputs": [
    {
     "data": {
      "text/html": [
       "<div>\n",
       "<style scoped>\n",
       "    .dataframe tbody tr th:only-of-type {\n",
       "        vertical-align: middle;\n",
       "    }\n",
       "\n",
       "    .dataframe tbody tr th {\n",
       "        vertical-align: top;\n",
       "    }\n",
       "\n",
       "    .dataframe thead th {\n",
       "        text-align: right;\n",
       "    }\n",
       "</style>\n",
       "<table border=\"1\" class=\"dataframe\">\n",
       "  <thead>\n",
       "    <tr style=\"text-align: right;\">\n",
       "      <th></th>\n",
       "      <th>Text</th>\n",
       "      <th>Word_Count</th>\n",
       "    </tr>\n",
       "  </thead>\n",
       "  <tbody>\n",
       "    <tr>\n",
       "      <th>0</th>\n",
       "      <td>This is a sample text</td>\n",
       "      <td>5</td>\n",
       "    </tr>\n",
       "    <tr>\n",
       "      <th>1</th>\n",
       "      <td>Another example</td>\n",
       "      <td>2</td>\n",
       "    </tr>\n",
       "    <tr>\n",
       "      <th>2</th>\n",
       "      <td>Python is great</td>\n",
       "      <td>3</td>\n",
       "    </tr>\n",
       "  </tbody>\n",
       "</table>\n",
       "</div>"
      ],
      "text/plain": [
       "                    Text  Word_Count\n",
       "0  This is a sample text           5\n",
       "1        Another example           2\n",
       "2        Python is great           3"
      ]
     },
     "execution_count": 3,
     "metadata": {},
     "output_type": "execute_result"
    }
   ],
   "source": [
    "import pandas as pd\n",
    "\n",
    "# Sample DataFrame\n",
    "data = {'Text': ['This is a sample text', 'Another example', 'Python is great']}\n",
    "df = pd.DataFrame(data)\n",
    "\n",
    "# Function to count the number of words in a text\n",
    "def count_words(text):\n",
    "    words = text.split()\n",
    "    return len(words)\n",
    "\n",
    "# Function to create a new column 'Word_Count'\n",
    "def create_word_count_column(df):\n",
    "    # Check if the 'Text' column exists in the DataFrame\n",
    "    if 'Text' in df.columns:\n",
    "        # Apply the count_words function to each row of the 'Text' column\n",
    "        df['Word_Count'] = df['Text'].apply(count_words)\n",
    "    else:\n",
    "        print(\"DataFrame does not contain a 'Text' column.\")\n",
    "\n",
    "# Call the function with the sample DataFrame\n",
    "create_word_count_column(df)\n",
    "\n",
    "# Display the updated DataFrame\n",
    "df"
   ]
  },
  {
   "cell_type": "code",
   "execution_count": null,
   "id": "1485159d",
   "metadata": {},
   "outputs": [],
   "source": []
  },
  {
   "cell_type": "markdown",
   "id": "b1f96884",
   "metadata": {},
   "source": [
    "###  Q5. How are DataFrame.size() and DataFrame.shape() different?"
   ]
  },
  {
   "cell_type": "markdown",
   "id": "8d3b2fd9",
   "metadata": {},
   "source": [
    "DataFrame.size:\n",
    "\n",
    "DataFrame.size returns the total number of elements in the DataFrame.\n",
    "It calculates the size by multiplying the number of rows by the number of columns.\n",
    "The result is an integer representing the total number of elements (cells) in the DataFrame."
   ]
  },
  {
   "cell_type": "code",
   "execution_count": 4,
   "id": "699e5010",
   "metadata": {},
   "outputs": [
    {
     "name": "stdout",
     "output_type": "stream",
     "text": [
      "DataFrame size: 6\n"
     ]
    },
    {
     "data": {
      "text/html": [
       "<div>\n",
       "<style scoped>\n",
       "    .dataframe tbody tr th:only-of-type {\n",
       "        vertical-align: middle;\n",
       "    }\n",
       "\n",
       "    .dataframe tbody tr th {\n",
       "        vertical-align: top;\n",
       "    }\n",
       "\n",
       "    .dataframe thead th {\n",
       "        text-align: right;\n",
       "    }\n",
       "</style>\n",
       "<table border=\"1\" class=\"dataframe\">\n",
       "  <thead>\n",
       "    <tr style=\"text-align: right;\">\n",
       "      <th></th>\n",
       "      <th>A</th>\n",
       "      <th>B</th>\n",
       "    </tr>\n",
       "  </thead>\n",
       "  <tbody>\n",
       "    <tr>\n",
       "      <th>0</th>\n",
       "      <td>1</td>\n",
       "      <td>4</td>\n",
       "    </tr>\n",
       "    <tr>\n",
       "      <th>1</th>\n",
       "      <td>2</td>\n",
       "      <td>5</td>\n",
       "    </tr>\n",
       "    <tr>\n",
       "      <th>2</th>\n",
       "      <td>3</td>\n",
       "      <td>6</td>\n",
       "    </tr>\n",
       "  </tbody>\n",
       "</table>\n",
       "</div>"
      ],
      "text/plain": [
       "   A  B\n",
       "0  1  4\n",
       "1  2  5\n",
       "2  3  6"
      ]
     },
     "execution_count": 4,
     "metadata": {},
     "output_type": "execute_result"
    }
   ],
   "source": [
    "import pandas as pd\n",
    "\n",
    "# Sample DataFrame\n",
    "df = pd.DataFrame({'A': [1, 2, 3], 'B': [4, 5, 6]})\n",
    "\n",
    "# Calculate the size of the DataFrame\n",
    "size = df.size\n",
    "print(\"DataFrame size:\", size)\n",
    "df"
   ]
  },
  {
   "cell_type": "markdown",
   "id": "89b95517",
   "metadata": {},
   "source": [
    "DataFrame.shape:\n",
    "\n",
    "DataFrame.shape returns a tuple representing the dimensions (number of rows, number of columns) of the DataFrame.\n",
    "It does not calculate the total number of elements but provides the structure information.\n",
    "The result is a tuple (number of rows, number of columns).\n",
    "\n",
    "In summary, DataFrame.size provides the total number of elements in the DataFrame, while DataFrame.shape provides the number of rows and columns as a tuple. The key distinction is that size returns a single integer, while shape returns a tuple with two values."
   ]
  },
  {
   "cell_type": "code",
   "execution_count": 5,
   "id": "92812cc6",
   "metadata": {},
   "outputs": [
    {
     "name": "stdout",
     "output_type": "stream",
     "text": [
      "DataFrame shape: (3, 2)\n"
     ]
    }
   ],
   "source": [
    "import pandas as pd\n",
    "\n",
    "# Sample DataFrame\n",
    "df = pd.DataFrame({'A': [1, 2, 3], 'B': [4, 5, 6]})\n",
    "\n",
    "# Get the shape of the DataFrame\n",
    "shape = df.shape\n",
    "print(\"DataFrame shape:\", shape)"
   ]
  },
  {
   "cell_type": "code",
   "execution_count": null,
   "id": "e5d2029d",
   "metadata": {},
   "outputs": [],
   "source": []
  },
  {
   "cell_type": "markdown",
   "id": "20df89a6",
   "metadata": {},
   "source": [
    "### Q6. Which function of pandas do we use to read an excel file?"
   ]
  },
  {
   "cell_type": "code",
   "execution_count": 6,
   "id": "f65bf467",
   "metadata": {},
   "outputs": [
    {
     "data": {
      "text/html": [
       "<div>\n",
       "<style scoped>\n",
       "    .dataframe tbody tr th:only-of-type {\n",
       "        vertical-align: middle;\n",
       "    }\n",
       "\n",
       "    .dataframe tbody tr th {\n",
       "        vertical-align: top;\n",
       "    }\n",
       "\n",
       "    .dataframe thead th {\n",
       "        text-align: right;\n",
       "    }\n",
       "</style>\n",
       "<table border=\"1\" class=\"dataframe\">\n",
       "  <thead>\n",
       "    <tr style=\"text-align: right;\">\n",
       "      <th></th>\n",
       "      <th>Name</th>\n",
       "      <th>Age</th>\n",
       "    </tr>\n",
       "  </thead>\n",
       "  <tbody>\n",
       "    <tr>\n",
       "      <th>0</th>\n",
       "      <td>John</td>\n",
       "      <td>23</td>\n",
       "    </tr>\n",
       "    <tr>\n",
       "      <th>1</th>\n",
       "      <td>Sam</td>\n",
       "      <td>29</td>\n",
       "    </tr>\n",
       "    <tr>\n",
       "      <th>2</th>\n",
       "      <td>Wood</td>\n",
       "      <td>32</td>\n",
       "    </tr>\n",
       "  </tbody>\n",
       "</table>\n",
       "</div>"
      ],
      "text/plain": [
       "   Name  Age\n",
       "0  John   23\n",
       "1   Sam   29\n",
       "2  Wood   32"
      ]
     },
     "execution_count": 6,
     "metadata": {},
     "output_type": "execute_result"
    }
   ],
   "source": [
    "import pandas as pd\n",
    "\n",
    "file_path = 'test.xlsx'\n",
    "\n",
    "# Read Excel file into a Pandas DataFrame\n",
    "df = pd.read_excel(file_path)\n",
    "\n",
    "# Display the DataFrame\n",
    "df"
   ]
  },
  {
   "cell_type": "code",
   "execution_count": null,
   "id": "2335fe65",
   "metadata": {},
   "outputs": [],
   "source": []
  },
  {
   "cell_type": "markdown",
   "id": "17f6bde7",
   "metadata": {},
   "source": [
    "### Q7. You have a Pandas DataFrame df that contains a column named 'Email' that contains email addresses in the format 'username@domain.com'. Write a Python function that creates a new column 'Username' in df that contains only the username part of each email address. The username is the part of the email address that appears before the '@' symbol. For example, if the email address is 'john.doe@example.com', the 'Username' column should contain 'john.doe'. Your function should extract the username from each email address and store it in the new 'Username' column."
   ]
  },
  {
   "cell_type": "code",
   "execution_count": 7,
   "id": "2a84c18b",
   "metadata": {},
   "outputs": [
    {
     "data": {
      "text/html": [
       "<div>\n",
       "<style scoped>\n",
       "    .dataframe tbody tr th:only-of-type {\n",
       "        vertical-align: middle;\n",
       "    }\n",
       "\n",
       "    .dataframe tbody tr th {\n",
       "        vertical-align: top;\n",
       "    }\n",
       "\n",
       "    .dataframe thead th {\n",
       "        text-align: right;\n",
       "    }\n",
       "</style>\n",
       "<table border=\"1\" class=\"dataframe\">\n",
       "  <thead>\n",
       "    <tr style=\"text-align: right;\">\n",
       "      <th></th>\n",
       "      <th>Email</th>\n",
       "      <th>Username</th>\n",
       "    </tr>\n",
       "  </thead>\n",
       "  <tbody>\n",
       "    <tr>\n",
       "      <th>0</th>\n",
       "      <td>john.doe@example.com</td>\n",
       "      <td>john.doe</td>\n",
       "    </tr>\n",
       "    <tr>\n",
       "      <th>1</th>\n",
       "      <td>jane.smith@example.com</td>\n",
       "      <td>jane.smith</td>\n",
       "    </tr>\n",
       "    <tr>\n",
       "      <th>2</th>\n",
       "      <td>bob@example.com</td>\n",
       "      <td>bob</td>\n",
       "    </tr>\n",
       "  </tbody>\n",
       "</table>\n",
       "</div>"
      ],
      "text/plain": [
       "                    Email    Username\n",
       "0    john.doe@example.com    john.doe\n",
       "1  jane.smith@example.com  jane.smith\n",
       "2         bob@example.com         bob"
      ]
     },
     "execution_count": 7,
     "metadata": {},
     "output_type": "execute_result"
    }
   ],
   "source": [
    "# Sample DataFrame\n",
    "data = {'Email': ['john.doe@example.com', 'jane.smith@example.com', 'bob@example.com']}\n",
    "df = pd.DataFrame(data)\n",
    "\n",
    "# Function to create a new 'Username' column\n",
    "def extract_username(df):\n",
    "    # Check if the 'Email' column exists in the DataFrame\n",
    "    if 'Email' in df.columns:\n",
    "        # Split the 'Email' column at the '@' symbol and get the first part (username)\n",
    "        df['Username'] = df['Email'].str.split('@').str.get(0)\n",
    "    else:\n",
    "        print(\"DataFrame does not contain an 'Email' column.\")\n",
    "\n",
    "# Call the function with the sample DataFrame\n",
    "extract_username(df)\n",
    "\n",
    "# Display the updated DataFrame\n",
    "df"
   ]
  },
  {
   "cell_type": "code",
   "execution_count": null,
   "id": "12cd0de4",
   "metadata": {},
   "outputs": [],
   "source": []
  },
  {
   "cell_type": "markdown",
   "id": "7f4c0118",
   "metadata": {},
   "source": [
    "### Q8. You have a Pandas DataFrame df with columns 'A', 'B', and 'C'. Write a Python function that selects all rows where the value in column 'A' is greater than 5 and the value in column 'B' is less than 10. The function should return a new DataFrame that contains only the selected rows."
   ]
  },
  {
   "cell_type": "code",
   "execution_count": 8,
   "id": "31cbbbbe",
   "metadata": {},
   "outputs": [
    {
     "data": {
      "text/html": [
       "<div>\n",
       "<style scoped>\n",
       "    .dataframe tbody tr th:only-of-type {\n",
       "        vertical-align: middle;\n",
       "    }\n",
       "\n",
       "    .dataframe tbody tr th {\n",
       "        vertical-align: top;\n",
       "    }\n",
       "\n",
       "    .dataframe thead th {\n",
       "        text-align: right;\n",
       "    }\n",
       "</style>\n",
       "<table border=\"1\" class=\"dataframe\">\n",
       "  <thead>\n",
       "    <tr style=\"text-align: right;\">\n",
       "      <th></th>\n",
       "      <th>A</th>\n",
       "      <th>B</th>\n",
       "      <th>C</th>\n",
       "    </tr>\n",
       "  </thead>\n",
       "  <tbody>\n",
       "    <tr>\n",
       "      <th>1</th>\n",
       "      <td>8</td>\n",
       "      <td>2</td>\n",
       "      <td>7</td>\n",
       "    </tr>\n",
       "    <tr>\n",
       "      <th>2</th>\n",
       "      <td>6</td>\n",
       "      <td>9</td>\n",
       "      <td>4</td>\n",
       "    </tr>\n",
       "    <tr>\n",
       "      <th>4</th>\n",
       "      <td>9</td>\n",
       "      <td>1</td>\n",
       "      <td>2</td>\n",
       "    </tr>\n",
       "  </tbody>\n",
       "</table>\n",
       "</div>"
      ],
      "text/plain": [
       "   A  B  C\n",
       "1  8  2  7\n",
       "2  6  9  4\n",
       "4  9  1  2"
      ]
     },
     "execution_count": 8,
     "metadata": {},
     "output_type": "execute_result"
    }
   ],
   "source": [
    "import pandas as pd\n",
    "\n",
    "# Sample DataFrame\n",
    "data = {'A': [3, 8, 6, 2, 9],\n",
    "        'B': [5, 2, 9, 3, 1],\n",
    "        'C': [1, 7, 4, 5, 2]}\n",
    "\n",
    "df = pd.DataFrame(data)\n",
    "\n",
    "# Function to select rows based on conditions in columns 'A' and 'B'\n",
    "def select_rows(df):\n",
    "    # Check if columns 'A' and 'B' exist in the DataFrame\n",
    "    if 'A' in df.columns and 'B' in df.columns:\n",
    "        # Use boolean indexing to select rows based on conditions\n",
    "        selected_rows = df[(df['A'] > 5) & (df['B'] < 10)]\n",
    "        \n",
    "        # Return a new DataFrame containing only the selected rows\n",
    "        return selected_rows\n",
    "    else:\n",
    "        print(\"DataFrame does not contain columns 'A' and 'B'.\")\n",
    "\n",
    "# Call the function with the sample DataFrame\n",
    "selected_df = select_rows(df)\n",
    "\n",
    "# Display the selected DataFrame\n",
    "selected_df"
   ]
  },
  {
   "cell_type": "code",
   "execution_count": null,
   "id": "914d3535",
   "metadata": {},
   "outputs": [],
   "source": []
  },
  {
   "cell_type": "markdown",
   "id": "cd2e8954",
   "metadata": {},
   "source": [
    "### Q9. Given a Pandas DataFrame df with a column 'Values', write a Python function to calculate the mean, median, and standard deviation of the values in the 'Values' column."
   ]
  },
  {
   "cell_type": "code",
   "execution_count": 9,
   "id": "50c135e9",
   "metadata": {},
   "outputs": [
    {
     "name": "stdout",
     "output_type": "stream",
     "text": [
      "Mean: 30.0\n",
      "Median: 30.0\n",
      "Standard Deviation: 15.811388300841896\n"
     ]
    }
   ],
   "source": [
    "import pandas as pd\n",
    "\n",
    "# Sample DataFrame\n",
    "data = {'Values': [10, 20, 30, 40, 50]}\n",
    "df = pd.DataFrame(data)\n",
    "\n",
    "# Function to calculate mean, median, and standard deviation of 'Values' column\n",
    "def calculate_statistics(df):\n",
    "    # Check if the 'Values' column exists in the DataFrame\n",
    "    if 'Values' in df.columns:\n",
    "        # Calculate mean, median, and standard deviation\n",
    "        mean_value = df['Values'].mean()\n",
    "        median_value = df['Values'].median()\n",
    "        std_value = df['Values'].std()\n",
    "\n",
    "        # Print the results\n",
    "        print(f\"Mean: {mean_value}\")\n",
    "        print(f\"Median: {median_value}\")\n",
    "        print(f\"Standard Deviation: {std_value}\")\n",
    "    else:\n",
    "        print(\"DataFrame does not contain a 'Values' column.\")\n",
    "\n",
    "# Call the function with the sample DataFrame\n",
    "calculate_statistics(df)"
   ]
  },
  {
   "cell_type": "code",
   "execution_count": null,
   "id": "1f0d9d72",
   "metadata": {},
   "outputs": [],
   "source": []
  },
  {
   "cell_type": "markdown",
   "id": "e0f1f45b",
   "metadata": {},
   "source": [
    "### Q10. Given a Pandas DataFrame df with a column 'Sales' and a column 'Date', write a Python function to create a new column 'MovingAverage' that contains the moving average of the sales for the past 7 days for each row in the DataFrame. The moving average should be calculated using a window of size 7 and should include the current day."
   ]
  },
  {
   "cell_type": "code",
   "execution_count": 10,
   "id": "133de1fc",
   "metadata": {},
   "outputs": [
    {
     "data": {
      "text/html": [
       "<div>\n",
       "<style scoped>\n",
       "    .dataframe tbody tr th:only-of-type {\n",
       "        vertical-align: middle;\n",
       "    }\n",
       "\n",
       "    .dataframe tbody tr th {\n",
       "        vertical-align: top;\n",
       "    }\n",
       "\n",
       "    .dataframe thead th {\n",
       "        text-align: right;\n",
       "    }\n",
       "</style>\n",
       "<table border=\"1\" class=\"dataframe\">\n",
       "  <thead>\n",
       "    <tr style=\"text-align: right;\">\n",
       "      <th></th>\n",
       "      <th>Date</th>\n",
       "      <th>Sales</th>\n",
       "      <th>MovingAverage</th>\n",
       "    </tr>\n",
       "  </thead>\n",
       "  <tbody>\n",
       "    <tr>\n",
       "      <th>0</th>\n",
       "      <td>2022-01-01</td>\n",
       "      <td>10</td>\n",
       "      <td>10.0</td>\n",
       "    </tr>\n",
       "    <tr>\n",
       "      <th>1</th>\n",
       "      <td>2022-01-02</td>\n",
       "      <td>15</td>\n",
       "      <td>12.5</td>\n",
       "    </tr>\n",
       "    <tr>\n",
       "      <th>2</th>\n",
       "      <td>2022-01-03</td>\n",
       "      <td>20</td>\n",
       "      <td>15.0</td>\n",
       "    </tr>\n",
       "    <tr>\n",
       "      <th>3</th>\n",
       "      <td>2022-01-04</td>\n",
       "      <td>25</td>\n",
       "      <td>17.5</td>\n",
       "    </tr>\n",
       "    <tr>\n",
       "      <th>4</th>\n",
       "      <td>2022-01-05</td>\n",
       "      <td>30</td>\n",
       "      <td>20.0</td>\n",
       "    </tr>\n",
       "    <tr>\n",
       "      <th>5</th>\n",
       "      <td>2022-01-06</td>\n",
       "      <td>35</td>\n",
       "      <td>22.5</td>\n",
       "    </tr>\n",
       "    <tr>\n",
       "      <th>6</th>\n",
       "      <td>2022-01-07</td>\n",
       "      <td>40</td>\n",
       "      <td>25.0</td>\n",
       "    </tr>\n",
       "    <tr>\n",
       "      <th>7</th>\n",
       "      <td>2022-01-08</td>\n",
       "      <td>45</td>\n",
       "      <td>30.0</td>\n",
       "    </tr>\n",
       "    <tr>\n",
       "      <th>8</th>\n",
       "      <td>2022-01-09</td>\n",
       "      <td>50</td>\n",
       "      <td>35.0</td>\n",
       "    </tr>\n",
       "  </tbody>\n",
       "</table>\n",
       "</div>"
      ],
      "text/plain": [
       "        Date  Sales  MovingAverage\n",
       "0 2022-01-01     10           10.0\n",
       "1 2022-01-02     15           12.5\n",
       "2 2022-01-03     20           15.0\n",
       "3 2022-01-04     25           17.5\n",
       "4 2022-01-05     30           20.0\n",
       "5 2022-01-06     35           22.5\n",
       "6 2022-01-07     40           25.0\n",
       "7 2022-01-08     45           30.0\n",
       "8 2022-01-09     50           35.0"
      ]
     },
     "execution_count": 10,
     "metadata": {},
     "output_type": "execute_result"
    }
   ],
   "source": [
    "import pandas as pd\n",
    "\n",
    "# Sample DataFrame with 'Sales' and 'Date' columns\n",
    "data = {'Sales': [10, 15, 20, 25, 30, 35, 40, 45, 50],\n",
    "        'Date': pd.date_range('2022-01-01', periods=9)}\n",
    "\n",
    "df = pd.DataFrame(data)\n",
    "\n",
    "# Function to create a new 'MovingAverage' column\n",
    "def calculate_moving_average(df, window_size=7):\n",
    "    # Check if the 'Sales' and 'Date' columns exist in the DataFrame\n",
    "    if 'Sales' in df.columns and 'Date' in df.columns:\n",
    "        # Set 'Date' column as the index\n",
    "        df.set_index('Date', inplace=True)\n",
    "\n",
    "        # Calculate the moving average using a window of size 7\n",
    "        df['MovingAverage'] = df['Sales'].rolling(window=window_size, min_periods=1).mean()\n",
    "\n",
    "        # Reset index to keep 'Date' as a regular column\n",
    "        df.reset_index(inplace=True)\n",
    "    else:\n",
    "        print(\"DataFrame does not contain 'Sales' and 'Date' columns.\")\n",
    "\n",
    "# Call the function with the sample DataFrame\n",
    "calculate_moving_average(df)\n",
    "\n",
    "# Display the updated DataFrame\n",
    "df"
   ]
  },
  {
   "cell_type": "code",
   "execution_count": null,
   "id": "2393615d",
   "metadata": {},
   "outputs": [],
   "source": []
  },
  {
   "cell_type": "markdown",
   "id": "7ec2e195",
   "metadata": {},
   "source": [
    "### Q11 You have a Pandas DataFrame df with a column 'Date'. Write a Python function that creates a new column 'Weekday' in the DataFrame. The 'Weekday' column should contain the weekday name (e.g. Monday, Tuesday) corresponding to each date in the 'Date' column."
   ]
  },
  {
   "cell_type": "code",
   "execution_count": 11,
   "id": "b7312063",
   "metadata": {},
   "outputs": [
    {
     "data": {
      "text/html": [
       "<div>\n",
       "<style scoped>\n",
       "    .dataframe tbody tr th:only-of-type {\n",
       "        vertical-align: middle;\n",
       "    }\n",
       "\n",
       "    .dataframe tbody tr th {\n",
       "        vertical-align: top;\n",
       "    }\n",
       "\n",
       "    .dataframe thead th {\n",
       "        text-align: right;\n",
       "    }\n",
       "</style>\n",
       "<table border=\"1\" class=\"dataframe\">\n",
       "  <thead>\n",
       "    <tr style=\"text-align: right;\">\n",
       "      <th></th>\n",
       "      <th>Date</th>\n",
       "      <th>Weekday</th>\n",
       "    </tr>\n",
       "  </thead>\n",
       "  <tbody>\n",
       "    <tr>\n",
       "      <th>0</th>\n",
       "      <td>2023-01-01</td>\n",
       "      <td>Sunday</td>\n",
       "    </tr>\n",
       "    <tr>\n",
       "      <th>1</th>\n",
       "      <td>2023-01-02</td>\n",
       "      <td>Monday</td>\n",
       "    </tr>\n",
       "    <tr>\n",
       "      <th>2</th>\n",
       "      <td>2023-01-03</td>\n",
       "      <td>Tuesday</td>\n",
       "    </tr>\n",
       "    <tr>\n",
       "      <th>3</th>\n",
       "      <td>2023-01-04</td>\n",
       "      <td>Wednesday</td>\n",
       "    </tr>\n",
       "    <tr>\n",
       "      <th>4</th>\n",
       "      <td>2023-01-05</td>\n",
       "      <td>Thursday</td>\n",
       "    </tr>\n",
       "  </tbody>\n",
       "</table>\n",
       "</div>"
      ],
      "text/plain": [
       "        Date    Weekday\n",
       "0 2023-01-01     Sunday\n",
       "1 2023-01-02     Monday\n",
       "2 2023-01-03    Tuesday\n",
       "3 2023-01-04  Wednesday\n",
       "4 2023-01-05   Thursday"
      ]
     },
     "execution_count": 11,
     "metadata": {},
     "output_type": "execute_result"
    }
   ],
   "source": [
    "import pandas as pd\n",
    "\n",
    "# Sample DataFrame with 'Date' column\n",
    "data = {'Date': pd.to_datetime(['2023-01-01', '2023-01-02', '2023-01-03', '2023-01-04', '2023-01-05'])}\n",
    "df = pd.DataFrame(data)\n",
    "\n",
    "# Function to create a new 'Weekday' column\n",
    "def add_weekday_column(df):\n",
    "    # Check if the 'Date' column exists in the DataFrame\n",
    "    if 'Date' in df.columns:\n",
    "        # Extract the weekday name and create a new 'Weekday' column\n",
    "        df['Weekday'] = df['Date'].dt.day_name()\n",
    "        # Return the modified DataFrame\n",
    "        return df\n",
    "    else:\n",
    "        print(\"DataFrame does not contain a 'Date' column.\")\n",
    "\n",
    "# Call the function with the sample DataFrame\n",
    "modified_df = add_weekday_column(df)\n",
    "\n",
    "# Display the modified DataFrame\n",
    "modified_df"
   ]
  },
  {
   "cell_type": "code",
   "execution_count": null,
   "id": "b096d243",
   "metadata": {},
   "outputs": [],
   "source": []
  },
  {
   "cell_type": "markdown",
   "id": "a78df2b0",
   "metadata": {},
   "source": [
    "### Q12. Given a Pandas DataFrame df with a column 'Date' that contains timestamps, write a Python function to select all rows where the date is between '2023-01-01' and '2023-01-31'."
   ]
  },
  {
   "cell_type": "code",
   "execution_count": 12,
   "id": "3d3901af",
   "metadata": {},
   "outputs": [
    {
     "data": {
      "text/html": [
       "<div>\n",
       "<style scoped>\n",
       "    .dataframe tbody tr th:only-of-type {\n",
       "        vertical-align: middle;\n",
       "    }\n",
       "\n",
       "    .dataframe tbody tr th {\n",
       "        vertical-align: top;\n",
       "    }\n",
       "\n",
       "    .dataframe thead th {\n",
       "        text-align: right;\n",
       "    }\n",
       "</style>\n",
       "<table border=\"1\" class=\"dataframe\">\n",
       "  <thead>\n",
       "    <tr style=\"text-align: right;\">\n",
       "      <th></th>\n",
       "      <th>Date</th>\n",
       "    </tr>\n",
       "  </thead>\n",
       "  <tbody>\n",
       "    <tr>\n",
       "      <th>0</th>\n",
       "      <td>2023-01-01</td>\n",
       "    </tr>\n",
       "    <tr>\n",
       "      <th>1</th>\n",
       "      <td>2023-01-15</td>\n",
       "    </tr>\n",
       "    <tr>\n",
       "      <th>2</th>\n",
       "      <td>2023-01-25</td>\n",
       "    </tr>\n",
       "  </tbody>\n",
       "</table>\n",
       "</div>"
      ],
      "text/plain": [
       "        Date\n",
       "0 2023-01-01\n",
       "1 2023-01-15\n",
       "2 2023-01-25"
      ]
     },
     "execution_count": 12,
     "metadata": {},
     "output_type": "execute_result"
    }
   ],
   "source": [
    "import pandas as pd\n",
    "\n",
    "# Sample DataFrame with 'Date' column\n",
    "data = {'Date': pd.to_datetime(['2023-01-01', '2023-01-15', '2023-01-25', '2023-02-05', '2023-02-15'])}\n",
    "df = pd.DataFrame(data)\n",
    "\n",
    "# Function to select rows based on date range\n",
    "def select_rows_in_date_range(df, start_date, end_date):\n",
    "    # Check if the 'Date' column exists in the DataFrame\n",
    "    if 'Date' in df.columns:\n",
    "        # Use boolean indexing to select rows within the specified date range\n",
    "        selected_rows = df[(df['Date'] >= start_date) & (df['Date'] <= end_date)]\n",
    "        \n",
    "        # Return a new DataFrame containing only the selected rows\n",
    "        return selected_rows\n",
    "    else:\n",
    "        print(\"DataFrame does not contain a 'Date' column.\")\n",
    "\n",
    "# Call the function with the sample DataFrame and date range\n",
    "start_date = pd.to_datetime('2023-01-01')\n",
    "end_date = pd.to_datetime('2023-01-31')\n",
    "\n",
    "selected_df = select_rows_in_date_range(df, start_date, end_date)\n",
    "\n",
    "# Display the selected DataFrame\n",
    "selected_df"
   ]
  },
  {
   "cell_type": "code",
   "execution_count": null,
   "id": "87c21394",
   "metadata": {},
   "outputs": [],
   "source": []
  },
  {
   "cell_type": "markdown",
   "id": "02f0a8bf",
   "metadata": {},
   "source": [
    "### Q13. To use the basic functions of pandas, what is the first and foremost necessary library that needs to be imported? "
   ]
  },
  {
   "cell_type": "markdown",
   "id": "caa7eaa0",
   "metadata": {},
   "source": [
    "To use the basic functions of pandas, the first and foremost library that needs to be imported is pandas itself. You can import it using the following convention:\n",
    "\n",
    "import pandas as pd\n",
    "\n",
    "By convention, pd is commonly used as an alias for the pandas library. This allows you to reference pandas functions using the pd prefix, making the code more concise. Once imported, you can then use the various functions and features provided by pandas for data manipulation and analysis."
   ]
  },
  {
   "cell_type": "code",
   "execution_count": null,
   "id": "7a1570bb",
   "metadata": {},
   "outputs": [],
   "source": []
  },
  {
   "cell_type": "code",
   "execution_count": null,
   "id": "0a816b21",
   "metadata": {},
   "outputs": [],
   "source": []
  },
  {
   "cell_type": "code",
   "execution_count": null,
   "id": "aa190cd5",
   "metadata": {},
   "outputs": [],
   "source": []
  }
 ],
 "metadata": {
  "kernelspec": {
   "display_name": "Python 3 (ipykernel)",
   "language": "python",
   "name": "python3"
  },
  "language_info": {
   "codemirror_mode": {
    "name": "ipython",
    "version": 3
   },
   "file_extension": ".py",
   "mimetype": "text/x-python",
   "name": "python",
   "nbconvert_exporter": "python",
   "pygments_lexer": "ipython3",
   "version": "3.9.7"
  }
 },
 "nbformat": 4,
 "nbformat_minor": 5
}
