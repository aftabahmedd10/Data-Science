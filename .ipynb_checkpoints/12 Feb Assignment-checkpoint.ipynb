{
 "cells": [
  {
   "cell_type": "code",
   "execution_count": 1,
   "id": "bf4c0134",
   "metadata": {},
   "outputs": [],
   "source": [
    "## 12 Feb Assignment"
   ]
  },
  {
   "cell_type": "markdown",
   "id": "021b0429",
   "metadata": {},
   "source": [
    "###### Q1. What is an exception in python? Write the difference between Exception and syntax errors"
   ]
  },
  {
   "cell_type": "markdown",
   "id": "59943e73",
   "metadata": {},
   "source": [
    "An exception is an event that occurs during the execution of a program, disrupting the normal flow of the program's instructions. When an exceptional situation arises, Python raises an exception object, which contains information about the error, such as the type of exception and a descriptive error message. If the exception is not handled (i.e., not caught by an appropriate exception handler), the program terminates with an error message.\n",
    "\n",
    "Exceptions can occur due to various reasons, such as invalid input, unexpected conditions, file I/O errors, arithmetic errors (e.g., division by zero), etc. Python provides a mechanism to handle these exceptions using try, except, and other related keywords.\n",
    "\n",
    "Difference between Exception and Syntax Errors:\n",
    "###### Exception:\n",
    "    * An exception is a runtime error that occurs during the execution of a program.\n",
    "    * It is caused by invalid or unexpected conditions encountered while the program is running.\n",
    "    * Exceptions are typically raised when the program tries to perform an operation that is not allowed or encounters data       that it cannot handle.\n",
    "    * Examples of exceptions include ZeroDivisionError, TypeError, ValueError, FileNotFoundError, etc.\n",
    "    * Exceptions can be handled using the try, except block, allowing the program to gracefully recover from errors.\n",
    "    \n",
    "###### Syntax Errors:\n",
    "    * Syntax errors are encountered during the parsing stage of the program, i.e., when the Python interpreter tries to           understand the code's syntax and structure.\n",
    "    * They occur when the code violates the Python language rules or grammar, such as missing colons, unmatched parantheses, incorrect indentation, etc.\n",
    "    * Syntax errors prevent the program from being executed and need to be fixed before running the program.\n",
    "    * Examples of syntax errors include missing colons in if statements, mismatched parentheses, using a reserved keyword as a variable name, etc."
   ]
  },
  {
   "cell_type": "code",
   "execution_count": null,
   "id": "af7ab3a6",
   "metadata": {},
   "outputs": [],
   "source": []
  },
  {
   "cell_type": "markdown",
   "id": "db5c5e6b",
   "metadata": {},
   "source": [
    "###### Q2. What happens when an exception is not handled. Give one example"
   ]
  },
  {
   "cell_type": "markdown",
   "id": "a4663634",
   "metadata": {},
   "source": [
    "When an exception is not handled, the Python interpreter will propagate the exception up the call stack until it reaches the top-level of the program. At this point, the interpreter will terminate the program and display an error message, including the exception type, description, and a traceback. This abrupt termination without proper error handling can lead to unexpected program termination and may result in data loss or corruption."
   ]
  },
  {
   "cell_type": "code",
   "execution_count": 2,
   "id": "a4b8fc74",
   "metadata": {},
   "outputs": [
    {
     "ename": "ZeroDivisionError",
     "evalue": "division by zero",
     "output_type": "error",
     "traceback": [
      "\u001b[1;31m---------------------------------------------------------------------------\u001b[0m",
      "\u001b[1;31mZeroDivisionError\u001b[0m                         Traceback (most recent call last)",
      "\u001b[1;32mC:\\Users\\AFTABA~1\\AppData\\Local\\Temp/ipykernel_9960/3324239080.py\u001b[0m in \u001b[0;36m<module>\u001b[1;34m\u001b[0m\n\u001b[0;32m      4\u001b[0m \u001b[0mnum1\u001b[0m \u001b[1;33m=\u001b[0m \u001b[1;36m10\u001b[0m\u001b[1;33m\u001b[0m\u001b[1;33m\u001b[0m\u001b[0m\n\u001b[0;32m      5\u001b[0m \u001b[0mnum2\u001b[0m \u001b[1;33m=\u001b[0m \u001b[1;36m0\u001b[0m\u001b[1;33m\u001b[0m\u001b[1;33m\u001b[0m\u001b[0m\n\u001b[1;32m----> 6\u001b[1;33m \u001b[0mresult\u001b[0m \u001b[1;33m=\u001b[0m \u001b[0mdivide_numbers\u001b[0m\u001b[1;33m(\u001b[0m\u001b[0mnum1\u001b[0m\u001b[1;33m,\u001b[0m \u001b[0mnum2\u001b[0m\u001b[1;33m)\u001b[0m\u001b[1;33m\u001b[0m\u001b[1;33m\u001b[0m\u001b[0m\n\u001b[0m\u001b[0;32m      7\u001b[0m \u001b[0mprint\u001b[0m\u001b[1;33m(\u001b[0m\u001b[1;34m\"Result:\"\u001b[0m\u001b[1;33m,\u001b[0m \u001b[0mresult\u001b[0m\u001b[1;33m)\u001b[0m\u001b[1;33m\u001b[0m\u001b[1;33m\u001b[0m\u001b[0m\n",
      "\u001b[1;32mC:\\Users\\AFTABA~1\\AppData\\Local\\Temp/ipykernel_9960/3324239080.py\u001b[0m in \u001b[0;36mdivide_numbers\u001b[1;34m(a, b)\u001b[0m\n\u001b[0;32m      1\u001b[0m \u001b[1;32mdef\u001b[0m \u001b[0mdivide_numbers\u001b[0m\u001b[1;33m(\u001b[0m\u001b[0ma\u001b[0m\u001b[1;33m,\u001b[0m \u001b[0mb\u001b[0m\u001b[1;33m)\u001b[0m\u001b[1;33m:\u001b[0m\u001b[1;33m\u001b[0m\u001b[1;33m\u001b[0m\u001b[0m\n\u001b[1;32m----> 2\u001b[1;33m     \u001b[1;32mreturn\u001b[0m \u001b[0ma\u001b[0m \u001b[1;33m/\u001b[0m \u001b[0mb\u001b[0m\u001b[1;33m\u001b[0m\u001b[1;33m\u001b[0m\u001b[0m\n\u001b[0m\u001b[0;32m      3\u001b[0m \u001b[1;33m\u001b[0m\u001b[0m\n\u001b[0;32m      4\u001b[0m \u001b[0mnum1\u001b[0m \u001b[1;33m=\u001b[0m \u001b[1;36m10\u001b[0m\u001b[1;33m\u001b[0m\u001b[1;33m\u001b[0m\u001b[0m\n\u001b[0;32m      5\u001b[0m \u001b[0mnum2\u001b[0m \u001b[1;33m=\u001b[0m \u001b[1;36m0\u001b[0m\u001b[1;33m\u001b[0m\u001b[1;33m\u001b[0m\u001b[0m\n",
      "\u001b[1;31mZeroDivisionError\u001b[0m: division by zero"
     ]
    }
   ],
   "source": [
    "def divide_numbers(a, b):\n",
    "    return a / b\n",
    "\n",
    "num1 = 10\n",
    "num2 = 0\n",
    "result = divide_numbers(num1, num2)\n",
    "print(\"Result:\", result)"
   ]
  },
  {
   "cell_type": "code",
   "execution_count": null,
   "id": "4b9cb8ea",
   "metadata": {},
   "outputs": [],
   "source": []
  },
  {
   "cell_type": "markdown",
   "id": "41bdaead",
   "metadata": {},
   "source": [
    "###### Q3. Which python statements are used to catch and handle exceptions. GIve one example"
   ]
  },
  {
   "cell_type": "markdown",
   "id": "52225a73",
   "metadata": {},
   "source": [
    "try-except statement is used to catch and handle exceptions. The try block contains the code that might raise an exception, and the except block contains the code that is executed if the corresponding exception occurs."
   ]
  },
  {
   "cell_type": "code",
   "execution_count": 3,
   "id": "bbfc804e",
   "metadata": {},
   "outputs": [
    {
     "name": "stdout",
     "output_type": "stream",
     "text": [
      "Error: Cannot divide by zero.\n"
     ]
    }
   ],
   "source": [
    "def divide_numbers(a, b):\n",
    "    try:\n",
    "        result = a / b\n",
    "        return result\n",
    "    except ZeroDivisionError:\n",
    "        print(\"Error: Cannot divide by zero.\")\n",
    "        return None\n",
    "\n",
    "\n",
    "num1 = 10\n",
    "num2 = 0\n",
    "\n",
    "result = divide_numbers(num1, num2)\n",
    "if result is not None:\n",
    "    print(\"Result:\", result)\n"
   ]
  },
  {
   "cell_type": "code",
   "execution_count": null,
   "id": "03447979",
   "metadata": {},
   "outputs": [],
   "source": []
  },
  {
   "cell_type": "markdown",
   "id": "b4058e61",
   "metadata": {},
   "source": [
    "###### Q4. Explain with an example\n",
    "###### a. try and else\n",
    "###### b. finally\n",
    "###### c. raise"
   ]
  },
  {
   "cell_type": "markdown",
   "id": "6588d970",
   "metadata": {},
   "source": [
    "###### try and else:\n",
    "The try block is used to enclose the code that may raise an exception. If an exception occurs in the try block, it will be caught by an appropriate except block. However, if no exception occurs, the code in the else block is executed. The else block is optional and provides a way to handle the case when no exceptions are raised."
   ]
  },
  {
   "cell_type": "code",
   "execution_count": 4,
   "id": "236be244",
   "metadata": {},
   "outputs": [
    {
     "name": "stdout",
     "output_type": "stream",
     "text": [
      "Division result: 5.0\n"
     ]
    }
   ],
   "source": [
    "def divide_numbers(a, b):\n",
    "    try:\n",
    "        result = a / b\n",
    "    except ZeroDivisionError:\n",
    "        print(\"Error: Cannot divide by zero.\")\n",
    "    else:\n",
    "        print(\"Division result:\", result)\n",
    "\n",
    "\n",
    "num1 = 10\n",
    "num2 = 2\n",
    "\n",
    "divide_numbers(num1, num2)"
   ]
  },
  {
   "cell_type": "markdown",
   "id": "5251ab04",
   "metadata": {},
   "source": [
    "###### finally:\n",
    "The finally block is used to define code that is executed regardless of whether an exception occurred or not in the try block. It is often used to perform cleanup actions, such as closing a file or releasing resources, that need to be executed regardless of the outcome of the try block."
   ]
  },
  {
   "cell_type": "code",
   "execution_count": 5,
   "id": "f61cc8af",
   "metadata": {},
   "outputs": [
    {
     "name": "stdout",
     "output_type": "stream",
     "text": [
      "Division operation completed.\n",
      "Result: 5.0\n"
     ]
    }
   ],
   "source": [
    "def divide_numbers(a, b):\n",
    "    try:\n",
    "        result = a / b\n",
    "        return result\n",
    "    except ZeroDivisionError:\n",
    "        print(\"Error: Cannot divide by zero.\")\n",
    "        return None\n",
    "    finally:\n",
    "        print(\"Division operation completed.\")\n",
    "\n",
    "\n",
    "num1 = 10\n",
    "num2 = 2\n",
    "\n",
    "result = divide_numbers(num1, num2)\n",
    "if result is not None:\n",
    "    print(\"Result:\", result)"
   ]
  },
  {
   "cell_type": "markdown",
   "id": "91b50217",
   "metadata": {},
   "source": [
    "###### raise:\n",
    "The raise statement is used to explicitly raise an exception in Python. It allows you to trigger an exception manually when certain conditions are met. You can raise built-in exceptions or create custom exceptions by creating a new class that inherits from the Exception class."
   ]
  },
  {
   "cell_type": "code",
   "execution_count": 6,
   "id": "b366b9ea",
   "metadata": {},
   "outputs": [
    {
     "name": "stdout",
     "output_type": "stream",
     "text": [
      "Enter your age: 22\n",
      "Age is valid.\n"
     ]
    }
   ],
   "source": [
    "def check_age(age):\n",
    "    if age < 0:\n",
    "        raise ValueError(\"Age cannot be negative.\")\n",
    "    elif age < 18:\n",
    "        raise ValueError(\"You must be at least 18 years old.\")\n",
    "    else:\n",
    "        print(\"Age is valid.\")\n",
    "\n",
    "if __name__ == \"__main__\":\n",
    "    try:\n",
    "        user_age = int(input(\"Enter your age: \"))\n",
    "        check_age(user_age)\n",
    "    except ValueError as e:\n",
    "        print(\"Error:\", e)\n"
   ]
  },
  {
   "cell_type": "code",
   "execution_count": null,
   "id": "bb0220aa",
   "metadata": {},
   "outputs": [],
   "source": []
  },
  {
   "cell_type": "markdown",
   "id": "ad2f5d87",
   "metadata": {},
   "source": [
    "###### Q5. What are custom exceptions in python? Why do we need custom exceptions. Explain with an example"
   ]
  },
  {
   "cell_type": "markdown",
   "id": "9c8f05d8",
   "metadata": {},
   "source": [
    "Custom exceptions in Python are user-defined exceptions created by creating a new class that inherits from the base Exception class or any of its subclasses. By creating custom exceptions, you can define your own error types that are specific to your application's needs. This allows you to provide more meaningful and informative error messages when exceptional situations arise, making it easier to identify and handle specific errors in your code.\n",
    "\n",
    "We need custom exceptions to\n",
    "\n",
    "###### Improved Readability:\n",
    "Custom exceptions allow you to give meaningful names to errors, making it easier to understand what went wrong when an exception is raised.\n",
    "\n",
    "###### Better Error Handling:\n",
    "With custom exceptions, you can handle specific error scenarios more precisely, providing tailored responses or recovery actions for each case.\n",
    "\n",
    "###### Code Modularity: \n",
    "Custom exceptions help improve the modularity of your code. You can group similar error cases under a single custom exception class, making it easier to manage and maintain your codebase."
   ]
  },
  {
   "cell_type": "code",
   "execution_count": 7,
   "id": "76f207cd",
   "metadata": {},
   "outputs": [
    {
     "name": "stdout",
     "output_type": "stream",
     "text": [
      "Error: Cannot divide by zero.\n"
     ]
    }
   ],
   "source": [
    "class InvalidInputError(Exception):\n",
    "    \"\"\"Custom exception for invalid input\"\"\"\n",
    "\n",
    "    def __init__(self, message):\n",
    "        super().__init__(message)\n",
    "\n",
    "\n",
    "def divide_numbers(a, b):\n",
    "    if b == 0:\n",
    "        raise InvalidInputError(\"Cannot divide by zero.\")\n",
    "    result = a / b\n",
    "    return result\n",
    "\n",
    "\n",
    "if __name__ == \"__main__\":\n",
    "    try:\n",
    "        num1 = 10\n",
    "        num2 = 0\n",
    "        result = divide_numbers(num1, num2)\n",
    "        print(\"Result:\", result)\n",
    "\n",
    "    except InvalidInputError as e:\n",
    "        print(\"Error:\", e)\n"
   ]
  },
  {
   "cell_type": "code",
   "execution_count": null,
   "id": "42225b95",
   "metadata": {},
   "outputs": [],
   "source": []
  },
  {
   "cell_type": "markdown",
   "id": "25baa2ae",
   "metadata": {},
   "source": [
    "###### Q6. create a custom exception class. Use this class to handle an exception"
   ]
  },
  {
   "cell_type": "code",
   "execution_count": 8,
   "id": "c36a7a16",
   "metadata": {},
   "outputs": [
    {
     "name": "stdout",
     "output_type": "stream",
     "text": [
      "Error: Cannot divide by zero.\n"
     ]
    }
   ],
   "source": [
    "class CustomException(Exception):\n",
    "    \"\"\"Custom exception class\"\"\"\n",
    "\n",
    "    def __init__(self, message):\n",
    "        super().__init__(message)\n",
    "\n",
    "\n",
    "def divide_numbers(a, b):\n",
    "    try:\n",
    "        if b == 0:\n",
    "            raise CustomException(\"Cannot divide by zero.\")\n",
    "        result = a / b\n",
    "        return result\n",
    "\n",
    "    except CustomException as e:\n",
    "        print(\"Error:\", e)\n",
    "        return None\n",
    "\n",
    "\n",
    "if __name__ == \"__main__\":\n",
    "    num1 = 10\n",
    "    num2 = 0\n",
    "\n",
    "    result = divide_numbers(num1, num2)\n",
    "\n",
    "    if result is not None:\n",
    "        print(\"Result:\", result)\n"
   ]
  },
  {
   "cell_type": "code",
   "execution_count": null,
   "id": "4fe0ad14",
   "metadata": {},
   "outputs": [],
   "source": []
  },
  {
   "cell_type": "code",
   "execution_count": null,
   "id": "c5fae8e2",
   "metadata": {},
   "outputs": [],
   "source": []
  },
  {
   "cell_type": "code",
   "execution_count": null,
   "id": "3a5854aa",
   "metadata": {},
   "outputs": [],
   "source": []
  }
 ],
 "metadata": {
  "kernelspec": {
   "display_name": "Python 3 (ipykernel)",
   "language": "python",
   "name": "python3"
  },
  "language_info": {
   "codemirror_mode": {
    "name": "ipython",
    "version": 3
   },
   "file_extension": ".py",
   "mimetype": "text/x-python",
   "name": "python",
   "nbconvert_exporter": "python",
   "pygments_lexer": "ipython3",
   "version": "3.9.7"
  }
 },
 "nbformat": 4,
 "nbformat_minor": 5
}
