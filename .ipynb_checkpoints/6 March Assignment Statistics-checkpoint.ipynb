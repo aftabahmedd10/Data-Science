{
 "cells": [
  {
   "cell_type": "code",
   "execution_count": null,
   "id": "db79590b",
   "metadata": {},
   "outputs": [],
   "source": []
  },
  {
   "cell_type": "code",
   "execution_count": 1,
   "id": "2dbb0c16",
   "metadata": {},
   "outputs": [],
   "source": [
    "# 6 March Assignment"
   ]
  },
  {
   "cell_type": "markdown",
   "id": "80225c76",
   "metadata": {},
   "source": [
    "#### Q1. What is Statistics?"
   ]
  },
  {
   "cell_type": "markdown",
   "id": "6ab4f10c",
   "metadata": {},
   "source": [
    "Statistics is a branch of mathematics that involves the collection, analysis, interpretation, presentation, and organization of data. It provides methods for making inferences and predictions about populations based on a sample of data. Statistics plays a crucial role in various fields, including science, economics, social sciences, business, and more.\n",
    "\n",
    "The two main types of statistics are descriptive statistics and inferential statistics:\n",
    "\n",
    "##### Descriptive Statistics:\n",
    "Descriptive statistics involve methods for summarizing and organizing data. Common measures in descriptive statistics include mean, median, mode, range, variance, and standard deviation.\n",
    "\n",
    "##### Inferential Statistics: \n",
    "Inferential statistics use data from a sample to make inferences or predictions about a population. This includes hypothesis testing, confidence intervals, and regression analysis.\n",
    "\n",
    "Statistics is used in various applications, including:\n",
    "\n",
    "* Research: Statistical methods are employed in designing experiments, collecting data, and drawing conclusions.\n",
    "\n",
    "* Business: Statistics is used for market research, quality control, financial analysis, and decision-making.\n",
    "\n",
    "* Healthcare: In healthcare, statistics are used for clinical trials, epidemiological studies, and analyzing patient data.\n",
    "\n",
    "* Economics: Economists use statistics to analyze economic trends, make forecasts, and inform policy decisions.\n",
    "\n",
    "* Social Sciences: Statistics is applied in psychology, sociology, political science, and other social sciences to analyze human behavior and societal trends.\n",
    "\n",
    "* Technology: Data science and machine learning heavily rely on statistical methods for analyzing and interpreting large datasets.\n",
    "\n",
    "In essence, statistics provides tools and methods to extract meaningful information from data, aiding in informed decision-making and understanding patterns and relationships in various phenomena."
   ]
  },
  {
   "cell_type": "code",
   "execution_count": null,
   "id": "8a490211",
   "metadata": {},
   "outputs": [],
   "source": []
  },
  {
   "cell_type": "markdown",
   "id": "c60995bf",
   "metadata": {},
   "source": [
    "#### Q2. Define the different types of statistics and give an example of when each type might be used."
   ]
  },
  {
   "cell_type": "markdown",
   "id": "b2daa77e",
   "metadata": {},
   "source": [
    "There are two main types of statistics: descriptive statistics and inferential statistics.\n",
    "\n",
    "##### Descriptive Statistics:\n",
    "\n",
    "Definition: Descriptive statistics involve methods for summarizing and describing the main features of a dataset.\n",
    "Examples:\n",
    "Measures of Central Tendency:\n",
    "* Mean: Calculating the average value of a set of exam scores to represent the typical performance.\n",
    "* Median: Determining the middle score in a dataset to understand the central position.\n",
    "* Mode: Identifying the most frequently occurring value in a dataset.\n",
    "\n",
    "###### Measures of Dispersion:\n",
    "* Range: Calculating the difference between the highest and lowest values in a dataset.\n",
    "* Variance: Assessing how spread out the values are from the mean.\n",
    "* Standard Deviation: Quantifying the amount of variation or dispersion in a set of values.\n",
    "\n",
    "##### Inferential Statistics:\n",
    "\n",
    "Definition: Inferential statistics involve making inferences or predictions about a population based on a sample of data.\n",
    "\n",
    "Examples:\n",
    "\n",
    "* Hypothesis Testing:\n",
    "\n",
    "Example: Testing whether a new drug is effective by comparing the recovery rates of patients who took the drug and those who took a placebo.\n",
    "\n",
    "* Confidence Intervals:\n",
    "\n",
    "Example: Estimating the range in which the true average income of a population lies based on a sample survey.\n",
    "\n",
    "* Regression Analysis:\n",
    "\n",
    "Example: Predicting the sales of a product based on factors such as advertising expenditure, pricing, and seasonality.\n",
    "\n",
    "Summary:\n",
    "\n",
    "Descriptive statistics help summarize and describe data, providing insights into its central tendencies and variability.\n",
    "Inferential statistics allow researchers to draw conclusions and make predictions about populations based on samples.\n",
    "Both types of statistics are essential in understanding and interpreting data in various fields, guiding decision-making processes, and drawing meaningful insights from information."
   ]
  },
  {
   "cell_type": "code",
   "execution_count": 2,
   "id": "d7868cb4",
   "metadata": {},
   "outputs": [
    {
     "name": "stdout",
     "output_type": "stream",
     "text": [
      "Mean Exam Score: 87.90\n",
      "Standard Deviation: 5.01\n"
     ]
    }
   ],
   "source": [
    "import numpy as np\n",
    "\n",
    "# Exam scores of a sample of students\n",
    "exam_scores = [85, 92, 88, 78, 95, 90, 82, 88, 94, 87]\n",
    "\n",
    "# Descriptive Statistics\n",
    "mean_score = np.mean(exam_scores)\n",
    "std_deviation = np.std(exam_scores)\n",
    "\n",
    "print(f\"Mean Exam Score: {mean_score:.2f}\")\n",
    "print(f\"Standard Deviation: {std_deviation:.2f}\")"
   ]
  },
  {
   "cell_type": "code",
   "execution_count": null,
   "id": "53c40947",
   "metadata": {},
   "outputs": [],
   "source": []
  },
  {
   "cell_type": "markdown",
   "id": "2a96aa70",
   "metadata": {},
   "source": [
    "#### Q3. What are the different types of data and how do they differ from each other? Provide an example of each type of data."
   ]
  },
  {
   "cell_type": "markdown",
   "id": "364b7a09",
   "metadata": {},
   "source": [
    "There are four main types of data: nominal, ordinal, interval, and ratio. Let's discuss each type along with an example:\n",
    "\n",
    "1. **Nominal Data:**\n",
    "   - Nominal data consists of categories without any order or ranking.\n",
    "   - Examples: Colors (e.g., red, blue, green), gender (e.g., male, female), types of fruit.\n",
    "\n",
    "2. **Ordinal Data:**\n",
    "   - Ordinal data has categories with a meaningful order or ranking, but the intervals between values are not uniform or meaningful.\n",
    "   - Examples: Educational levels (e.g., high school, bachelor's, master's, Ph.D.), customer satisfaction ratings (e.g., very dissatisfied, dissatisfied, neutral, satisfied, very satisfied).\n",
    "\n",
    "3. **Interval Data:**\n",
    "   - Interval data has a meaningful order, and the intervals between values are equal and meaningful. However, it lacks a true zero point.\n",
    "   - Examples: Temperature in Celsius or Fahrenheit, IQ scores, years (on the calendar).\n",
    "\n",
    "4. **Ratio Data:**\n",
    "   - Ratio data has a meaningful order, equal intervals, and a true zero point, making it possible to express ratios and proportions.\n",
    "   - Examples: Height, weight, age, income, number of items purchased.\n",
    "\n",
    "**Example:**\n",
    "Consider the measurement of the heights of students in a class:\n",
    "\n",
    "- Nominal: Gender (male, female)\n",
    "- Ordinal: Student ranks in a race (1st place, 2nd place, 3rd place)\n",
    "- Interval: Temperature in Celsius (e.g., 20°C, 25°C, 30°C)\n",
    "- Ratio: Height in centimeters (e.g., 150 cm, 175 cm, 180 cm)\n",
    "\n",
    "Each type of data serves a specific purpose in statistical analysis, and the choice of data type depends on the nature of the information being collected and analyzed."
   ]
  },
  {
   "cell_type": "code",
   "execution_count": null,
   "id": "1da9f7c0",
   "metadata": {},
   "outputs": [],
   "source": []
  },
  {
   "cell_type": "markdown",
   "id": "b744ad7b",
   "metadata": {},
   "source": [
    "#### Q4. Categorise the following datasets with respect to quantitative and qualitative data types:\n",
    "(i) Grading in exam: A+, A, B+, B, C+, C, D, E\n",
    "\n",
    "(ii) Colour of mangoes: yellow, green, orange, red\n",
    "\n",
    "(iii) Height data of a class: [178.9, 179, 179.5, 176, 177.2, 178.3, 175.8,...]\n",
    "\n",
    "(iv) Number of mangoes exported by a farm: [500, 600, 478, 672, ...]"
   ]
  },
  {
   "cell_type": "markdown",
   "id": "9ccbac7a",
   "metadata": {},
   "source": [
    "#### SOL:\n",
    "Let's categorize the given datasets into quantitative and qualitative data types:\n",
    "\n",
    "(i) Grading in exam:\n",
    "   - Data Type: Qualitative (Ordinal)\n",
    "   - Explanation: The grades represent categories with a meaningful order but do not have equal intervals between them.\n",
    "\n",
    "(ii) Colour of mangoes:\n",
    "   - Data Type: Qualitative (Nominal)\n",
    "   - Explanation: The color categories (yellow, green, orange, red) don't have a meaningful order; they are nominal categories.\n",
    "\n",
    "(iii) Height data of a class:\n",
    "   - Data Type: Quantitative (Ratio)\n",
    "   - Explanation: Heights are numerical measurements with a meaningful order, equal intervals, and a true zero point.\n",
    "\n",
    "(iv) Number of mangoes exported by a farm:\n",
    "   - Data Type: Quantitative (Ratio)\n",
    "   - Explanation: The number of mangoes is a numerical measurement with a meaningful order, equal intervals, and a true zero point.\n",
    "\n",
    "In summary:\n",
    "- Grading and color of mangoes are qualitative data (ordinal and nominal, respectively).\n",
    "- Height and number of mangoes exported are quantitative data (ratio)."
   ]
  },
  {
   "cell_type": "code",
   "execution_count": null,
   "id": "b0c0f07a",
   "metadata": {},
   "outputs": [],
   "source": []
  },
  {
   "cell_type": "markdown",
   "id": "49a9e274",
   "metadata": {},
   "source": [
    "#### Q5. Explain the concept of levels of measurement and give an example of a variable for each level."
   ]
  },
  {
   "cell_type": "markdown",
   "id": "fac79917",
   "metadata": {},
   "source": [
    "Levels of measurement refer to the different scales or levels at which variables can be measured. There are four main levels of measurement: nominal, ordinal, interval, and ratio.\n",
    "\n",
    "1. Nominal Level:\n",
    "   - Definition: This level represents categorical data where variables are names or labels.\n",
    "   - Example: Colors (e.g., red, blue, green)\n",
    "\n",
    "2. Ordinal Level:\n",
    "   - Definition: This level represents categorical data with a meaningful order but the intervals between values are not consistent.\n",
    "   - Example: Educational levels (e.g., high school, bachelor's, master's)\n",
    "\n",
    "3. Interval Level:\n",
    "   - Definition: This level represents numerical data with a consistent interval between values, but there is no true zero point.\n",
    "   - Example: Temperature in Celsius (e.g., 20°C, 30°C) - the zero point is arbitrary.\n",
    "\n",
    "4. Ratio Level:\n",
    "   - Definition: This level represents numerical data with a consistent interval between values and a true zero point.\n",
    "   - Example: Height in centimeters (e.g., 150 cm, 180 cm) - a height of 0 cm represents an absence of height.\n",
    "\n",
    "In summary:\n",
    "- Nominal: Names or labels (no inherent order).\n",
    "- Ordinal: Ordered categories with inconsistent intervals.\n",
    "- Interval: Ordered numerical data with consistent intervals, but no true zero.\n",
    "- Ratio: Ordered numerical data with consistent intervals and a true zero."
   ]
  },
  {
   "cell_type": "code",
   "execution_count": null,
   "id": "ac37d1f7",
   "metadata": {},
   "outputs": [],
   "source": []
  },
  {
   "cell_type": "markdown",
   "id": "980e225a",
   "metadata": {},
   "source": [
    "#### Q6. Why is it important to understand the level of measurement when analyzing data? Provide an example to illustrate your answer."
   ]
  },
  {
   "cell_type": "markdown",
   "id": "97b7fe92",
   "metadata": {},
   "source": [
    "Understanding the level of measurement is crucial in data analysis because it determines the appropriate statistical methods and operations that can be applied to the data. Different levels of measurement have different properties and limitations, and using inappropriate methods can lead to incorrect conclusions or interpretations. Here's an example to illustrate the importance:\n",
    "\n",
    "Let's consider a scenario where we have collected data on the types of cars owned by individuals in a neighborhood. The types of cars can be categorized as follows:\n",
    "\n",
    "1. Nominal Level: Car brands (e.g., Toyota, Honda, Ford)\n",
    "2. Ordinal Level: Car sizes (e.g., small, medium, large)\n",
    "3. Interval Level: Car prices in a certain range (e.g., $20,000 - $30,000, $30,000 - $40,000)\n",
    "4. Ratio Level: Car ages in years (e.g., 1 year, 2 years, 3 years)\n",
    "\n",
    "Now, let's consider the analysis:\n",
    "\n",
    "- **Nominal Level:** We can calculate frequencies and percentages for each car brand but cannot perform meaningful arithmetic operations like finding the average brand.\n",
    "\n",
    "- **Ordinal Level:** We can analyze the distribution of car sizes and determine which size is most common, but the differences between \"small\" and \"medium\" may not be consistent.\n",
    "\n",
    "- **Interval Level:** We can analyze the distribution of car prices and calculate the average price, but it's important to note that a price difference of $10,000 does not imply a consistent level of \"more\" or \"less.\"\n",
    "\n",
    "- **Ratio Level:** We can perform arithmetic operations on car ages, such as calculating the average age and determining the ratio of one car age to another.\n",
    "\n",
    "Choosing the appropriate level of measurement guides the selection of statistical techniques, measures of central tendency, and measures of variability. Using the right methods ensures more accurate and meaningful insights from the data."
   ]
  },
  {
   "cell_type": "code",
   "execution_count": null,
   "id": "e694cf6a",
   "metadata": {},
   "outputs": [],
   "source": []
  },
  {
   "cell_type": "markdown",
   "id": "ddf3d78c",
   "metadata": {},
   "source": [
    "#### Q7. How nominal data type is different from ordinal data type."
   ]
  },
  {
   "cell_type": "markdown",
   "id": "ebae34d7",
   "metadata": {},
   "source": [
    "Nominal and ordinal are two different levels of measurement, and they have distinct characteristics. Here are the key differences between nominal and ordinal data types:\n",
    "\n",
    "1. **Nature of Categories:**\n",
    "   - **Nominal Data:** Represents categories with no inherent order or ranking. The categories are distinct, and there is no implied order or hierarchy.\n",
    "   - **Ordinal Data:** Represents categories with a meaningful order or ranking. The categories have a clear sequence, indicating a relative position or level.\n",
    "\n",
    "2. **Numeric Representation:**\n",
    "   - **Nominal Data:** Categories are typically assigned labels or names with no numeric values. Each category is unique, but there is no numerical significance to the labels.\n",
    "   - **Ordinal Data:** Categories are assigned labels or names, and these labels carry a meaningful order. The order implies a relative position, but the numerical differences between the ranks may not be consistent.\n",
    "\n",
    "3. **Arithmetic Operations:**\n",
    "   - **Nominal Data:** No meaningful arithmetic operations can be performed on nominal data. Categories can be counted and frequencies calculated, but operations like addition, subtraction, multiplication, or division are not meaningful.\n",
    "   - **Ordinal Data:** Limited arithmetic operations are possible. It's meaningful to determine the rank order, calculate median, or compare the relative positions, but the differences between ranks may not be uniform.\n",
    "\n",
    "4. **Examples:**\n",
    "   - **Nominal Data Examples:** Colors (e.g., red, blue, green), Gender (e.g., male, female), Car brands (e.g., Toyota, Honda, Ford)\n",
    "   - **Ordinal Data Examples:** Educational levels (e.g., high school, bachelor's, master's), Socioeconomic status (e.g., low-income, middle-income, high-income), Survey responses (e.g., strongly disagree, disagree, neutral, agree, strongly agree)\n",
    "\n",
    "In summary, while both nominal and ordinal data involve categories, ordinal data adds the element of order or ranking. Nominal data represents distinct categories with no inherent order, while ordinal data implies a meaningful sequence or hierarchy among the categories."
   ]
  },
  {
   "cell_type": "code",
   "execution_count": null,
   "id": "467d29b7",
   "metadata": {},
   "outputs": [],
   "source": []
  },
  {
   "cell_type": "markdown",
   "id": "c74ef069",
   "metadata": {},
   "source": [
    "#### Q8. Which type of plot can be used to display data in terms of range?"
   ]
  },
  {
   "cell_type": "markdown",
   "id": "373dcdfb",
   "metadata": {},
   "source": [
    "A **box plot** (also known as a box-and-whisker plot) is commonly used to display data in terms of range. A box plot provides a visual summary of the distribution of a dataset and includes key statistics such as the minimum, first quartile (Q1), median, third quartile (Q3), and maximum.\n",
    "\n",
    "In a box plot:\n",
    "\n",
    "- The rectangular \"box\" represents the interquartile range (IQR), which is the range between the first quartile (Q1) and the third quartile (Q3).\n",
    "- The line inside the box represents the median.\n",
    "- The \"whiskers\" extend from the box to the minimum and maximum values within a defined range.\n",
    "\n",
    "Box plots are particularly useful for comparing the spread of different datasets, identifying outliers, and gaining insights into the central tendency and variability of the data. They provide a clear visual representation of the range of values and the distribution's skewness."
   ]
  },
  {
   "cell_type": "code",
   "execution_count": null,
   "id": "3cb42e6e",
   "metadata": {},
   "outputs": [],
   "source": []
  },
  {
   "cell_type": "markdown",
   "id": "a7617b6b",
   "metadata": {},
   "source": [
    "#### Q9. Describe the difference between descriptive and inferential statistics. Give an example of each type of statistics and explain how they are used."
   ]
  },
  {
   "cell_type": "markdown",
   "id": "275b605f",
   "metadata": {},
   "source": [
    "**Descriptive Statistics**:\n",
    "\n",
    "- **Definition**: Descriptive statistics involve summarizing and describing the main features of a dataset.\n",
    "- **Purpose**: They are used to present, organize, and summarize data in a meaningful way. Descriptive statistics provide a concise overview of the essential characteristics of a dataset.\n",
    "- **Examples**:\n",
    "  - Mean, median, mode\n",
    "  - Range, variance, standard deviation\n",
    "  - Percentiles, quartiles\n",
    "\n",
    "**Inferential Statistics**:\n",
    "\n",
    "- **Definition**: Inferential statistics involve drawing conclusions or making inferences about a population based on a sample of data.\n",
    "- **Purpose**: They are used to make predictions, generalize findings, or test hypotheses about a larger population based on observed data from a smaller sample.\n",
    "- **Examples**:\n",
    "  - Hypothesis testing\n",
    "  - Confidence intervals\n",
    "  - Regression analysis\n",
    "\n",
    "**Example**:\n",
    "\n",
    "Suppose you have a dataset of test scores for a class:\n",
    "\n",
    "- **Descriptive Statistics**: You might calculate the mean, median, and standard deviation of the test scores to summarize the central tendency and variability of the scores within the class.\n",
    "  \n",
    "- **Inferential Statistics**: If you want to infer something about the entire student population (e.g., the average test score for all students), you might use inferential statistics. For instance, you could calculate a confidence interval to estimate a range within which you believe the true population mean lies based on your sample data.\n",
    "\n",
    "In summary, descriptive statistics describe the main features of a dataset, while inferential statistics make predictions or inferences about a larger population based on a sample of data."
   ]
  },
  {
   "cell_type": "code",
   "execution_count": null,
   "id": "29c1bcfd",
   "metadata": {},
   "outputs": [],
   "source": []
  },
  {
   "cell_type": "markdown",
   "id": "29bce9a7",
   "metadata": {},
   "source": [
    "#### Q10. What are some common measures of central tendency and variability used in statistics? Explain how each measure can be used to describe a dataset."
   ]
  },
  {
   "cell_type": "markdown",
   "id": "82da8304",
   "metadata": {},
   "source": [
    "**Measures of Central Tendency:**\n",
    "\n",
    "1. **Mean (Average):**\n",
    "   - **Definition:** The sum of all values divided by the number of values.\n",
    "   - **Use:** Represents the central value; sensitive to extreme values.\n",
    "\n",
    "2. **Median:**\n",
    "   - **Definition:** The middle value when the data is ordered; separates the higher half from the lower half.\n",
    "   - **Use:** Less sensitive to extreme values; useful for skewed distributions.\n",
    "\n",
    "3. **Mode:**\n",
    "   - **Definition:** The value that appears most frequently in a dataset.\n",
    "   - **Use:** Identifies the most common value; applicable to categorical data.\n",
    "\n",
    "**Measures of Variability:**\n",
    "\n",
    "1. **Range:**\n",
    "   - **Definition:** The difference between the maximum and minimum values in a dataset.\n",
    "   - **Use:** Provides a quick sense of the spread; sensitive to extreme values.\n",
    "\n",
    "2. **Variance:**\n",
    "   - **Definition:** The average of the squared differences from the mean.\n",
    "   - **Use:** Quantifies the overall variability; sensitive to extreme values.\n",
    "\n",
    "3. **Standard Deviation:**\n",
    "   - **Definition:** The square root of the variance; measures the average distance from the mean.\n",
    "   - **Use:** Indicates the spread around the mean; commonly used and interpretable.\n",
    "\n",
    "4. **Interquartile Range (IQR):**\n",
    "   - **Definition:** The range between the first quartile (25th percentile) and the third quartile (75th percentile).\n",
    "   - **Use:** Measures the spread of the central portion; less affected by extreme values.\n",
    "\n",
    "**Example:**\n",
    "\n",
    "Consider a dataset of exam scores: [85, 90, 88, 92, 78, 95]\n",
    "\n",
    "- **Mean:** (85 + 90 + 88 + 92 + 78 + 95) / 6 = 88\n",
    "- **Median:** Order the data (78, 85, 88, 90, 92, 95); Median = 88\n",
    "- **Mode:** No mode in this example.\n",
    "- **Range:** Max - Min = 95 - 78 = 17\n",
    "- **Variance:** Calculate the squared differences from the mean, average them.\n",
    "- **Standard Deviation:** Square root of the variance.\n",
    "- **Interquartile Range:** Q3 - Q1 = (90 + 92) / 2 - (85 + 78) / 2 = 7\n",
    "\n",
    "These measures provide insights into the central tendency and variability of the dataset. The mean, median, and mode describe the center, while range, variance, standard deviation, and interquartile range describe the spread or dispersion of the values."
   ]
  },
  {
   "cell_type": "code",
   "execution_count": null,
   "id": "74f2aa83",
   "metadata": {},
   "outputs": [],
   "source": []
  },
  {
   "cell_type": "code",
   "execution_count": null,
   "id": "1a7a2d95",
   "metadata": {},
   "outputs": [],
   "source": []
  },
  {
   "cell_type": "code",
   "execution_count": null,
   "id": "f13f4113",
   "metadata": {},
   "outputs": [],
   "source": []
  },
  {
   "cell_type": "code",
   "execution_count": null,
   "id": "8b586cb0",
   "metadata": {},
   "outputs": [],
   "source": []
  },
  {
   "cell_type": "code",
   "execution_count": null,
   "id": "69612d6d",
   "metadata": {},
   "outputs": [],
   "source": []
  },
  {
   "cell_type": "code",
   "execution_count": null,
   "id": "24b7afc4",
   "metadata": {},
   "outputs": [],
   "source": []
  },
  {
   "cell_type": "code",
   "execution_count": null,
   "id": "45d56552",
   "metadata": {},
   "outputs": [],
   "source": []
  }
 ],
 "metadata": {
  "kernelspec": {
   "display_name": "Python 3 (ipykernel)",
   "language": "python",
   "name": "python3"
  },
  "language_info": {
   "codemirror_mode": {
    "name": "ipython",
    "version": 3
   },
   "file_extension": ".py",
   "mimetype": "text/x-python",
   "name": "python",
   "nbconvert_exporter": "python",
   "pygments_lexer": "ipython3",
   "version": "3.9.7"
  }
 },
 "nbformat": 4,
 "nbformat_minor": 5
}
