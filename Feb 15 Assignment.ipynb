{
 "cells": [
  {
   "cell_type": "markdown",
   "id": "b6cb99fe",
   "metadata": {},
   "source": [
    "##### 15 Feb Assignment"
   ]
  },
  {
   "cell_type": "code",
   "execution_count": null,
   "id": "20f7b4d6",
   "metadata": {},
   "outputs": [],
   "source": []
  },
  {
   "cell_type": "markdown",
   "id": "2bfe06ba",
   "metadata": {},
   "source": [
    "###### Q1. What is multiprocessing in python? Why is it useful?"
   ]
  },
  {
   "cell_type": "markdown",
   "id": "cc59353d",
   "metadata": {},
   "source": [
    "Multiprocessing in Python refers to the ability of a program to execute multiple processes (independent instances of the same program) concurrently. Each process runs in its own memory space, separate from other processes, and has its own Python interpreter and Global Interpreter Lock (GIL). Unlike multithreading, multiprocessing allows true parallelism on multi-core systems, as each process can be executed on a separate CPU core.\n",
    "\n",
    "The multiprocessing module in Python provides support for creating and managing multiple processes. It allows you to utilize multiple CPU cores and distribute computational tasks across them, leading to improved performance and reduced execution time for CPU-bound tasks.\n",
    "\n",
    "Here are some reasons why multiprocessing is useful:\n",
    "\n",
    "###### True Parallelism: \n",
    "In Python, the Global Interpreter Lock (GIL) restricts true parallel execution of threads. However, with multiprocessing, each process runs in its own memory space and Python interpreter, allowing true parallelism across multiple CPU cores. This is especially advantageous for CPU-bound tasks that can benefit from parallel execution.\n",
    "\n",
    "###### Performance Improvement: \n",
    "By distributing tasks across multiple processes, you can make efficient use of available CPU cores and achieve significant performance improvements, especially for computationally intensive tasks. This can lead to faster execution times and better resource utilization.\n",
    "\n",
    "###### Process Isolation: \n",
    "Each process has its own memory space, which provides isolation and prevents interference between processes. This isolation makes it easier to manage and debug the code as each process operates independently.\n",
    "\n",
    "###### Fault Tolerance: \n",
    "In multithreading, an error or exception in one thread can affect the entire process. In multiprocessing, if one process encounters an error or crashes, other processes can continue running unaffected. This provides better fault tolerance and stability for the overall application.\n",
    "\n",
    "###### Simplified Synchronization: \n",
    "Since each process has its own memory space, there is no need for complex synchronization mechanisms like locks and semaphores to manage shared resources between threads. Communication between processes can be achieved using inter-process communication (IPC) mechanisms like pipes, queues, or shared memory.\n",
    "\n",
    "###### Portability: \n",
    "Multiprocessing is generally more portable across different operating systems compared to multithreading. It can take better advantage of the available hardware resources, making it a suitable choice for performance-critical applications.\n",
    "\n",
    "Overall, multiprocessing in Python is a powerful tool for achieving true parallelism and improving the performance of CPU-bound tasks. It enables developers to efficiently utilize multi-core systems, leading to faster and more efficient execution of computational tasks, making it useful for a wide range of applications, from scientific computing to data processing and more."
   ]
  },
  {
   "cell_type": "code",
   "execution_count": null,
   "id": "04542402",
   "metadata": {},
   "outputs": [],
   "source": []
  },
  {
   "cell_type": "markdown",
   "id": "2634a73a",
   "metadata": {},
   "source": [
    "###### Q2. What are the differences between multiprocessing and multithreading?"
   ]
  },
  {
   "cell_type": "markdown",
   "id": "eccf9433",
   "metadata": {},
   "source": [
    "Multiprocessing and multithreading are two different approaches to achieving concurrent execution in Python. While both allow running multiple tasks simultaneously, they differ in their architecture and how they utilize system resources. Here are the key differences between multiprocessing and multithreading:\n",
    "\n",
    "###### Isolation:\n",
    "\n",
    "* Multiprocessing: Each process in multiprocessing runs in its own memory space and has its separate Python interpreter. This isolation ensures that processes do not share memory, making them more independent and less prone to interference. An error in one process does not affect others.\n",
    "\n",
    "* Multithreading: Threads in multithreading run within the same process and share the same memory space. Since they share memory, there is a higher risk of interference between threads. An error in one thread can affect the entire process.\n",
    "\n",
    "###### Parallelism:\n",
    "\n",
    "* Multiprocessing: Multiprocessing can achieve true parallelism by utilizing multiple CPU cores. Each process runs independently on a separate core, allowing for significant performance improvement for CPU-bound tasks.\n",
    "\n",
    "* Multithreading: Due to the Global Interpreter Lock (GIL) in Python, multithreading does not achieve true parallelism for CPU-bound tasks. Only one thread can execute Python bytecode at a time, limiting parallel processing to I/O-bound tasks.\n",
    "\n",
    "###### Resource Utilization:\n",
    "\n",
    "* Multiprocessing: Multiprocessing can utilize multiple CPU cores, making better use of available hardware resources and improving overall performance.\n",
    "\n",
    "* Multithreading: While multithreading can improve responsiveness for I/O-bound tasks, it may not utilize multiple CPU cores effectively for CPU-bound tasks due to GIL limitations.\n",
    "\n",
    "###### Complexity and Synchronization:\n",
    "\n",
    "* Multiprocessing: Synchronization between processes is generally simpler compared to multithreading, as each process has its memory space. Communication between processes can be achieved through inter-process communication (IPC) mechanisms like pipes, queues, or shared memory.\n",
    "\n",
    "* Multithreading: Synchronization between threads can be more complex, as they share memory. Synchronization mechanisms like locks, semaphores, and condition variables are often required to manage shared resources safely, leading to potential issues like race conditions and deadlocks.\n",
    "\n",
    "###### Portability:\n",
    "\n",
    "* Multiprocessing: Multiprocessing is generally more portable across different operating systems and platforms, as it relies on separate processes, which are better isolated from the underlying system.\n",
    "\n",
    "* Multithreading: Multithreading behavior may vary across different operating systems and Python implementations due to GIL and platform-specific thread management.\n",
    "\n",
    "In summary, multiprocessing and multithreading have their advantages and are suitable for different types of tasks. Multiprocessing is advantageous for CPU-bound tasks requiring true parallelism, while multithreading is more suitable for I/O-bound tasks and tasks that require lightweight threading for responsiveness. Developers need to carefully choose the appropriate concurrency model based on their specific application requirements and the nature of the tasks they want to parallelize."
   ]
  },
  {
   "cell_type": "code",
   "execution_count": null,
   "id": "ec8ff7b1",
   "metadata": {},
   "outputs": [],
   "source": []
  },
  {
   "cell_type": "markdown",
   "id": "e8adaa2f",
   "metadata": {},
   "source": [
    "###### Q3. Write a python code to create a process using the multiprocessing module."
   ]
  },
  {
   "cell_type": "code",
   "execution_count": 2,
   "id": "9192c2fc",
   "metadata": {},
   "outputs": [
    {
     "name": "stdout",
     "output_type": "stream",
     "text": [
      "Process has finished.\n"
     ]
    }
   ],
   "source": [
    "from multiprocessing import Process\n",
    "\n",
    "def display(n):\n",
    "    for i in range(1, n):\n",
    "        print(\"Number:\", i)\n",
    "\n",
    "process = Process(target=display, args=(6,))\n",
    "process.start()\n",
    "process.join()\n",
    "print(\"Process has finished.\")"
   ]
  },
  {
   "cell_type": "code",
   "execution_count": null,
   "id": "b4ec2241",
   "metadata": {},
   "outputs": [],
   "source": []
  },
  {
   "cell_type": "markdown",
   "id": "9429bca3",
   "metadata": {},
   "source": [
    "###### Q4. What is a multiprocessing pool in python? Why is it used?"
   ]
  },
  {
   "cell_type": "markdown",
   "id": "88e67bf0",
   "metadata": {},
   "source": [
    "A multiprocessing pool in Python refers to a collection of worker processes that can be used to parallelize the execution of a function across multiple inputs or tasks. The multiprocessing.Pool class in the multiprocessing module provides a convenient way to create and manage a pool of worker processes.\n",
    "\n",
    "The multiprocessing.Pool allows you to distribute tasks efficiently among the available CPU cores, making it useful for parallelizing CPU-bound operations and achieving concurrency. Instead of manually creating and managing individual processes, you can use the pool to abstract away the complexity of process management.\n",
    "\n",
    "The pool works by creating a specified number of worker processes that are ready to accept tasks. When you submit a task to the pool, it is assigned to one of the available worker processes, which then executes the task concurrently with other tasks in the pool. Once a worker finishes a task, it becomes available to take on another task from the pool.\n",
    "\n",
    "The primary reasons to use a multiprocessing pool are:\n",
    "\n",
    "Simplified Parallelization: The multiprocessing.Pool provides an easy-to-use interface for distributing tasks across multiple processes. You can parallelize function calls with minimal effort, abstracting away the details of process creation and management.\n",
    "\n",
    "Efficient Resource Utilization: The pool allows you to utilize multiple CPU cores, which can significantly improve the performance of CPU-bound tasks. By distributing tasks efficiently, the pool makes better use of available CPU resources and reduces overall execution time.\n",
    "\n",
    "Task Management: The pool manages the assignment of tasks to worker processes, making sure tasks are distributed evenly among the available processes. This load balancing helps optimize the overall execution time.\n",
    "\n",
    "Synchronization and Result Gathering: The pool handles synchronization for task execution and result retrieval. You can submit tasks to the pool and receive the results when the tasks are completed.\n",
    "\n",
    "\n",
    "\n"
   ]
  },
  {
   "cell_type": "code",
   "execution_count": null,
   "id": "86c1ae0d",
   "metadata": {},
   "outputs": [],
   "source": []
  },
  {
   "cell_type": "markdown",
   "id": "9c1ba6ce",
   "metadata": {},
   "source": [
    "###### Q5. How can we create a pool of worker processes in python using the multiprocessing module?"
   ]
  },
  {
   "cell_type": "markdown",
   "id": "035d09f6",
   "metadata": {},
   "source": [
    "To create a pool of worker processes in Python using the multiprocessing module, you can use the multiprocessing.Pool class. The Pool class provides a simple interface for managing a fixed number of worker processes that can execute tasks concurrently. Here's how you can create a pool of worker processes:"
   ]
  },
  {
   "cell_type": "code",
   "execution_count": 3,
   "id": "b548a1b6",
   "metadata": {},
   "outputs": [
    {
     "name": "stdout",
     "output_type": "stream",
     "text": [
      "Results: [2, 4, 6, 8, 10]\n"
     ]
    }
   ],
   "source": [
    "#import multiprocessing\n",
    "from multiprocessing import Pool\n",
    "import ProcessEx1\n",
    "if __name__ == \"__main__\":\n",
    "    pool_size = 4\n",
    "    with Pool(processes=pool_size) as pool:\n",
    "        task_inputs = [1, 2, 3, 4, 5]\n",
    "        results = pool.map(ProcessEx1.my_task, task_inputs)\n",
    "    print(\"Results:\", results)\n"
   ]
  },
  {
   "cell_type": "code",
   "execution_count": null,
   "id": "92b35923",
   "metadata": {},
   "outputs": [],
   "source": []
  },
  {
   "cell_type": "markdown",
   "id": "f1a37b30",
   "metadata": {},
   "source": [
    "###### Q6. Write a python program to create 4 processes, each process should print a different number using the multiprocessing module in python."
   ]
  },
  {
   "cell_type": "code",
   "execution_count": null,
   "id": "1d738a63",
   "metadata": {},
   "outputs": [],
   "source": [
    "from multiprocessing import Process\n",
    "import ProcessEx1\n",
    "\n",
    "def print_number(number):\n",
    "    print(\"Process ID:\", multiprocessing.current_process().pid, \"Number:\", number)\n",
    "\n",
    "if __name__ == \"__main__\":\n",
    "    numbers = [1, 2, 3, 4]\n",
    "\n",
    "    processes = []\n",
    "\n",
    "    for num in numbers:\n",
    "        process = Process(target=ProcessEx1.print_number, args=(num,))\n",
    "        processes.append(process)\n",
    "        process.start()\n",
    "\n",
    "    for process in processes:\n",
    "        process.join()\n",
    "\n",
    "    print(\"All processes have finished.\")"
   ]
  },
  {
   "cell_type": "code",
   "execution_count": null,
   "id": "d4b2bf7a",
   "metadata": {},
   "outputs": [],
   "source": []
  }
 ],
 "metadata": {
  "kernelspec": {
   "display_name": "Python 3 (ipykernel)",
   "language": "python",
   "name": "python3"
  },
  "language_info": {
   "codemirror_mode": {
    "name": "ipython",
    "version": 3
   },
   "file_extension": ".py",
   "mimetype": "text/x-python",
   "name": "python",
   "nbconvert_exporter": "python",
   "pygments_lexer": "ipython3",
   "version": "3.9.7"
  }
 },
 "nbformat": 4,
 "nbformat_minor": 5
}
