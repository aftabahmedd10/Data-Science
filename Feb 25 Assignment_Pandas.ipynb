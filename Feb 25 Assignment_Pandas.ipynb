{
 "cells": [
  {
   "cell_type": "code",
   "execution_count": null,
   "id": "aad6a26e",
   "metadata": {},
   "outputs": [],
   "source": []
  },
  {
   "cell_type": "markdown",
   "id": "63607749",
   "metadata": {},
   "source": [
    "#### Feb 25th Assignment"
   ]
  },
  {
   "cell_type": "markdown",
   "id": "617b5ad5",
   "metadata": {},
   "source": [
    "#### Consider following code to answer further questions:"
   ]
  },
  {
   "cell_type": "code",
   "execution_count": 1,
   "id": "2fb681e5",
   "metadata": {},
   "outputs": [
    {
     "data": {
      "text/html": [
       "<div>\n",
       "<style scoped>\n",
       "    .dataframe tbody tr th:only-of-type {\n",
       "        vertical-align: middle;\n",
       "    }\n",
       "\n",
       "    .dataframe tbody tr th {\n",
       "        vertical-align: top;\n",
       "    }\n",
       "\n",
       "    .dataframe thead th {\n",
       "        text-align: right;\n",
       "    }\n",
       "</style>\n",
       "<table border=\"1\" class=\"dataframe\">\n",
       "  <thead>\n",
       "    <tr style=\"text-align: right;\">\n",
       "      <th></th>\n",
       "      <th>course_name</th>\n",
       "      <th>duration</th>\n",
       "    </tr>\n",
       "  </thead>\n",
       "  <tbody>\n",
       "    <tr>\n",
       "      <th>0</th>\n",
       "      <td>Data Science</td>\n",
       "      <td>2</td>\n",
       "    </tr>\n",
       "    <tr>\n",
       "      <th>1</th>\n",
       "      <td>Machine Learning</td>\n",
       "      <td>3</td>\n",
       "    </tr>\n",
       "    <tr>\n",
       "      <th>2</th>\n",
       "      <td>Big Data</td>\n",
       "      <td>6</td>\n",
       "    </tr>\n",
       "    <tr>\n",
       "      <th>3</th>\n",
       "      <td>Data Engineer</td>\n",
       "      <td>4</td>\n",
       "    </tr>\n",
       "  </tbody>\n",
       "</table>\n",
       "</div>"
      ],
      "text/plain": [
       "        course_name  duration\n",
       "0      Data Science         2\n",
       "1  Machine Learning         3\n",
       "2          Big Data         6\n",
       "3     Data Engineer         4"
      ]
     },
     "execution_count": 1,
     "metadata": {},
     "output_type": "execute_result"
    }
   ],
   "source": [
    "import pandas as pd\n",
    "course_name = ['Data Science', 'Machine Learning', 'Big Data', 'Data Engineer']\n",
    "duration = [2,3,6,4]\n",
    "df = pd.DataFrame(data = {'course_name' : course_name, 'duration' : duration})\n",
    "df"
   ]
  },
  {
   "cell_type": "markdown",
   "id": "efb0f446",
   "metadata": {},
   "source": [
    "#### Q1. Write a code to print the data present in the second row of the dataframe, df."
   ]
  },
  {
   "cell_type": "code",
   "execution_count": 2,
   "id": "8dbdb531",
   "metadata": {},
   "outputs": [
    {
     "data": {
      "text/plain": [
       "course_name    Machine Learning\n",
       "duration                      3\n",
       "Name: 1, dtype: object"
      ]
     },
     "execution_count": 2,
     "metadata": {},
     "output_type": "execute_result"
    }
   ],
   "source": [
    "df.iloc[1]"
   ]
  },
  {
   "cell_type": "code",
   "execution_count": null,
   "id": "975c28b8",
   "metadata": {},
   "outputs": [],
   "source": []
  },
  {
   "cell_type": "markdown",
   "id": "02ca33ec",
   "metadata": {},
   "source": [
    "#### Q2. What is the difference between the functions loc and iloc in pandas.DataFrame?"
   ]
  },
  {
   "cell_type": "markdown",
   "id": "7d7ad47a",
   "metadata": {},
   "source": [
    "In pandas, loc and iloc are used for selecting data from a DataFrame, but they differ in their methods of indexing:\n",
    "\n",
    "loc (Label-based indexing):\n",
    "\n",
    "It is primarily label-based, meaning that you use the actual row and column labels to make selections.\n",
    "The syntax is df.loc[row_label, column_label] or df.loc[row_label] for selecting rows.\n",
    "It includes the last element of the range when using slices.\n",
    "You can pass boolean arrays to filter rows based on a condition."
   ]
  },
  {
   "cell_type": "code",
   "execution_count": 3,
   "id": "652620b9",
   "metadata": {},
   "outputs": [
    {
     "data": {
      "text/html": [
       "<div>\n",
       "<style scoped>\n",
       "    .dataframe tbody tr th:only-of-type {\n",
       "        vertical-align: middle;\n",
       "    }\n",
       "\n",
       "    .dataframe tbody tr th {\n",
       "        vertical-align: top;\n",
       "    }\n",
       "\n",
       "    .dataframe thead th {\n",
       "        text-align: right;\n",
       "    }\n",
       "</style>\n",
       "<table border=\"1\" class=\"dataframe\">\n",
       "  <thead>\n",
       "    <tr style=\"text-align: right;\">\n",
       "      <th></th>\n",
       "      <th>A</th>\n",
       "      <th>B</th>\n",
       "    </tr>\n",
       "  </thead>\n",
       "  <tbody>\n",
       "    <tr>\n",
       "      <th>X</th>\n",
       "      <td>1</td>\n",
       "      <td>4</td>\n",
       "    </tr>\n",
       "    <tr>\n",
       "      <th>Y</th>\n",
       "      <td>2</td>\n",
       "      <td>5</td>\n",
       "    </tr>\n",
       "    <tr>\n",
       "      <th>Z</th>\n",
       "      <td>3</td>\n",
       "      <td>6</td>\n",
       "    </tr>\n",
       "  </tbody>\n",
       "</table>\n",
       "</div>"
      ],
      "text/plain": [
       "   A  B\n",
       "X  1  4\n",
       "Y  2  5\n",
       "Z  3  6"
      ]
     },
     "execution_count": 3,
     "metadata": {},
     "output_type": "execute_result"
    }
   ],
   "source": [
    "import pandas as pd\n",
    "\n",
    "data = {'A': [1, 2, 3], 'B': [4, 5, 6]}\n",
    "df = pd.DataFrame(data, index=['X', 'Y', 'Z'])\n",
    "df"
   ]
  },
  {
   "cell_type": "code",
   "execution_count": 4,
   "id": "b65a7543",
   "metadata": {},
   "outputs": [
    {
     "name": "stdout",
     "output_type": "stream",
     "text": [
      "2\n"
     ]
    }
   ],
   "source": [
    "print(df.loc['Y', 'A'])  # Select a specific element"
   ]
  },
  {
   "cell_type": "code",
   "execution_count": 5,
   "id": "4543ef6f",
   "metadata": {},
   "outputs": [
    {
     "name": "stdout",
     "output_type": "stream",
     "text": [
      "A    2\n",
      "B    5\n",
      "Name: Y, dtype: int64\n"
     ]
    }
   ],
   "source": [
    "print(df.loc['Y']) # Select a row"
   ]
  },
  {
   "cell_type": "code",
   "execution_count": 6,
   "id": "b09ac592",
   "metadata": {},
   "outputs": [
    {
     "name": "stdout",
     "output_type": "stream",
     "text": [
      "   A  B\n",
      "Y  2  5\n",
      "Z  3  6\n"
     ]
    }
   ],
   "source": [
    "print(df.loc['Y': 'Z'])  # Select a range of rows"
   ]
  },
  {
   "cell_type": "markdown",
   "id": "632eebbe",
   "metadata": {},
   "source": [
    "iloc (Integer-location based indexing):\n",
    "\n",
    "It is primarily integer-based, meaning that you use integer positions to make selections.\n",
    "The syntax is df.iloc[row_index, column_index] or df.iloc[row_index] for selecting rows.\n",
    "It excludes the last element of the range when using slices.\n",
    "You cannot use labels; only integer positions are accepted."
   ]
  },
  {
   "cell_type": "code",
   "execution_count": 7,
   "id": "c4b35f30",
   "metadata": {},
   "outputs": [
    {
     "data": {
      "text/html": [
       "<div>\n",
       "<style scoped>\n",
       "    .dataframe tbody tr th:only-of-type {\n",
       "        vertical-align: middle;\n",
       "    }\n",
       "\n",
       "    .dataframe tbody tr th {\n",
       "        vertical-align: top;\n",
       "    }\n",
       "\n",
       "    .dataframe thead th {\n",
       "        text-align: right;\n",
       "    }\n",
       "</style>\n",
       "<table border=\"1\" class=\"dataframe\">\n",
       "  <thead>\n",
       "    <tr style=\"text-align: right;\">\n",
       "      <th></th>\n",
       "      <th>A</th>\n",
       "      <th>B</th>\n",
       "    </tr>\n",
       "  </thead>\n",
       "  <tbody>\n",
       "    <tr>\n",
       "      <th>0</th>\n",
       "      <td>1</td>\n",
       "      <td>4</td>\n",
       "    </tr>\n",
       "    <tr>\n",
       "      <th>1</th>\n",
       "      <td>2</td>\n",
       "      <td>5</td>\n",
       "    </tr>\n",
       "    <tr>\n",
       "      <th>2</th>\n",
       "      <td>3</td>\n",
       "      <td>6</td>\n",
       "    </tr>\n",
       "  </tbody>\n",
       "</table>\n",
       "</div>"
      ],
      "text/plain": [
       "   A  B\n",
       "0  1  4\n",
       "1  2  5\n",
       "2  3  6"
      ]
     },
     "execution_count": 7,
     "metadata": {},
     "output_type": "execute_result"
    }
   ],
   "source": [
    "import pandas as pd\n",
    "\n",
    "data = {'A': [1, 2, 3], 'B': [4, 5, 6]}\n",
    "df = pd.DataFrame(data)\n",
    "df"
   ]
  },
  {
   "cell_type": "code",
   "execution_count": 8,
   "id": "51f529a0",
   "metadata": {},
   "outputs": [
    {
     "data": {
      "text/plain": [
       "2"
      ]
     },
     "execution_count": 8,
     "metadata": {},
     "output_type": "execute_result"
    }
   ],
   "source": [
    "df.iloc[1, 0]     # Select a specific element"
   ]
  },
  {
   "cell_type": "code",
   "execution_count": 9,
   "id": "d66f0dc5",
   "metadata": {},
   "outputs": [
    {
     "data": {
      "text/plain": [
       "A    2\n",
       "B    5\n",
       "Name: 1, dtype: int64"
      ]
     },
     "execution_count": 9,
     "metadata": {},
     "output_type": "execute_result"
    }
   ],
   "source": [
    "df.iloc[1]        # Select a row"
   ]
  },
  {
   "cell_type": "code",
   "execution_count": 10,
   "id": "1f1043d9",
   "metadata": {},
   "outputs": [
    {
     "data": {
      "text/html": [
       "<div>\n",
       "<style scoped>\n",
       "    .dataframe tbody tr th:only-of-type {\n",
       "        vertical-align: middle;\n",
       "    }\n",
       "\n",
       "    .dataframe tbody tr th {\n",
       "        vertical-align: top;\n",
       "    }\n",
       "\n",
       "    .dataframe thead th {\n",
       "        text-align: right;\n",
       "    }\n",
       "</style>\n",
       "<table border=\"1\" class=\"dataframe\">\n",
       "  <thead>\n",
       "    <tr style=\"text-align: right;\">\n",
       "      <th></th>\n",
       "      <th>A</th>\n",
       "      <th>B</th>\n",
       "    </tr>\n",
       "  </thead>\n",
       "  <tbody>\n",
       "    <tr>\n",
       "      <th>1</th>\n",
       "      <td>2</td>\n",
       "      <td>5</td>\n",
       "    </tr>\n",
       "    <tr>\n",
       "      <th>2</th>\n",
       "      <td>3</td>\n",
       "      <td>6</td>\n",
       "    </tr>\n",
       "  </tbody>\n",
       "</table>\n",
       "</div>"
      ],
      "text/plain": [
       "   A  B\n",
       "1  2  5\n",
       "2  3  6"
      ]
     },
     "execution_count": 10,
     "metadata": {},
     "output_type": "execute_result"
    }
   ],
   "source": [
    "df.iloc[1:3]   # Select a range of rows"
   ]
  },
  {
   "cell_type": "code",
   "execution_count": null,
   "id": "dbb8a2f3",
   "metadata": {},
   "outputs": [],
   "source": []
  },
  {
   "cell_type": "markdown",
   "id": "b9280543",
   "metadata": {},
   "source": [
    "#### Q3. Reindex the given dataframe using a variable, reindex = [3,0,1,2] and store it in the variable, new_df then find the output for both new_df.loc[2] and new_df.iloc[2]. \n",
    "\n",
    "#### Did you observe any difference in both the outputs? If so then explain it."
   ]
  },
  {
   "cell_type": "code",
   "execution_count": 11,
   "id": "9f414ec0",
   "metadata": {},
   "outputs": [
    {
     "data": {
      "text/html": [
       "<div>\n",
       "<style scoped>\n",
       "    .dataframe tbody tr th:only-of-type {\n",
       "        vertical-align: middle;\n",
       "    }\n",
       "\n",
       "    .dataframe tbody tr th {\n",
       "        vertical-align: top;\n",
       "    }\n",
       "\n",
       "    .dataframe thead th {\n",
       "        text-align: right;\n",
       "    }\n",
       "</style>\n",
       "<table border=\"1\" class=\"dataframe\">\n",
       "  <thead>\n",
       "    <tr style=\"text-align: right;\">\n",
       "      <th></th>\n",
       "      <th>A</th>\n",
       "      <th>B</th>\n",
       "    </tr>\n",
       "  </thead>\n",
       "  <tbody>\n",
       "    <tr>\n",
       "      <th>0</th>\n",
       "      <td>1</td>\n",
       "      <td>4</td>\n",
       "    </tr>\n",
       "    <tr>\n",
       "      <th>1</th>\n",
       "      <td>2</td>\n",
       "      <td>5</td>\n",
       "    </tr>\n",
       "    <tr>\n",
       "      <th>2</th>\n",
       "      <td>3</td>\n",
       "      <td>6</td>\n",
       "    </tr>\n",
       "    <tr>\n",
       "      <th>3</th>\n",
       "      <td>4</td>\n",
       "      <td>7</td>\n",
       "    </tr>\n",
       "  </tbody>\n",
       "</table>\n",
       "</div>"
      ],
      "text/plain": [
       "   A  B\n",
       "0  1  4\n",
       "1  2  5\n",
       "2  3  6\n",
       "3  4  7"
      ]
     },
     "execution_count": 11,
     "metadata": {},
     "output_type": "execute_result"
    }
   ],
   "source": [
    "data = {'A': [1, 2, 3, 4], 'B': [4, 5, 6, 7]}\n",
    "df = pd.DataFrame(data)\n",
    "df"
   ]
  },
  {
   "cell_type": "code",
   "execution_count": 12,
   "id": "400787d2",
   "metadata": {},
   "outputs": [
    {
     "data": {
      "text/html": [
       "<div>\n",
       "<style scoped>\n",
       "    .dataframe tbody tr th:only-of-type {\n",
       "        vertical-align: middle;\n",
       "    }\n",
       "\n",
       "    .dataframe tbody tr th {\n",
       "        vertical-align: top;\n",
       "    }\n",
       "\n",
       "    .dataframe thead th {\n",
       "        text-align: right;\n",
       "    }\n",
       "</style>\n",
       "<table border=\"1\" class=\"dataframe\">\n",
       "  <thead>\n",
       "    <tr style=\"text-align: right;\">\n",
       "      <th></th>\n",
       "      <th>A</th>\n",
       "      <th>B</th>\n",
       "    </tr>\n",
       "  </thead>\n",
       "  <tbody>\n",
       "    <tr>\n",
       "      <th>3</th>\n",
       "      <td>4</td>\n",
       "      <td>7</td>\n",
       "    </tr>\n",
       "    <tr>\n",
       "      <th>0</th>\n",
       "      <td>1</td>\n",
       "      <td>4</td>\n",
       "    </tr>\n",
       "    <tr>\n",
       "      <th>1</th>\n",
       "      <td>2</td>\n",
       "      <td>5</td>\n",
       "    </tr>\n",
       "    <tr>\n",
       "      <th>2</th>\n",
       "      <td>3</td>\n",
       "      <td>6</td>\n",
       "    </tr>\n",
       "  </tbody>\n",
       "</table>\n",
       "</div>"
      ],
      "text/plain": [
       "   A  B\n",
       "3  4  7\n",
       "0  1  4\n",
       "1  2  5\n",
       "2  3  6"
      ]
     },
     "execution_count": 12,
     "metadata": {},
     "output_type": "execute_result"
    }
   ],
   "source": [
    "new_df = df.reindex([3,0,1,2])\n",
    "new_df"
   ]
  },
  {
   "cell_type": "code",
   "execution_count": 13,
   "id": "69e437cb",
   "metadata": {},
   "outputs": [
    {
     "data": {
      "text/plain": [
       "A    3\n",
       "B    6\n",
       "Name: 2, dtype: int64"
      ]
     },
     "execution_count": 13,
     "metadata": {},
     "output_type": "execute_result"
    }
   ],
   "source": [
    "new_df.loc[2]"
   ]
  },
  {
   "cell_type": "code",
   "execution_count": 14,
   "id": "175850fd",
   "metadata": {},
   "outputs": [
    {
     "data": {
      "text/plain": [
       "A    2\n",
       "B    5\n",
       "Name: 1, dtype: int64"
      ]
     },
     "execution_count": 14,
     "metadata": {},
     "output_type": "execute_result"
    }
   ],
   "source": [
    "new_df.iloc[2]"
   ]
  },
  {
   "cell_type": "markdown",
   "id": "7b830900",
   "metadata": {},
   "source": [
    "new_df.loc[2] (label-based indexing):\n",
    "\n",
    "Selects the row with label 2 from the reindexed DataFrame.\n",
    "Output: A=3 and B=6.\n",
    "\n",
    "\n",
    "new_df.iloc[2] (integer-location based indexing):\n",
    "\n",
    "Selects the row at integer position 2 from the reindexed DataFrame.\n",
    "Output: A=2 and B=5.\n",
    "\n",
    "\n",
    "In summary, the key differences are:\n",
    "\n",
    "loc uses the label 2 and retrieves the corresponding row.\n",
    "iloc uses the integer position 2 and retrieves the row at that position.\n",
    "The values differ because the labels and integer positions may not align after reindexing. The label 2 corresponds to the third row in the original DataFrame, but after reindexing, it corresponds to the second row in new_df."
   ]
  },
  {
   "cell_type": "code",
   "execution_count": null,
   "id": "5fa31b3c",
   "metadata": {},
   "outputs": [],
   "source": []
  },
  {
   "cell_type": "code",
   "execution_count": 15,
   "id": "832fc179",
   "metadata": {},
   "outputs": [
    {
     "data": {
      "text/html": [
       "<div>\n",
       "<style scoped>\n",
       "    .dataframe tbody tr th:only-of-type {\n",
       "        vertical-align: middle;\n",
       "    }\n",
       "\n",
       "    .dataframe tbody tr th {\n",
       "        vertical-align: top;\n",
       "    }\n",
       "\n",
       "    .dataframe thead th {\n",
       "        text-align: right;\n",
       "    }\n",
       "</style>\n",
       "<table border=\"1\" class=\"dataframe\">\n",
       "  <thead>\n",
       "    <tr style=\"text-align: right;\">\n",
       "      <th></th>\n",
       "      <th>column_1</th>\n",
       "      <th>column_2</th>\n",
       "      <th>column_3</th>\n",
       "      <th>column_4</th>\n",
       "      <th>column_5</th>\n",
       "      <th>column_6</th>\n",
       "    </tr>\n",
       "  </thead>\n",
       "  <tbody>\n",
       "    <tr>\n",
       "      <th>1</th>\n",
       "      <td>0.935314</td>\n",
       "      <td>0.282887</td>\n",
       "      <td>0.315886</td>\n",
       "      <td>0.006579</td>\n",
       "      <td>0.180752</td>\n",
       "      <td>0.952262</td>\n",
       "    </tr>\n",
       "    <tr>\n",
       "      <th>2</th>\n",
       "      <td>0.677557</td>\n",
       "      <td>0.201009</td>\n",
       "      <td>0.943602</td>\n",
       "      <td>0.414147</td>\n",
       "      <td>0.948784</td>\n",
       "      <td>0.438550</td>\n",
       "    </tr>\n",
       "    <tr>\n",
       "      <th>3</th>\n",
       "      <td>0.906558</td>\n",
       "      <td>0.131857</td>\n",
       "      <td>0.410813</td>\n",
       "      <td>0.722585</td>\n",
       "      <td>0.714309</td>\n",
       "      <td>0.468891</td>\n",
       "    </tr>\n",
       "    <tr>\n",
       "      <th>4</th>\n",
       "      <td>0.519097</td>\n",
       "      <td>0.712193</td>\n",
       "      <td>0.058977</td>\n",
       "      <td>0.776319</td>\n",
       "      <td>0.798695</td>\n",
       "      <td>0.900031</td>\n",
       "    </tr>\n",
       "    <tr>\n",
       "      <th>5</th>\n",
       "      <td>0.066075</td>\n",
       "      <td>0.360839</td>\n",
       "      <td>0.444317</td>\n",
       "      <td>0.595566</td>\n",
       "      <td>0.184019</td>\n",
       "      <td>0.386872</td>\n",
       "    </tr>\n",
       "    <tr>\n",
       "      <th>6</th>\n",
       "      <td>0.510598</td>\n",
       "      <td>0.841617</td>\n",
       "      <td>0.387564</td>\n",
       "      <td>0.400473</td>\n",
       "      <td>0.512701</td>\n",
       "      <td>0.228766</td>\n",
       "    </tr>\n",
       "  </tbody>\n",
       "</table>\n",
       "</div>"
      ],
      "text/plain": [
       "   column_1  column_2  column_3  column_4  column_5  column_6\n",
       "1  0.935314  0.282887  0.315886  0.006579  0.180752  0.952262\n",
       "2  0.677557  0.201009  0.943602  0.414147  0.948784  0.438550\n",
       "3  0.906558  0.131857  0.410813  0.722585  0.714309  0.468891\n",
       "4  0.519097  0.712193  0.058977  0.776319  0.798695  0.900031\n",
       "5  0.066075  0.360839  0.444317  0.595566  0.184019  0.386872\n",
       "6  0.510598  0.841617  0.387564  0.400473  0.512701  0.228766"
      ]
     },
     "execution_count": 15,
     "metadata": {},
     "output_type": "execute_result"
    }
   ],
   "source": [
    "#Consider the below code to answer further questions:\n",
    "import pandas as pd\n",
    "import numpy as np\n",
    "columns = ['column_1', 'column_2', 'column_3', 'column_4', 'column_5', 'column_6']\n",
    "indices = [1,2,3,4,5,6]\n",
    "#Creating a dataframe:\n",
    "df1 = pd.DataFrame(np.random.rand(6,6), columns = columns, index = indices)\n",
    "df1"
   ]
  },
  {
   "cell_type": "markdown",
   "id": "52eef68e",
   "metadata": {},
   "source": [
    "#### Q4. Write a code to find the following statistical measurements for the above dataframe df1:\n",
    "##### (i) mean of each and every column present in the dataframe.\n",
    "##### (ii) standard deviation of column, ‘column_2’"
   ]
  },
  {
   "cell_type": "code",
   "execution_count": 16,
   "id": "11e09c53",
   "metadata": {},
   "outputs": [
    {
     "data": {
      "text/plain": [
       "column_1    0.602533\n",
       "column_2    0.421734\n",
       "column_3    0.426860\n",
       "column_4    0.485945\n",
       "column_5    0.556543\n",
       "column_6    0.562562\n",
       "dtype: float64"
      ]
     },
     "execution_count": 16,
     "metadata": {},
     "output_type": "execute_result"
    }
   ],
   "source": [
    "df1.mean()"
   ]
  },
  {
   "cell_type": "code",
   "execution_count": 17,
   "id": "8e75ffa4",
   "metadata": {},
   "outputs": [
    {
     "data": {
      "text/plain": [
       "column_1    0.602533\n",
       "column_2    0.421734\n",
       "column_3    0.426860\n",
       "column_4    0.485945\n",
       "column_5    0.556543\n",
       "column_6    0.562562\n",
       "dtype: float64"
      ]
     },
     "execution_count": 17,
     "metadata": {},
     "output_type": "execute_result"
    }
   ],
   "source": [
    "df1.apply(lambda x: np.mean(x))"
   ]
  },
  {
   "cell_type": "code",
   "execution_count": 18,
   "id": "bb2d67e1",
   "metadata": {},
   "outputs": [
    {
     "data": {
      "text/plain": [
       "column_1    0.602533\n",
       "column_2    0.421734\n",
       "column_3    0.426860\n",
       "column_4    0.485945\n",
       "column_5    0.556543\n",
       "column_6    0.562562\n",
       "dtype: float64"
      ]
     },
     "execution_count": 18,
     "metadata": {},
     "output_type": "execute_result"
    }
   ],
   "source": [
    "df1.apply(np.mean)"
   ]
  },
  {
   "cell_type": "code",
   "execution_count": 19,
   "id": "653c0e4f",
   "metadata": {},
   "outputs": [
    {
     "data": {
      "text/plain": [
       "0.2885836322177556"
      ]
     },
     "execution_count": 19,
     "metadata": {},
     "output_type": "execute_result"
    }
   ],
   "source": [
    "df1['column_2'].std()"
   ]
  },
  {
   "cell_type": "code",
   "execution_count": 20,
   "id": "0d319ed5",
   "metadata": {},
   "outputs": [
    {
     "data": {
      "text/plain": [
       "column_1        NaN\n",
       "column_2    0.26344\n",
       "column_3        NaN\n",
       "column_4        NaN\n",
       "column_5        NaN\n",
       "column_6        NaN\n",
       "dtype: float64"
      ]
     },
     "execution_count": 20,
     "metadata": {},
     "output_type": "execute_result"
    }
   ],
   "source": [
    "df1.apply(lambda x : np.std(x) if x.name == 'column_2' else np.nan)"
   ]
  },
  {
   "cell_type": "code",
   "execution_count": null,
   "id": "38f0138f",
   "metadata": {},
   "outputs": [],
   "source": []
  },
  {
   "cell_type": "markdown",
   "id": "701aa4d0",
   "metadata": {},
   "source": [
    "#### Q5. Replace the data present in the second row of column, ‘column_2’ by a string variable then find the mean of column, column_2.\n",
    "#### If you are getting errors in executing it then explain why.\n",
    "[Hint: To replace the data use df1.loc[] and equate this to string data of your choice.]"
   ]
  },
  {
   "cell_type": "code",
   "execution_count": 21,
   "id": "20da1ca8",
   "metadata": {},
   "outputs": [
    {
     "data": {
      "text/html": [
       "<div>\n",
       "<style scoped>\n",
       "    .dataframe tbody tr th:only-of-type {\n",
       "        vertical-align: middle;\n",
       "    }\n",
       "\n",
       "    .dataframe tbody tr th {\n",
       "        vertical-align: top;\n",
       "    }\n",
       "\n",
       "    .dataframe thead th {\n",
       "        text-align: right;\n",
       "    }\n",
       "</style>\n",
       "<table border=\"1\" class=\"dataframe\">\n",
       "  <thead>\n",
       "    <tr style=\"text-align: right;\">\n",
       "      <th></th>\n",
       "      <th>column_1</th>\n",
       "      <th>column_2</th>\n",
       "      <th>column_3</th>\n",
       "      <th>column_4</th>\n",
       "      <th>column_5</th>\n",
       "      <th>column_6</th>\n",
       "    </tr>\n",
       "  </thead>\n",
       "  <tbody>\n",
       "    <tr>\n",
       "      <th>1</th>\n",
       "      <td>0.935314</td>\n",
       "      <td>0.282887</td>\n",
       "      <td>0.315886</td>\n",
       "      <td>0.006579</td>\n",
       "      <td>0.180752</td>\n",
       "      <td>0.952262</td>\n",
       "    </tr>\n",
       "    <tr>\n",
       "      <th>2</th>\n",
       "      <td>0.677557</td>\n",
       "      <td>0.201009</td>\n",
       "      <td>0.943602</td>\n",
       "      <td>0.414147</td>\n",
       "      <td>0.948784</td>\n",
       "      <td>0.438550</td>\n",
       "    </tr>\n",
       "    <tr>\n",
       "      <th>3</th>\n",
       "      <td>0.906558</td>\n",
       "      <td>0.131857</td>\n",
       "      <td>0.410813</td>\n",
       "      <td>0.722585</td>\n",
       "      <td>0.714309</td>\n",
       "      <td>0.468891</td>\n",
       "    </tr>\n",
       "    <tr>\n",
       "      <th>4</th>\n",
       "      <td>0.519097</td>\n",
       "      <td>0.712193</td>\n",
       "      <td>0.058977</td>\n",
       "      <td>0.776319</td>\n",
       "      <td>0.798695</td>\n",
       "      <td>0.900031</td>\n",
       "    </tr>\n",
       "    <tr>\n",
       "      <th>5</th>\n",
       "      <td>0.066075</td>\n",
       "      <td>0.360839</td>\n",
       "      <td>0.444317</td>\n",
       "      <td>0.595566</td>\n",
       "      <td>0.184019</td>\n",
       "      <td>0.386872</td>\n",
       "    </tr>\n",
       "    <tr>\n",
       "      <th>6</th>\n",
       "      <td>0.510598</td>\n",
       "      <td>0.841617</td>\n",
       "      <td>0.387564</td>\n",
       "      <td>0.400473</td>\n",
       "      <td>0.512701</td>\n",
       "      <td>0.228766</td>\n",
       "    </tr>\n",
       "  </tbody>\n",
       "</table>\n",
       "</div>"
      ],
      "text/plain": [
       "   column_1  column_2  column_3  column_4  column_5  column_6\n",
       "1  0.935314  0.282887  0.315886  0.006579  0.180752  0.952262\n",
       "2  0.677557  0.201009  0.943602  0.414147  0.948784  0.438550\n",
       "3  0.906558  0.131857  0.410813  0.722585  0.714309  0.468891\n",
       "4  0.519097  0.712193  0.058977  0.776319  0.798695  0.900031\n",
       "5  0.066075  0.360839  0.444317  0.595566  0.184019  0.386872\n",
       "6  0.510598  0.841617  0.387564  0.400473  0.512701  0.228766"
      ]
     },
     "execution_count": 21,
     "metadata": {},
     "output_type": "execute_result"
    }
   ],
   "source": [
    "df1"
   ]
  },
  {
   "cell_type": "code",
   "execution_count": 22,
   "id": "85f0e0f0",
   "metadata": {},
   "outputs": [
    {
     "data": {
      "text/html": [
       "<div>\n",
       "<style scoped>\n",
       "    .dataframe tbody tr th:only-of-type {\n",
       "        vertical-align: middle;\n",
       "    }\n",
       "\n",
       "    .dataframe tbody tr th {\n",
       "        vertical-align: top;\n",
       "    }\n",
       "\n",
       "    .dataframe thead th {\n",
       "        text-align: right;\n",
       "    }\n",
       "</style>\n",
       "<table border=\"1\" class=\"dataframe\">\n",
       "  <thead>\n",
       "    <tr style=\"text-align: right;\">\n",
       "      <th></th>\n",
       "      <th>column_1</th>\n",
       "      <th>column_2</th>\n",
       "      <th>column_3</th>\n",
       "      <th>column_4</th>\n",
       "      <th>column_5</th>\n",
       "      <th>column_6</th>\n",
       "    </tr>\n",
       "  </thead>\n",
       "  <tbody>\n",
       "    <tr>\n",
       "      <th>1</th>\n",
       "      <td>0.935314</td>\n",
       "      <td>0.282887</td>\n",
       "      <td>0.315886</td>\n",
       "      <td>0.006579</td>\n",
       "      <td>0.180752</td>\n",
       "      <td>0.952262</td>\n",
       "    </tr>\n",
       "    <tr>\n",
       "      <th>2</th>\n",
       "      <td>0.677557</td>\n",
       "      <td>abcd</td>\n",
       "      <td>0.943602</td>\n",
       "      <td>0.414147</td>\n",
       "      <td>0.948784</td>\n",
       "      <td>0.438550</td>\n",
       "    </tr>\n",
       "    <tr>\n",
       "      <th>3</th>\n",
       "      <td>0.906558</td>\n",
       "      <td>0.131857</td>\n",
       "      <td>0.410813</td>\n",
       "      <td>0.722585</td>\n",
       "      <td>0.714309</td>\n",
       "      <td>0.468891</td>\n",
       "    </tr>\n",
       "    <tr>\n",
       "      <th>4</th>\n",
       "      <td>0.519097</td>\n",
       "      <td>0.712193</td>\n",
       "      <td>0.058977</td>\n",
       "      <td>0.776319</td>\n",
       "      <td>0.798695</td>\n",
       "      <td>0.900031</td>\n",
       "    </tr>\n",
       "    <tr>\n",
       "      <th>5</th>\n",
       "      <td>0.066075</td>\n",
       "      <td>0.360839</td>\n",
       "      <td>0.444317</td>\n",
       "      <td>0.595566</td>\n",
       "      <td>0.184019</td>\n",
       "      <td>0.386872</td>\n",
       "    </tr>\n",
       "    <tr>\n",
       "      <th>6</th>\n",
       "      <td>0.510598</td>\n",
       "      <td>0.841617</td>\n",
       "      <td>0.387564</td>\n",
       "      <td>0.400473</td>\n",
       "      <td>0.512701</td>\n",
       "      <td>0.228766</td>\n",
       "    </tr>\n",
       "  </tbody>\n",
       "</table>\n",
       "</div>"
      ],
      "text/plain": [
       "   column_1  column_2  column_3  column_4  column_5  column_6\n",
       "1  0.935314  0.282887  0.315886  0.006579  0.180752  0.952262\n",
       "2  0.677557      abcd  0.943602  0.414147  0.948784  0.438550\n",
       "3  0.906558  0.131857  0.410813  0.722585  0.714309  0.468891\n",
       "4  0.519097  0.712193  0.058977  0.776319  0.798695  0.900031\n",
       "5  0.066075  0.360839  0.444317  0.595566  0.184019  0.386872\n",
       "6  0.510598  0.841617  0.387564  0.400473  0.512701  0.228766"
      ]
     },
     "execution_count": 22,
     "metadata": {},
     "output_type": "execute_result"
    }
   ],
   "source": [
    "df1.loc[2, 'column_2'] = \"abcd\"\n",
    "df1"
   ]
  },
  {
   "cell_type": "code",
   "execution_count": 23,
   "id": "7e7bee87",
   "metadata": {},
   "outputs": [
    {
     "name": "stdout",
     "output_type": "stream",
     "text": [
      "Error: unsupported operand type(s) for +: 'float' and 'str'\n",
      "Beacuse mean function expects all data to be in numerical\n"
     ]
    }
   ],
   "source": [
    "try:\n",
    "    df1['column_2'].mean()\n",
    "except:\n",
    "    print(\"Error: unsupported operand type(s) for +: 'float' and 'str'\")\n",
    "    print(\"Beacuse mean function expects all data to be in numerical\")"
   ]
  },
  {
   "cell_type": "code",
   "execution_count": null,
   "id": "bf537c17",
   "metadata": {},
   "outputs": [],
   "source": []
  },
  {
   "cell_type": "markdown",
   "id": "86cfe058",
   "metadata": {},
   "source": [
    "#### Q6. What do you understand about the windows function in pandas and list the types of windows functions? "
   ]
  },
  {
   "cell_type": "markdown",
   "id": "d78af4a7",
   "metadata": {},
   "source": [
    "In pandas, window functions are used for performing operations on a specified window of data in a DataFrame or Series. These functions are particularly useful for tasks such as rolling calculations, moving averages, and other operations that involve a sliding or expanding window of data points.\n",
    "\n",
    "The main types of window functions in pandas include:\n",
    "\n",
    "##### Rolling Windows:\n",
    "rolling function: Used for creating a rolling view of a DataFrame or Series. It enables the application of various rolling window operations like mean, sum, min, max, etc. The window size is specified, and the function is applied to each window as it moves through the data.\n",
    "\n",
    "Example:\n",
    "df['rolling_mean'] = df['column'].rolling(window=3).mean()\n",
    "\n",
    "##### Expanding Windows:\n",
    "\n",
    "expanding function: Used for creating an expanding view of a DataFrame or Series. It applies a function cumulatively to all data points up to the current point.\n",
    "\n",
    "Example:\n",
    "df['expanding_sum'] = df['column'].expanding().sum()\n",
    "\n",
    "##### Exponential Moving Windows:\n",
    "\n",
    "ewm (exponential weighted moving) function: Used for exponential moving averages. It assigns exponentially decreasing weights to older observations, giving more importance to recent data points.\n",
    "\n",
    "Example:\n",
    "df['ewma'] = df['column'].ewm(span=3).mean()\n",
    "\n",
    "##### Custom Window Functions:\n",
    "\n",
    "You can define custom window functions using the apply method and providing a custom function.\n",
    "\n",
    "Example:\n",
    "\n",
    "def custom_window_function(window):\n",
    "\n",
    "    # Custom logic for the window\n",
    "    return window.sum() / len(window)\n",
    "\n",
    "df['custom_window_result'] = df['column'].rolling(window=3).apply(custom_window_function)"
   ]
  },
  {
   "cell_type": "code",
   "execution_count": 24,
   "id": "c9502d65",
   "metadata": {},
   "outputs": [
    {
     "data": {
      "image/png": "[encoded data removed]",
      "text/plain": [
       "<Figure size 720x432 with 1 Axes>"
      ]
     },
     "metadata": {
      "needs_background": "light"
     },
     "output_type": "display_data"
    }
   ],
   "source": [
    "import pandas as pd\n",
    "import numpy as np\n",
    "import matplotlib.pyplot as plt\n",
    "\n",
    "# Creating a DataFrame with a 'value' column\n",
    "data = {'value': np.random.randn(20)}\n",
    "df = pd.DataFrame(data)\n",
    "\n",
    "# Rolling Window: Calculate the rolling mean and rolling sum\n",
    "df['rolling_mean'] = df['value'].rolling(window=3).mean()\n",
    "df['rolling_sum'] = df['value'].rolling(window=3).sum()\n",
    "\n",
    "# Expanding Window: Calculate the expanding mean and expanding sum\n",
    "df['expanding_mean'] = df['value'].expanding().mean()\n",
    "df['expanding_sum'] = df['value'].expanding().sum()\n",
    "\n",
    "# Exponential Moving Window: Calculate the exponential moving average\n",
    "df['ewma'] = df['value'].ewm(span=3).mean()\n",
    "\n",
    "# Custom Window Function: Calculate the custom moving average\n",
    "def custom_window_function(window):\n",
    "    return window.sum() / len(window)\n",
    "\n",
    "df['custom_window_result'] = df['value'].rolling(window=3).apply(custom_window_function)\n",
    "\n",
    "# Plotting the results\n",
    "plt.figure(figsize=(10, 6))\n",
    "plt.plot(df['value'], label='Original Data', marker='o')\n",
    "plt.plot(df['rolling_mean'], label='Rolling Mean (window=3)', linestyle='--')\n",
    "plt.plot(df['rolling_sum'], label='Rolling Sum (window=3)', linestyle='--')\n",
    "plt.plot(df['expanding_mean'], label='Expanding Mean', linestyle='--')\n",
    "plt.plot(df['expanding_sum'], label='Expanding Sum', linestyle='--')\n",
    "plt.plot(df['ewma'], label='Exponential Moving Average (span=3)', linestyle='--')\n",
    "plt.plot(df['custom_window_result'], label='Custom Window Result', linestyle='--')\n",
    "\n",
    "plt.title('Window Functions Example')\n",
    "plt.xlabel('Index')\n",
    "plt.ylabel('Value')\n",
    "plt.legend()\n",
    "plt.show()"
   ]
  },
  {
   "cell_type": "code",
   "execution_count": 25,
   "id": "773222c6",
   "metadata": {},
   "outputs": [
    {
     "data": {
      "text/html": [
       "<div>\n",
       "<style scoped>\n",
       "    .dataframe tbody tr th:only-of-type {\n",
       "        vertical-align: middle;\n",
       "    }\n",
       "\n",
       "    .dataframe tbody tr th {\n",
       "        vertical-align: top;\n",
       "    }\n",
       "\n",
       "    .dataframe thead th {\n",
       "        text-align: right;\n",
       "    }\n",
       "</style>\n",
       "<table border=\"1\" class=\"dataframe\">\n",
       "  <thead>\n",
       "    <tr style=\"text-align: right;\">\n",
       "      <th></th>\n",
       "      <th>value</th>\n",
       "      <th>rolling_mean</th>\n",
       "      <th>rolling_sum</th>\n",
       "      <th>expanding_mean</th>\n",
       "      <th>expanding_sum</th>\n",
       "      <th>ewma</th>\n",
       "      <th>custom_window_result</th>\n",
       "    </tr>\n",
       "  </thead>\n",
       "  <tbody>\n",
       "    <tr>\n",
       "      <th>0</th>\n",
       "      <td>-0.744418</td>\n",
       "      <td>NaN</td>\n",
       "      <td>NaN</td>\n",
       "      <td>-0.744418</td>\n",
       "      <td>-0.744418</td>\n",
       "      <td>-0.744418</td>\n",
       "      <td>NaN</td>\n",
       "    </tr>\n",
       "    <tr>\n",
       "      <th>1</th>\n",
       "      <td>0.972104</td>\n",
       "      <td>NaN</td>\n",
       "      <td>NaN</td>\n",
       "      <td>0.113843</td>\n",
       "      <td>0.227685</td>\n",
       "      <td>0.399930</td>\n",
       "      <td>NaN</td>\n",
       "    </tr>\n",
       "    <tr>\n",
       "      <th>2</th>\n",
       "      <td>0.050206</td>\n",
       "      <td>0.092631</td>\n",
       "      <td>0.277892</td>\n",
       "      <td>0.092631</td>\n",
       "      <td>0.277892</td>\n",
       "      <td>0.200088</td>\n",
       "      <td>0.092631</td>\n",
       "    </tr>\n",
       "    <tr>\n",
       "      <th>3</th>\n",
       "      <td>-1.321173</td>\n",
       "      <td>-0.099621</td>\n",
       "      <td>-0.298863</td>\n",
       "      <td>-0.260820</td>\n",
       "      <td>-1.043281</td>\n",
       "      <td>-0.611251</td>\n",
       "      <td>-0.099621</td>\n",
       "    </tr>\n",
       "    <tr>\n",
       "      <th>4</th>\n",
       "      <td>0.035495</td>\n",
       "      <td>-0.411824</td>\n",
       "      <td>-1.235472</td>\n",
       "      <td>-0.201557</td>\n",
       "      <td>-1.007786</td>\n",
       "      <td>-0.277447</td>\n",
       "      <td>-0.411824</td>\n",
       "    </tr>\n",
       "    <tr>\n",
       "      <th>5</th>\n",
       "      <td>-0.938632</td>\n",
       "      <td>-0.741436</td>\n",
       "      <td>-2.224309</td>\n",
       "      <td>-0.324403</td>\n",
       "      <td>-1.946418</td>\n",
       "      <td>-0.613287</td>\n",
       "      <td>-0.741436</td>\n",
       "    </tr>\n",
       "    <tr>\n",
       "      <th>6</th>\n",
       "      <td>-1.505949</td>\n",
       "      <td>-0.803028</td>\n",
       "      <td>-2.409085</td>\n",
       "      <td>-0.493195</td>\n",
       "      <td>-3.452367</td>\n",
       "      <td>-1.063132</td>\n",
       "      <td>-0.803028</td>\n",
       "    </tr>\n",
       "    <tr>\n",
       "      <th>7</th>\n",
       "      <td>-2.124568</td>\n",
       "      <td>-1.523049</td>\n",
       "      <td>-4.569148</td>\n",
       "      <td>-0.697117</td>\n",
       "      <td>-5.576934</td>\n",
       "      <td>-1.595931</td>\n",
       "      <td>-1.523049</td>\n",
       "    </tr>\n",
       "    <tr>\n",
       "      <th>8</th>\n",
       "      <td>-0.200938</td>\n",
       "      <td>-1.277152</td>\n",
       "      <td>-3.831455</td>\n",
       "      <td>-0.641986</td>\n",
       "      <td>-5.777872</td>\n",
       "      <td>-0.897070</td>\n",
       "      <td>-1.277152</td>\n",
       "    </tr>\n",
       "    <tr>\n",
       "      <th>9</th>\n",
       "      <td>-1.466304</td>\n",
       "      <td>-1.263936</td>\n",
       "      <td>-3.791809</td>\n",
       "      <td>-0.724418</td>\n",
       "      <td>-7.244176</td>\n",
       "      <td>-1.181965</td>\n",
       "      <td>-1.263936</td>\n",
       "    </tr>\n",
       "    <tr>\n",
       "      <th>10</th>\n",
       "      <td>-0.127234</td>\n",
       "      <td>-0.598158</td>\n",
       "      <td>-1.794475</td>\n",
       "      <td>-0.670128</td>\n",
       "      <td>-7.371410</td>\n",
       "      <td>-0.654342</td>\n",
       "      <td>-0.598158</td>\n",
       "    </tr>\n",
       "    <tr>\n",
       "      <th>11</th>\n",
       "      <td>0.835828</td>\n",
       "      <td>-0.252570</td>\n",
       "      <td>-0.757710</td>\n",
       "      <td>-0.544632</td>\n",
       "      <td>-6.535582</td>\n",
       "      <td>0.090925</td>\n",
       "      <td>-0.252570</td>\n",
       "    </tr>\n",
       "    <tr>\n",
       "      <th>12</th>\n",
       "      <td>1.338183</td>\n",
       "      <td>0.682259</td>\n",
       "      <td>2.046777</td>\n",
       "      <td>-0.399800</td>\n",
       "      <td>-5.197399</td>\n",
       "      <td>0.714630</td>\n",
       "      <td>0.682259</td>\n",
       "    </tr>\n",
       "    <tr>\n",
       "      <th>13</th>\n",
       "      <td>0.507418</td>\n",
       "      <td>0.893810</td>\n",
       "      <td>2.681429</td>\n",
       "      <td>-0.334999</td>\n",
       "      <td>-4.689981</td>\n",
       "      <td>0.611018</td>\n",
       "      <td>0.893810</td>\n",
       "    </tr>\n",
       "    <tr>\n",
       "      <th>14</th>\n",
       "      <td>-0.119769</td>\n",
       "      <td>0.575277</td>\n",
       "      <td>1.725832</td>\n",
       "      <td>-0.320650</td>\n",
       "      <td>-4.809750</td>\n",
       "      <td>0.245613</td>\n",
       "      <td>0.575277</td>\n",
       "    </tr>\n",
       "    <tr>\n",
       "      <th>15</th>\n",
       "      <td>-0.247787</td>\n",
       "      <td>0.046621</td>\n",
       "      <td>0.139862</td>\n",
       "      <td>-0.316096</td>\n",
       "      <td>-5.057537</td>\n",
       "      <td>-0.001091</td>\n",
       "      <td>0.046621</td>\n",
       "    </tr>\n",
       "    <tr>\n",
       "      <th>16</th>\n",
       "      <td>-1.147433</td>\n",
       "      <td>-0.504996</td>\n",
       "      <td>-1.514989</td>\n",
       "      <td>-0.364998</td>\n",
       "      <td>-6.204970</td>\n",
       "      <td>-0.574266</td>\n",
       "      <td>-0.504996</td>\n",
       "    </tr>\n",
       "    <tr>\n",
       "      <th>17</th>\n",
       "      <td>0.500104</td>\n",
       "      <td>-0.298372</td>\n",
       "      <td>-0.895116</td>\n",
       "      <td>-0.316937</td>\n",
       "      <td>-5.704866</td>\n",
       "      <td>-0.037079</td>\n",
       "      <td>-0.298372</td>\n",
       "    </tr>\n",
       "    <tr>\n",
       "      <th>18</th>\n",
       "      <td>1.319083</td>\n",
       "      <td>0.223918</td>\n",
       "      <td>0.671754</td>\n",
       "      <td>-0.230831</td>\n",
       "      <td>-4.385783</td>\n",
       "      <td>0.641003</td>\n",
       "      <td>0.223918</td>\n",
       "    </tr>\n",
       "    <tr>\n",
       "      <th>19</th>\n",
       "      <td>-0.519568</td>\n",
       "      <td>0.433206</td>\n",
       "      <td>1.299619</td>\n",
       "      <td>-0.245268</td>\n",
       "      <td>-4.905351</td>\n",
       "      <td>0.060717</td>\n",
       "      <td>0.433206</td>\n",
       "    </tr>\n",
       "  </tbody>\n",
       "</table>\n",
       "</div>"
      ],
      "text/plain": [
       "       value  rolling_mean  rolling_sum  expanding_mean  expanding_sum  \\\n",
       "0  -0.744418           NaN          NaN       -0.744418      -0.744418   \n",
       "1   0.972104           NaN          NaN        0.113843       0.227685   \n",
       "2   0.050206      0.092631     0.277892        0.092631       0.277892   \n",
       "3  -1.321173     -0.099621    -0.298863       -0.260820      -1.043281   \n",
       "4   0.035495     -0.411824    -1.235472       -0.201557      -1.007786   \n",
       "5  -0.938632     -0.741436    -2.224309       -0.324403      -1.946418   \n",
       "6  -1.505949     -0.803028    -2.409085       -0.493195      -3.452367   \n",
       "7  -2.124568     -1.523049    -4.569148       -0.697117      -5.576934   \n",
       "8  -0.200938     -1.277152    -3.831455       -0.641986      -5.777872   \n",
       "9  -1.466304     -1.263936    -3.791809       -0.724418      -7.244176   \n",
       "10 -0.127234     -0.598158    -1.794475       -0.670128      -7.371410   \n",
       "11  0.835828     -0.252570    -0.757710       -0.544632      -6.535582   \n",
       "12  1.338183      0.682259     2.046777       -0.399800      -5.197399   \n",
       "13  0.507418      0.893810     2.681429       -0.334999      -4.689981   \n",
       "14 -0.119769      0.575277     1.725832       -0.320650      -4.809750   \n",
       "15 -0.247787      0.046621     0.139862       -0.316096      -5.057537   \n",
       "16 -1.147433     -0.504996    -1.514989       -0.364998      -6.204970   \n",
       "17  0.500104     -0.298372    -0.895116       -0.316937      -5.704866   \n",
       "18  1.319083      0.223918     0.671754       -0.230831      -4.385783   \n",
       "19 -0.519568      0.433206     1.299619       -0.245268      -4.905351   \n",
       "\n",
       "        ewma  custom_window_result  \n",
       "0  -0.744418                   NaN  \n",
       "1   0.399930                   NaN  \n",
       "2   0.200088              0.092631  \n",
       "3  -0.611251             -0.099621  \n",
       "4  -0.277447             -0.411824  \n",
       "5  -0.613287             -0.741436  \n",
       "6  -1.063132             -0.803028  \n",
       "7  -1.595931             -1.523049  \n",
       "8  -0.897070             -1.277152  \n",
       "9  -1.181965             -1.263936  \n",
       "10 -0.654342             -0.598158  \n",
       "11  0.090925             -0.252570  \n",
       "12  0.714630              0.682259  \n",
       "13  0.611018              0.893810  \n",
       "14  0.245613              0.575277  \n",
       "15 -0.001091              0.046621  \n",
       "16 -0.574266             -0.504996  \n",
       "17 -0.037079             -0.298372  \n",
       "18  0.641003              0.223918  \n",
       "19  0.060717              0.433206  "
      ]
     },
     "execution_count": 25,
     "metadata": {},
     "output_type": "execute_result"
    }
   ],
   "source": [
    "df"
   ]
  },
  {
   "cell_type": "code",
   "execution_count": null,
   "id": "47f7bf62",
   "metadata": {},
   "outputs": [],
   "source": []
  },
  {
   "cell_type": "markdown",
   "id": "011bf6cb",
   "metadata": {},
   "source": [
    "#### Q7. Write a code to print only the current month and year at the time of answering this question.\n",
    "[Hint: Use pandas.datetime function]"
   ]
  },
  {
   "cell_type": "code",
   "execution_count": 26,
   "id": "eda9c6a3",
   "metadata": {},
   "outputs": [
    {
     "data": {
      "text/html": [
       "<div>\n",
       "<style scoped>\n",
       "    .dataframe tbody tr th:only-of-type {\n",
       "        vertical-align: middle;\n",
       "    }\n",
       "\n",
       "    .dataframe tbody tr th {\n",
       "        vertical-align: top;\n",
       "    }\n",
       "\n",
       "    .dataframe thead th {\n",
       "        text-align: right;\n",
       "    }\n",
       "</style>\n",
       "<table border=\"1\" class=\"dataframe\">\n",
       "  <thead>\n",
       "    <tr style=\"text-align: right;\">\n",
       "      <th></th>\n",
       "      <th>date_column</th>\n",
       "      <th>month</th>\n",
       "      <th>year</th>\n",
       "    </tr>\n",
       "  </thead>\n",
       "  <tbody>\n",
       "    <tr>\n",
       "      <th>0</th>\n",
       "      <td>2024-03-02 12:55:31.273543</td>\n",
       "      <td>3</td>\n",
       "      <td>2024</td>\n",
       "    </tr>\n",
       "  </tbody>\n",
       "</table>\n",
       "</div>"
      ],
      "text/plain": [
       "                 date_column  month  year\n",
       "0 2024-03-02 12:55:31.273543      3  2024"
      ]
     },
     "execution_count": 26,
     "metadata": {},
     "output_type": "execute_result"
    }
   ],
   "source": [
    "import pandas as pd\n",
    "from datetime import datetime\n",
    "\n",
    "# Get the current date and time\n",
    "current_date_time = datetime.now()\n",
    "\n",
    "# Convert to pandas datetime\n",
    "data = {'date_column': pd.to_datetime([current_date_time])}\n",
    "\n",
    "df = pd.DataFrame(data)\n",
    "df['month'] = df['date_column'].dt.month\n",
    "df['year'] = df['date_column'].dt.year\n",
    "df"
   ]
  },
  {
   "cell_type": "code",
   "execution_count": null,
   "id": "7849cf28",
   "metadata": {},
   "outputs": [],
   "source": []
  },
  {
   "cell_type": "markdown",
   "id": "7fa9cf89",
   "metadata": {},
   "source": [
    "#### Q9. Write a Python program that reads a CSV file containing categorical data and converts a specified column to a categorical data type. The program should prompt the user to enter the file path, column name, and category order, and then display the sorted data."
   ]
  },
  {
   "cell_type": "code",
   "execution_count": 27,
   "id": "19729c33",
   "metadata": {},
   "outputs": [
    {
     "data": {
      "text/html": [
       "<div>\n",
       "<style scoped>\n",
       "    .dataframe tbody tr th:only-of-type {\n",
       "        vertical-align: middle;\n",
       "    }\n",
       "\n",
       "    .dataframe tbody tr th {\n",
       "        vertical-align: top;\n",
       "    }\n",
       "\n",
       "    .dataframe thead th {\n",
       "        text-align: right;\n",
       "    }\n",
       "</style>\n",
       "<table border=\"1\" class=\"dataframe\">\n",
       "  <thead>\n",
       "    <tr style=\"text-align: right;\">\n",
       "      <th></th>\n",
       "      <th>Name</th>\n",
       "      <th>Category</th>\n",
       "      <th>Value</th>\n",
       "    </tr>\n",
       "  </thead>\n",
       "  <tbody>\n",
       "    <tr>\n",
       "      <th>0</th>\n",
       "      <td>ALice</td>\n",
       "      <td>Low</td>\n",
       "      <td>20</td>\n",
       "    </tr>\n",
       "    <tr>\n",
       "      <th>1</th>\n",
       "      <td>Bob</td>\n",
       "      <td>High</td>\n",
       "      <td>30</td>\n",
       "    </tr>\n",
       "    <tr>\n",
       "      <th>2</th>\n",
       "      <td>Claire</td>\n",
       "      <td>Medium</td>\n",
       "      <td>25</td>\n",
       "    </tr>\n",
       "    <tr>\n",
       "      <th>3</th>\n",
       "      <td>David</td>\n",
       "      <td>Low</td>\n",
       "      <td>15</td>\n",
       "    </tr>\n",
       "    <tr>\n",
       "      <th>4</th>\n",
       "      <td>Emma</td>\n",
       "      <td>High</td>\n",
       "      <td>35</td>\n",
       "    </tr>\n",
       "  </tbody>\n",
       "</table>\n",
       "</div>"
      ],
      "text/plain": [
       "     Name Category  Value\n",
       "0   ALice      Low     20\n",
       "1     Bob     High     30\n",
       "2  Claire   Medium     25\n",
       "3   David      Low     15\n",
       "4    Emma     High     35"
      ]
     },
     "execution_count": 27,
     "metadata": {},
     "output_type": "execute_result"
    }
   ],
   "source": [
    "import pandas as pd\n",
    "data = { \n",
    "    'Name' : ['ALice', 'Bob', 'Claire', 'David', 'Emma'],\n",
    "    'Category' : ['Low', 'High', 'Medium', 'Low', 'High'],\n",
    "    'Value' : [20, 30, 25, 15, 35]\n",
    "}\n",
    "\n",
    "df = pd.DataFrame(data);\n",
    "df.to_csv('example.csv')\n",
    "df"
   ]
  },
  {
   "cell_type": "code",
   "execution_count": 28,
   "id": "675b532e",
   "metadata": {},
   "outputs": [
    {
     "name": "stdout",
     "output_type": "stream",
     "text": [
      "Enter the CSV file path: example.csv\n",
      "Enter the column name to convert: Category\n",
      "Enter the category order (comma-separated): Low,Medium,High\n",
      "\n",
      "Sorted Data:\n",
      "   Unnamed: 0    Name Category  Value\n",
      "0           0   ALice      Low     20\n",
      "3           3   David      Low     15\n",
      "2           2  Claire   Medium     25\n",
      "1           1     Bob     High     30\n",
      "4           4    Emma     High     35\n"
     ]
    }
   ],
   "source": [
    "import pandas as pd\n",
    "\n",
    "# Function to convert specified column to categorical and display sorted data\n",
    "def convert_and_display_categorical(file_path, column_name, category_order):\n",
    "    # Read the CSV file into a DataFrame\n",
    "    df = pd.read_csv(file_path)\n",
    "\n",
    "    # Convert the specified column to categorical with specified category order\n",
    "    df[column_name] = pd.Categorical(df[column_name], categories=category_order, ordered=True)\n",
    "   \n",
    "    # Display the sorted data\n",
    "    sorted_data = df.sort_values(by=column_name)\n",
    "    print(\"\\nSorted Data:\")\n",
    "    print(sorted_data)\n",
    "\n",
    "# Get user input for file path, column name, and category order\n",
    "file_path_input = input(\"Enter the CSV file path: \")\n",
    "column_name_input = input(\"Enter the column name to convert: \")\n",
    "category_order_input = input(\"Enter the category order (comma-separated): \").split(',')\n",
    "\n",
    "# Call the function to convert and display categorical data\n",
    "convert_and_display_categorical(file_path_input, column_name_input, category_order_input)"
   ]
  },
  {
   "cell_type": "code",
   "execution_count": null,
   "id": "d74a6392",
   "metadata": {},
   "outputs": [],
   "source": []
  },
  {
   "cell_type": "markdown",
   "id": "8c2fad2d",
   "metadata": {},
   "source": [
    "#### Q10. Write a Python program that reads a CSV file containing sales data for different products and visualizes the data using a stacked bar chart to show the sales of each product category over time. The program should prompt the user to enter the file path and display the chart."
   ]
  },
  {
   "cell_type": "code",
   "execution_count": 29,
   "id": "74810e57",
   "metadata": {},
   "outputs": [
    {
     "data": {
      "text/html": [
       "<div>\n",
       "<style scoped>\n",
       "    .dataframe tbody tr th:only-of-type {\n",
       "        vertical-align: middle;\n",
       "    }\n",
       "\n",
       "    .dataframe tbody tr th {\n",
       "        vertical-align: top;\n",
       "    }\n",
       "\n",
       "    .dataframe thead th {\n",
       "        text-align: right;\n",
       "    }\n",
       "</style>\n",
       "<table border=\"1\" class=\"dataframe\">\n",
       "  <thead>\n",
       "    <tr style=\"text-align: right;\">\n",
       "      <th></th>\n",
       "      <th>Date</th>\n",
       "      <th>Category</th>\n",
       "      <th>Sales</th>\n",
       "    </tr>\n",
       "  </thead>\n",
       "  <tbody>\n",
       "    <tr>\n",
       "      <th>0</th>\n",
       "      <td>2022-01-01</td>\n",
       "      <td>A</td>\n",
       "      <td>50</td>\n",
       "    </tr>\n",
       "    <tr>\n",
       "      <th>1</th>\n",
       "      <td>2022-01-01</td>\n",
       "      <td>B</td>\n",
       "      <td>30</td>\n",
       "    </tr>\n",
       "    <tr>\n",
       "      <th>2</th>\n",
       "      <td>2022-01-02</td>\n",
       "      <td>A</td>\n",
       "      <td>40</td>\n",
       "    </tr>\n",
       "    <tr>\n",
       "      <th>3</th>\n",
       "      <td>2022-01-02</td>\n",
       "      <td>B</td>\n",
       "      <td>25</td>\n",
       "    </tr>\n",
       "    <tr>\n",
       "      <th>4</th>\n",
       "      <td>2022-01-03</td>\n",
       "      <td>A</td>\n",
       "      <td>60</td>\n",
       "    </tr>\n",
       "    <tr>\n",
       "      <th>5</th>\n",
       "      <td>2022-01-03</td>\n",
       "      <td>B</td>\n",
       "      <td>35</td>\n",
       "    </tr>\n",
       "  </tbody>\n",
       "</table>\n",
       "</div>"
      ],
      "text/plain": [
       "         Date Category  Sales\n",
       "0  2022-01-01        A     50\n",
       "1  2022-01-01        B     30\n",
       "2  2022-01-02        A     40\n",
       "3  2022-01-02        B     25\n",
       "4  2022-01-03        A     60\n",
       "5  2022-01-03        B     35"
      ]
     },
     "execution_count": 29,
     "metadata": {},
     "output_type": "execute_result"
    }
   ],
   "source": [
    "import pandas as pd\n",
    "\n",
    "data = {\n",
    "    'Date': ['2022-01-01', '2022-01-01', '2022-01-02', '2022-01-02', '2022-01-03', '2022-01-03'],\n",
    "    'Category': ['A', 'B', 'A', 'B', 'A', 'B'],\n",
    "    'Sales': [50, 30, 40, 25, 60, 35]\n",
    "}\n",
    "\n",
    "df = pd.DataFrame(data)\n",
    "df.to_csv('sales.csv')\n",
    "df"
   ]
  },
  {
   "cell_type": "code",
   "execution_count": 30,
   "id": "2f256a40",
   "metadata": {},
   "outputs": [
    {
     "data": {
      "text/html": [
       "<div>\n",
       "<style scoped>\n",
       "    .dataframe tbody tr th:only-of-type {\n",
       "        vertical-align: middle;\n",
       "    }\n",
       "\n",
       "    .dataframe tbody tr th {\n",
       "        vertical-align: top;\n",
       "    }\n",
       "\n",
       "    .dataframe thead th {\n",
       "        text-align: right;\n",
       "    }\n",
       "</style>\n",
       "<table border=\"1\" class=\"dataframe\">\n",
       "  <thead>\n",
       "    <tr style=\"text-align: right;\">\n",
       "      <th>Category</th>\n",
       "      <th>A</th>\n",
       "      <th>B</th>\n",
       "    </tr>\n",
       "    <tr>\n",
       "      <th>Date</th>\n",
       "      <th></th>\n",
       "      <th></th>\n",
       "    </tr>\n",
       "  </thead>\n",
       "  <tbody>\n",
       "    <tr>\n",
       "      <th>2022-01-01</th>\n",
       "      <td>50</td>\n",
       "      <td>30</td>\n",
       "    </tr>\n",
       "    <tr>\n",
       "      <th>2022-01-02</th>\n",
       "      <td>40</td>\n",
       "      <td>25</td>\n",
       "    </tr>\n",
       "    <tr>\n",
       "      <th>2022-01-03</th>\n",
       "      <td>60</td>\n",
       "      <td>35</td>\n",
       "    </tr>\n",
       "  </tbody>\n",
       "</table>\n",
       "</div>"
      ],
      "text/plain": [
       "Category     A   B\n",
       "Date              \n",
       "2022-01-01  50  30\n",
       "2022-01-02  40  25\n",
       "2022-01-03  60  35"
      ]
     },
     "execution_count": 30,
     "metadata": {},
     "output_type": "execute_result"
    }
   ],
   "source": [
    "pivoted_data = df.pivot(index='Date', columns='Category', values='Sales')\n",
    "pivoted_data"
   ]
  },
  {
   "cell_type": "code",
   "execution_count": 31,
   "id": "5e78c4ae",
   "metadata": {},
   "outputs": [
    {
     "name": "stdout",
     "output_type": "stream",
     "text": [
      "Enter the CSV file path: sales.csv\n"
     ]
    },
    {
     "data": {
      "image/png": "[encoded data removed]",
      "text/plain": [
       "<Figure size 720x432 with 1 Axes>"
      ]
     },
     "metadata": {
      "needs_background": "light"
     },
     "output_type": "display_data"
    }
   ],
   "source": [
    "import pandas as pd\n",
    "\n",
    "# Function to visualize sales data using a stacked bar chart with pandas plotting\n",
    "def visualize_sales(file_path):\n",
    "    # Read the CSV file into a DataFrame\n",
    "    df = pd.read_csv(file_path)\n",
    "\n",
    "    # Convert the 'Date' column to datetime\n",
    "    df['Date'] = pd.to_datetime(df['Date'])\n",
    "\n",
    "    # Pivot the DataFrame to get 'Category' as columns, 'Date' as index, and 'Sales' as values\n",
    "    pivoted_data = df.pivot(index='Date', columns='Category', values='Sales')\n",
    "\n",
    "    # Plotting a stacked bar chart using pandas plotting\n",
    "    ax = pivoted_data.plot(kind='bar', stacked=True, figsize=(10, 6))\n",
    "\n",
    "    # Set labels and title\n",
    "    ax.set_xlabel('Date')\n",
    "    ax.set_ylabel('Sales')\n",
    "    ax.set_title('Stacked Bar Chart of Sales by Category Over Time')\n",
    "\n",
    "    # Display the legend\n",
    "    ax.legend(title='Category', loc='upper left')\n",
    "\n",
    "# Get user input for the CSV file path\n",
    "file_path_input = input(\"Enter the CSV file path: \")\n",
    "\n",
    "# Call the function to visualize sales data\n",
    "visualize_sales(file_path_input)"
   ]
  },
  {
   "cell_type": "code",
   "execution_count": null,
   "id": "8880cf79",
   "metadata": {},
   "outputs": [],
   "source": []
  },
  {
   "cell_type": "code",
   "execution_count": null,
   "id": "c7bc2ead",
   "metadata": {},
   "outputs": [],
   "source": []
  },
  {
   "cell_type": "code",
   "execution_count": 32,
   "id": "2570ad74",
   "metadata": {},
   "outputs": [
    {
     "data": {
      "text/html": [
       "<div>\n",
       "<style scoped>\n",
       "    .dataframe tbody tr th:only-of-type {\n",
       "        vertical-align: middle;\n",
       "    }\n",
       "\n",
       "    .dataframe tbody tr th {\n",
       "        vertical-align: top;\n",
       "    }\n",
       "\n",
       "    .dataframe thead th {\n",
       "        text-align: right;\n",
       "    }\n",
       "</style>\n",
       "<table border=\"1\" class=\"dataframe\">\n",
       "  <thead>\n",
       "    <tr style=\"text-align: right;\">\n",
       "      <th></th>\n",
       "      <th>Student ID</th>\n",
       "      <th>Test Score</th>\n",
       "    </tr>\n",
       "  </thead>\n",
       "  <tbody>\n",
       "    <tr>\n",
       "      <th>0</th>\n",
       "      <td>1</td>\n",
       "      <td>85</td>\n",
       "    </tr>\n",
       "    <tr>\n",
       "      <th>1</th>\n",
       "      <td>2</td>\n",
       "      <td>90</td>\n",
       "    </tr>\n",
       "    <tr>\n",
       "      <th>2</th>\n",
       "      <td>3</td>\n",
       "      <td>80</td>\n",
       "    </tr>\n",
       "    <tr>\n",
       "      <th>3</th>\n",
       "      <td>4</td>\n",
       "      <td>75</td>\n",
       "    </tr>\n",
       "    <tr>\n",
       "      <th>4</th>\n",
       "      <td>5</td>\n",
       "      <td>85</td>\n",
       "    </tr>\n",
       "    <tr>\n",
       "      <th>5</th>\n",
       "      <td>6</td>\n",
       "      <td>82</td>\n",
       "    </tr>\n",
       "    <tr>\n",
       "      <th>6</th>\n",
       "      <td>7</td>\n",
       "      <td>78</td>\n",
       "    </tr>\n",
       "    <tr>\n",
       "      <th>7</th>\n",
       "      <td>8</td>\n",
       "      <td>85</td>\n",
       "    </tr>\n",
       "    <tr>\n",
       "      <th>8</th>\n",
       "      <td>9</td>\n",
       "      <td>90</td>\n",
       "    </tr>\n",
       "    <tr>\n",
       "      <th>9</th>\n",
       "      <td>10</td>\n",
       "      <td>85</td>\n",
       "    </tr>\n",
       "  </tbody>\n",
       "</table>\n",
       "</div>"
      ],
      "text/plain": [
       "   Student ID  Test Score\n",
       "0           1          85\n",
       "1           2          90\n",
       "2           3          80\n",
       "3           4          75\n",
       "4           5          85\n",
       "5           6          82\n",
       "6           7          78\n",
       "7           8          85\n",
       "8           9          90\n",
       "9          10          85"
      ]
     },
     "execution_count": 32,
     "metadata": {},
     "output_type": "execute_result"
    }
   ],
   "source": [
    "import pandas as pd\n",
    "\n",
    "data = {\n",
    "    'Student ID': [1, 2, 3, 4, 5, 6, 7, 8, 9, 10],\n",
    "    'Test Score': [85, 90, 80, 75, 85, 82, 78, 85, 90, 85]\n",
    "}\n",
    "\n",
    "df = pd.DataFrame(data)\n",
    "df.to_csv('students.csv')\n",
    "df"
   ]
  },
  {
   "cell_type": "code",
   "execution_count": 33,
   "id": "0f4f1422",
   "metadata": {},
   "outputs": [
    {
     "data": {
      "text/plain": [
       "0    85\n",
       "dtype: int64"
      ]
     },
     "execution_count": 33,
     "metadata": {},
     "output_type": "execute_result"
    }
   ],
   "source": [
    "mode_score = df['Test Score'].mode()\n",
    "mode_score"
   ]
  },
  {
   "cell_type": "code",
   "execution_count": 34,
   "id": "aeaba33c",
   "metadata": {},
   "outputs": [
    {
     "name": "stdout",
     "output_type": "stream",
     "text": [
      "Enter the CSV file path containing student data: students.csv\n",
      "\n",
      "Results:\n"
     ]
    },
    {
     "data": {
      "text/html": [
       "<div>\n",
       "<style scoped>\n",
       "    .dataframe tbody tr th:only-of-type {\n",
       "        vertical-align: middle;\n",
       "    }\n",
       "\n",
       "    .dataframe tbody tr th {\n",
       "        vertical-align: top;\n",
       "    }\n",
       "\n",
       "    .dataframe thead th {\n",
       "        text-align: right;\n",
       "    }\n",
       "</style>\n",
       "<table border=\"1\" class=\"dataframe\">\n",
       "  <thead>\n",
       "    <tr style=\"text-align: right;\">\n",
       "      <th></th>\n",
       "      <th>Metric</th>\n",
       "      <th>Score</th>\n",
       "    </tr>\n",
       "  </thead>\n",
       "  <tbody>\n",
       "    <tr>\n",
       "      <th>0</th>\n",
       "      <td>Mean</td>\n",
       "      <td>83.5</td>\n",
       "    </tr>\n",
       "    <tr>\n",
       "      <th>1</th>\n",
       "      <td>Median</td>\n",
       "      <td>85.0</td>\n",
       "    </tr>\n",
       "    <tr>\n",
       "      <th>2</th>\n",
       "      <td>Mode</td>\n",
       "      <td>85.0</td>\n",
       "    </tr>\n",
       "  </tbody>\n",
       "</table>\n",
       "</div>"
      ],
      "text/plain": [
       "   Metric  Score\n",
       "0    Mean   83.5\n",
       "1  Median   85.0\n",
       "2    Mode   85.0"
      ]
     },
     "execution_count": 34,
     "metadata": {},
     "output_type": "execute_result"
    }
   ],
   "source": [
    "import pandas as pd\n",
    "\n",
    "# Prompt the user to enter the file path\n",
    "file_path = input(\"Enter the CSV file path containing student data: \")\n",
    "\n",
    "# Read the CSV file into a Pandas DataFrame\n",
    "try:\n",
    "    df = pd.read_csv(file_path)\n",
    "except FileNotFoundError:\n",
    "    print(\"File not found. Please provide a valid file path.\")\n",
    "    exit()\n",
    "\n",
    "# Calculate the mean, median, and mode of the test scores\n",
    "mean_score = df['Test Score'].mean()\n",
    "median_score = df['Test Score'].median()\n",
    "mode_score = df['Test Score'].mode()\n",
    "\n",
    "# Create a DataFrame to display the results\n",
    "results_df = pd.DataFrame({\n",
    "    'Metric': ['Mean', 'Median', 'Mode'],\n",
    "    'Score': [mean_score, median_score, mode_score.iloc[0] if not mode_score.empty else None]\n",
    "})\n",
    "\n",
    "# Display the results table\n",
    "print(\"\\nResults:\")\n",
    "results_df"
   ]
  },
  {
   "cell_type": "code",
   "execution_count": null,
   "id": "a0b924c3",
   "metadata": {},
   "outputs": [],
   "source": []
  }
 ],
 "metadata": {
  "kernelspec": {
   "display_name": "Python 3 (ipykernel)",
   "language": "python",
   "name": "python3"
  },
  "language_info": {
   "codemirror_mode": {
    "name": "ipython",
    "version": 3
   },
   "file_extension": ".py",
   "mimetype": "text/x-python",
   "name": "python",
   "nbconvert_exporter": "python",
   "pygments_lexer": "ipython3",
   "version": "3.9.7"
  }
 },
 "nbformat": 4,
 "nbformat_minor": 5
}
