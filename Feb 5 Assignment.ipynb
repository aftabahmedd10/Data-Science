{
 "cells": [
  {
   "cell_type": "code",
   "execution_count": null,
   "id": "8b443fc0",
   "metadata": {},
   "outputs": [],
   "source": []
  },
  {
   "cell_type": "markdown",
   "id": "77349e85",
   "metadata": {},
   "source": [
    "## Feb 5 Assignment "
   ]
  },
  {
   "cell_type": "code",
   "execution_count": null,
   "id": "a07bce76",
   "metadata": {},
   "outputs": [],
   "source": []
  },
  {
   "cell_type": "markdown",
   "id": "101bf69a",
   "metadata": {},
   "source": [
    "###### Q1. Explain Class and Object with respect to Object-Oriented Programming. Give a suitable example."
   ]
  },
  {
   "cell_type": "markdown",
   "id": "544725d2",
   "metadata": {},
   "source": [
    "A class is a blueprint for creating objects (a particular data structure), providing initial values for state (member variables or attributes), and implementations of behavior (member functions or methods). A class defines a type of object, describing what data can be stored in the object and what methods can be called on it.\n",
    "\n",
    "An object is an instance of a class. An object has a state and behavior that is defined by its class. The state is represented by its attributes (member variables) and the behavior is represented by its methods. Each object created from a class has its own separate copy of the data, and operates independently of any other object created from the same class."
   ]
  },
  {
   "cell_type": "code",
   "execution_count": 1,
   "id": "d0917cca",
   "metadata": {},
   "outputs": [
    {
     "name": "stdout",
     "output_type": "stream",
     "text": [
      "Aftab Ahmed Data Science 8 Months\n"
     ]
    }
   ],
   "source": [
    "class Learning:\n",
    "    def __init__(self, name, course, duration):\n",
    "        self.name = name\n",
    "        self.course = course\n",
    "        self.duration = duration\n",
    "    def display(self):\n",
    "        print(self.name, self.course, self.duration)\n",
    "        \n",
    "student1 = Learning('Aftab Ahmed', 'Data Science', '8 Months')\n",
    "student1.display()"
   ]
  },
  {
   "cell_type": "code",
   "execution_count": null,
   "id": "6e76325f",
   "metadata": {},
   "outputs": [],
   "source": []
  },
  {
   "cell_type": "markdown",
   "id": "e7f751ff",
   "metadata": {},
   "source": [
    "###### Q2. Name the four pillars of OOPs."
   ]
  },
  {
   "cell_type": "markdown",
   "id": "1a1d7c0a",
   "metadata": {},
   "source": [
    "The four pillars of Object-Oriented Programming (OOP) are:\n",
    "\n",
    "Encapsulation: The ability to bind data and the methods that operate on that data within a single unit or object.\n",
    "\n",
    "Abstraction: The process of hiding the implementation details of an object and exposing only the relevant information to the users.\n",
    "\n",
    "Inheritance: The ability of an object to inherit properties and behavior from a parent object.\n",
    "\n",
    "Polymorphism: The ability of objects to take on multiple forms or exhibit different behavior in different scenarios."
   ]
  },
  {
   "cell_type": "code",
   "execution_count": null,
   "id": "3928f6c5",
   "metadata": {},
   "outputs": [],
   "source": []
  },
  {
   "cell_type": "markdown",
   "id": "3d030ffd",
   "metadata": {},
   "source": [
    "###### Q3. Explain why the __ init __ ()  function is used. Give a suitable example."
   ]
  },
  {
   "cell_type": "markdown",
   "id": "76132288",
   "metadata": {},
   "source": [
    "The __ init __ () function is used as a constructor method for a class. This function is called automatically when a new object of the class is created. The __init__() function is used to initialize the attributes of the class, and it allows you to set default values, or perform any other required setup for instances of the class."
   ]
  },
  {
   "cell_type": "code",
   "execution_count": 2,
   "id": "c6a74ce6",
   "metadata": {},
   "outputs": [
    {
     "name": "stdout",
     "output_type": "stream",
     "text": [
      "Ahmed 21 DS\n"
     ]
    }
   ],
   "source": [
    "class Student:\n",
    "    def __init__(self, name, age, course):\n",
    "        self.name = name\n",
    "        self.age = age\n",
    "        self.course = course\n",
    "    def display(self):\n",
    "        print(self.name, self.age, self.course)\n",
    "\n",
    "student1 = Student('Ahmed', 21, 'DS')\n",
    "student1.display()"
   ]
  },
  {
   "cell_type": "code",
   "execution_count": null,
   "id": "fb76ad88",
   "metadata": {},
   "outputs": [],
   "source": []
  },
  {
   "cell_type": "markdown",
   "id": "de736002",
   "metadata": {},
   "source": [
    "###### Q4. Why self is used in OOPs?"
   ]
  },
  {
   "cell_type": "markdown",
   "id": "c02bdda0",
   "metadata": {},
   "source": [
    "self keyword is used as a reference to the instance of the object it belongs to. It is used to access the attributes and methods of the class from within the class. The self keyword is a convention, but it's widely used and it is recommended to follow the convention for better readability and maintainability of the code."
   ]
  },
  {
   "cell_type": "code",
   "execution_count": null,
   "id": "bfee42fb",
   "metadata": {},
   "outputs": [],
   "source": []
  },
  {
   "cell_type": "markdown",
   "id": "f7b4cff4",
   "metadata": {},
   "source": [
    "###### Q5. What is inheritance? Give an example for each type of inheritance."
   ]
  },
  {
   "cell_type": "markdown",
   "id": "22dc3765",
   "metadata": {},
   "source": [
    "Inheritance is a mechanism in Object-Oriented Programming (OOP) where a class can inherit attributes and behaviors from a parent class, called a superclass. It provides a way to reuse code and promotes the modularity of code. \n",
    "\n",
    "There are several types of inheritance:"
   ]
  },
  {
   "cell_type": "code",
   "execution_count": 3,
   "id": "a8b2de44",
   "metadata": {},
   "outputs": [
    {
     "name": "stdout",
     "output_type": "stream",
     "text": [
      "Aftab\n",
      "DS\n"
     ]
    }
   ],
   "source": [
    "## 1. Single Inheritance: A class inherits from only one superclass.\n",
    "class Human:\n",
    "    def __init__ (self, name):\n",
    "        self.name = name\n",
    "    def display(self):\n",
    "        print(self.name)\n",
    "        \n",
    "class Student(Human):\n",
    "    def __init__ (self, name, course):\n",
    "        super().__init__(name)  # Human.__init__(self, name)\n",
    "        self.course = course\n",
    "    def display(self):\n",
    "        super().display()\n",
    "        print(self.course)\n",
    "        \n",
    "student1 = Student('Aftab', 'DS')\n",
    "student1.display()"
   ]
  },
  {
   "cell_type": "code",
   "execution_count": 4,
   "id": "e6501f2f",
   "metadata": {},
   "outputs": [],
   "source": [
    "## 2.Multiple Inheritance: A class inherits from multiple superclasses.\n",
    "class Human:\n",
    "    def __init__(self):\n",
    "        pass\n",
    "    \n",
    "class Citizen:\n",
    "    def __init__(self):\n",
    "        pass\n",
    "\n",
    "class Student(Human, Citizen):\n",
    "    pass"
   ]
  },
  {
   "cell_type": "code",
   "execution_count": 5,
   "id": "400f2148",
   "metadata": {},
   "outputs": [],
   "source": [
    "## 3.Hierarchical Inheritance: Multiple classes inherit from a single superclass.\n",
    "class Human:\n",
    "    def __init__(self):\n",
    "        pass\n",
    "    \n",
    "class Teacher(Human):\n",
    "    def __init__(self):\n",
    "        pass\n",
    "\n",
    "class Student(Human):\n",
    "    def __init__(self):\n",
    "        pass"
   ]
  },
  {
   "cell_type": "code",
   "execution_count": 6,
   "id": "36262893",
   "metadata": {},
   "outputs": [],
   "source": [
    "## 4.Hybrid Inheritance: A combination of multiple inheritance and hierarchical inheritance.\n",
    "class Human:\n",
    "    def __init__(self):\n",
    "        pass\n",
    "    \n",
    "class Citizen(Human):\n",
    "    def __init__(self):\n",
    "        pass\n",
    "    \n",
    "class Company:\n",
    "    def __init__(self):\n",
    "        pass\n",
    "    \n",
    "class Employee(Citizen, Company):\n",
    "    def __init__(self):\n",
    "        pass"
   ]
  },
  {
   "cell_type": "code",
   "execution_count": null,
   "id": "223f6f42",
   "metadata": {},
   "outputs": [],
   "source": []
  },
  {
   "cell_type": "code",
   "execution_count": null,
   "id": "191bb97d",
   "metadata": {},
   "outputs": [],
   "source": []
  },
  {
   "cell_type": "code",
   "execution_count": null,
   "id": "79ed03c9",
   "metadata": {},
   "outputs": [],
   "source": []
  }
 ],
 "metadata": {
  "kernelspec": {
   "display_name": "Python 3 (ipykernel)",
   "language": "python",
   "name": "python3"
  },
  "language_info": {
   "codemirror_mode": {
    "name": "ipython",
    "version": 3
   },
   "file_extension": ".py",
   "mimetype": "text/x-python",
   "name": "python",
   "nbconvert_exporter": "python",
   "pygments_lexer": "ipython3",
   "version": "3.9.7"
  }
 },
 "nbformat": 4,
 "nbformat_minor": 5
}
