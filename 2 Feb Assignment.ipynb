{
 "cells": [
  {
   "cell_type": "raw",
   "id": "c3f1c5dc",
   "metadata": {},
   "source": []
  },
  {
   "cell_type": "markdown",
   "id": "16583737",
   "metadata": {},
   "source": [
    "###### Q1. What are the characteristics of the tuples? Is tuple immutable?"
   ]
  },
  {
   "cell_type": "raw",
   "id": "6269d690",
   "metadata": {},
   "source": [
    "Tuples are a data structure in python that are used to store an ordered collection of items.\n",
    "1.\tImmutable: once created items cannot be changed\n",
    "2.\tOrdered: elements have specific order\n",
    "3.\tHeterogenous: can store data of different data types\n",
    "4.\tIterable: can be looped over just like lists\n",
    "5.\tIndexable: can access elements using index\n",
    "\n",
    "Yes. Tuples are immutable"
   ]
  },
  {
   "cell_type": "raw",
   "id": "017805e0",
   "metadata": {},
   "source": []
  },
  {
   "cell_type": "markdown",
   "id": "e4225eb1",
   "metadata": {},
   "source": [
    "###### Q2. What are the two tuple methods in python? Give an example of each method. Give a reason why tuples have only two in-built methods as compared to Lists. "
   ]
  },
  {
   "cell_type": "raw",
   "id": "da5713b2",
   "metadata": {},
   "source": [
    "The two built-in methods for tuples are \n",
    "1. count()\n",
    "2. index()\n",
    "\n",
    "limited number of built-in methods for tuples reflects the immutability and fixed size of tuples, and the methods provided to support basic operations for working with tuples."
   ]
  },
  {
   "cell_type": "code",
   "execution_count": 1,
   "id": "d0e4dc60",
   "metadata": {},
   "outputs": [
    {
     "name": "stdout",
     "output_type": "stream",
     "text": [
      "4\n",
      "5\n"
     ]
    }
   ],
   "source": [
    "arr = (1, 2, 3, 3, 2, 4, 2, 2)\n",
    "print(arr.count(2))\n",
    "print(arr.index(4))"
   ]
  },
  {
   "cell_type": "raw",
   "id": "515c7a8d",
   "metadata": {},
   "source": []
  },
  {
   "cell_type": "markdown",
   "id": "a4eed41d",
   "metadata": {},
   "source": [
    "###### Q3.  Which collection datatypes in python do not allow duplicate items? Write a code using a set to remove duplicates from the given list. \n",
    "List = [1, 1, 1, 2, 1, 3, 1, 4, 2, 1, 2, 2, 2, 3, 2, 4, 3, 1, 3, 2, 3, 3, 3, 4, 4, 1, 4, 2, 4, 3, 4, 4] \n"
   ]
  },
  {
   "cell_type": "raw",
   "id": "bdbe034f",
   "metadata": {},
   "source": [
    "set() and frozenset() are the two datatypes in python that do not allow duplicate items.\n",
    "\n",
    "set() is an unordered datatype in python do not allow duplicate items and it is mutable. It is defined using {} or set() constructor\n",
    "\n",
    "forzenset() is an immutable version of aset and does not allow duplicates. It is defined using frozenset() constructor."
   ]
  },
  {
   "cell_type": "code",
   "execution_count": 2,
   "id": "675eaca1",
   "metadata": {},
   "outputs": [
    {
     "name": "stdout",
     "output_type": "stream",
     "text": [
      "{1, 2, 3, 4}\n"
     ]
    }
   ],
   "source": [
    "list = [1, 1, 1, 2, 1, 3, 1, 4, 2, 1, 2, 2, 2, 3, 2, 4, 3, 1, 3, 2, 3, 3, 3, 4, 4, 1, 4, 2, 4, 3, 4, 4] \n",
    "arr = set(list)\n",
    "print(arr)"
   ]
  },
  {
   "cell_type": "raw",
   "id": "ced9ab16",
   "metadata": {},
   "source": []
  },
  {
   "cell_type": "markdown",
   "id": "92477537",
   "metadata": {},
   "source": [
    "###### Q4. Explain the difference between the union() and update() methods for a set. Give an example of each method.\n"
   ]
  },
  {
   "cell_type": "raw",
   "id": "9bae823a",
   "metadata": {},
   "source": [
    "Union() and update() methods are used to combine two sets in python, but they do in different ways.\n",
    "\n",
    "Union(): returns a new set that contains all the elements from both sets, without any duplicates and it does not modify original sets.     \n",
    "Update(): adds all the elements from one set to another set. It modifies the set that the method is called on, and does not return a new set.\n"
   ]
  },
  {
   "cell_type": "code",
   "execution_count": 3,
   "id": "2a068f85",
   "metadata": {},
   "outputs": [
    {
     "name": "stdout",
     "output_type": "stream",
     "text": [
      "{1, 2, 3}\n",
      "{3, 4, 5}\n",
      "{1, 2, 3, 4, 5}\n"
     ]
    }
   ],
   "source": [
    "s1 = {1,2,3}\n",
    "s2 = {3,4,5}\n",
    "s3 = s1.union(s2)\n",
    "print(s1)\n",
    "print(s2)\n",
    "print(s3)"
   ]
  },
  {
   "cell_type": "code",
   "execution_count": 4,
   "id": "27c1a422",
   "metadata": {},
   "outputs": [
    {
     "name": "stdout",
     "output_type": "stream",
     "text": [
      "{1, 2, 3, 4, 5}\n",
      "{3, 4, 5}\n"
     ]
    }
   ],
   "source": [
    "s1 = {1,2,3}\n",
    "s2 = {3,4,5}\n",
    "s1.update(s2)\n",
    "print(s1)\n",
    "print(s2)"
   ]
  },
  {
   "cell_type": "raw",
   "id": "9faa3e07",
   "metadata": {},
   "source": []
  },
  {
   "cell_type": "markdown",
   "id": "9e88bc83",
   "metadata": {},
   "source": [
    "###### Q5. What is a dictionary? Give an example. Also, state whether a dictionary is ordered or unordered. "
   ]
  },
  {
   "cell_type": "raw",
   "id": "9ff9d4d1",
   "metadata": {},
   "source": [
    "A dictionary is a collection of key value pairs, where each key is unique and maps to a specific value. Dictionaries are used to store data that needs to be looked up quickly based on key.\n",
    "\n",
    "Dictionaries are unordered. This means that the elements in a dictionary have no defined order, and the order of the elements may change when dictionary is modified."
   ]
  },
  {
   "cell_type": "code",
   "execution_count": 5,
   "id": "c0a1dffc",
   "metadata": {},
   "outputs": [
    {
     "name": "stdout",
     "output_type": "stream",
     "text": [
      "{1: 'DSA', 2: 'Data Science', 3: 'Data Analytics', 4: 'AI'}\n",
      "Data Science\n"
     ]
    }
   ],
   "source": [
    "my_dict = {\n",
    "    1 : 'DSA',\n",
    "    2 : 'Data Science',\n",
    "    3 : 'Data Analytics',\n",
    "    4 : 'AI'\n",
    "}\n",
    "print(my_dict)\n",
    "print(my_dict[2])"
   ]
  },
  {
   "cell_type": "raw",
   "id": "09a9bec1",
   "metadata": {},
   "source": []
  },
  {
   "cell_type": "markdown",
   "id": "2c1c2c3e",
   "metadata": {},
   "source": [
    "##### Q6. Can we create a nested dictionary? If so, please give an example by creating a simple one-level nested dictionary."
   ]
  },
  {
   "cell_type": "raw",
   "id": "b4e33491",
   "metadata": {},
   "source": [
    "Yes, we can create a nested dictionary. A nested dictionary is a dictionary that contains another dictionary as its value for one or more keys."
   ]
  },
  {
   "cell_type": "code",
   "execution_count": 6,
   "id": "14669e57",
   "metadata": {},
   "outputs": [
    {
     "name": "stdout",
     "output_type": "stream",
     "text": [
      "{'id': 1231, 'branches': {1: 'CSE', 2: 'DS', 3: 'IT'}, 'address': 'Andhra Pradesh'}\n",
      "\n",
      "{1: 'CSE', 2: 'DS', 3: 'IT'}\n"
     ]
    }
   ],
   "source": [
    "college = {\n",
    "    'id' : 1231,\n",
    "    'branches' : {\n",
    "        1 : 'CSE',\n",
    "        2 : 'DS',\n",
    "        3 : 'IT',\n",
    "    },\n",
    "    'address' : 'Andhra Pradesh'\n",
    "}\n",
    "print(college, end = '\\n\\n')\n",
    "print(college['branches'])"
   ]
  },
  {
   "cell_type": "raw",
   "id": "257fe108",
   "metadata": {},
   "source": []
  },
  {
   "cell_type": "markdown",
   "id": "34eeb087",
   "metadata": {},
   "source": [
    "###### Q7. Using setdefault() method, create key named topics in the given dictionary and also add the value of the key as this list ['Python', 'Machine Learning’, 'Deep Learning'] \n",
    "\n",
    "dict1 = {'language' : 'Python', 'course': 'Data Science Masters'}"
   ]
  },
  {
   "cell_type": "raw",
   "id": "85057ed5",
   "metadata": {},
   "source": [
    "setdefault() method is used to set a value for a key in a dictionary if the key does not already exits. If the key already exists, it returns the current value of the key "
   ]
  },
  {
   "cell_type": "code",
   "execution_count": 7,
   "id": "c6565b8e",
   "metadata": {},
   "outputs": [
    {
     "name": "stdout",
     "output_type": "stream",
     "text": [
      "{'language': 'Python', 'course': 'Data Science Masters'}\n",
      "\n",
      "{'language': 'Python', 'course': 'Data Science Masters', 'topics': ['Python', 'Machine Learning', 'Deep Learning']}\n"
     ]
    }
   ],
   "source": [
    "dict1 = {'language' : 'Python', 'course': 'Data Science Masters'}\n",
    "print(dict1, end = '\\n\\n')\n",
    "lst = ['Python', 'Machine Learning', 'Deep Learning']\n",
    "topics = dict1.setdefault('topics', lst);\n",
    "print(dict1)"
   ]
  },
  {
   "cell_type": "raw",
   "id": "cb6078da",
   "metadata": {},
   "source": []
  },
  {
   "cell_type": "markdown",
   "id": "1fdb4963",
   "metadata": {},
   "source": [
    "###### Q8. What are the three view objects in dictionaries? Use the three in-built methods in python to display these three view objects for the given dictionary. \n",
    "\n",
    "dict1 = {'Sport': 'Cricket' , 'Teams': ['India', 'Australia', 'England', 'South Africa', 'Sri Lanka', 'New Zealand']} "
   ]
  },
  {
   "cell_type": "raw",
   "id": "a66267c2",
   "metadata": {},
   "source": [
    "The three view objects of the dictionary are:\n",
    "1. keys()\n",
    "2. values()\n",
    "3. items()\n",
    "\n",
    "keys() : returns a view object that displays the list of all the keys in a dictionary.\n",
    "\n",
    "values(): returns a view object that displays the list of all the values in a dictionary.\n",
    "\n",
    "items(): returns a view object that displays a list of all key-value pairs in a dictionary"
   ]
  },
  {
   "cell_type": "code",
   "execution_count": 8,
   "id": "0c6d4882",
   "metadata": {},
   "outputs": [
    {
     "name": "stdout",
     "output_type": "stream",
     "text": [
      "dict_keys(['Sport', 'Teams'])\n",
      "\n",
      "dict_values(['Cricket', ['India', 'Australia', 'England', 'South Africa', 'Sri Lanka', 'New Zealand']])\n",
      "\n",
      "dict_items([('Sport', 'Cricket'), ('Teams', ['India', 'Australia', 'England', 'South Africa', 'Sri Lanka', 'New Zealand'])])\n"
     ]
    }
   ],
   "source": [
    "dict1 = {'Sport': 'Cricket' , 'Teams': ['India', 'Australia', 'England', 'South Africa', 'Sri Lanka', 'New Zealand']} \n",
    "\n",
    "print(dict1.keys(), end = '\\n\\n')\n",
    "print(dict1.values(), end = '\\n\\n')\n",
    "print(dict1.items())"
   ]
  },
  {
   "cell_type": "code",
   "execution_count": null,
   "id": "c44357e2",
   "metadata": {},
   "outputs": [],
   "source": []
  },
  {
   "cell_type": "code",
   "execution_count": null,
   "id": "fe2b3039",
   "metadata": {},
   "outputs": [],
   "source": []
  },
  {
   "cell_type": "code",
   "execution_count": null,
   "id": "e5491f3b",
   "metadata": {},
   "outputs": [],
   "source": []
  },
  {
   "cell_type": "code",
   "execution_count": null,
   "id": "ed2846a8",
   "metadata": {},
   "outputs": [],
   "source": []
  }
 ],
 "metadata": {
  "kernelspec": {
   "display_name": "Python 3 (ipykernel)",
   "language": "python",
   "name": "python3"
  },
  "language_info": {
   "codemirror_mode": {
    "name": "ipython",
    "version": 3
   },
   "file_extension": ".py",
   "mimetype": "text/x-python",
   "name": "python",
   "nbconvert_exporter": "python",
   "pygments_lexer": "ipython3",
   "version": "3.9.7"
  }
 },
 "nbformat": 4,
 "nbformat_minor": 5
}
